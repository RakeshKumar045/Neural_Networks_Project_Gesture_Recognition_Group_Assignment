{
 "cells": [
  {
   "cell_type": "markdown",
   "metadata": {
    "colab_type": "text",
    "id": "At2RrkkPQw9N"
   },
   "source": [
    "# Gesture Recognition\n",
    "In this group project, you are going to build a 3D Conv model that will be able to predict the 5 gestures correctly. Please import the following libraries to get started."
   ]
  },
  {
   "cell_type": "code",
   "execution_count": 1,
   "metadata": {
    "colab": {
     "base_uri": "https://localhost:8080/",
     "height": 34
    },
    "colab_type": "code",
    "id": "zC9BN-3CRI21",
    "outputId": "61d37a25-a377-4dd3-e808-d1b54d26768d"
   },
   "outputs": [
    {
     "ename": "ModuleNotFoundError",
     "evalue": "No module named 'google.colab'",
     "output_type": "error",
     "traceback": [
      "\u001b[0;31m---------------------------------------------------------------------------\u001b[0m",
      "\u001b[0;31mModuleNotFoundError\u001b[0m                       Traceback (most recent call last)",
      "\u001b[0;32m<ipython-input-1-4e3f0b99f19e>\u001b[0m in \u001b[0;36m<module>\u001b[0;34m\u001b[0m\n\u001b[0;32m----> 1\u001b[0;31m \u001b[0;32mfrom\u001b[0m \u001b[0mgoogle\u001b[0m\u001b[0;34m.\u001b[0m\u001b[0mcolab\u001b[0m \u001b[0;32mimport\u001b[0m \u001b[0mdrive\u001b[0m\u001b[0;34m\u001b[0m\u001b[0;34m\u001b[0m\u001b[0m\n\u001b[0m\u001b[1;32m      2\u001b[0m \u001b[0;34m\u001b[0m\u001b[0m\n\u001b[1;32m      3\u001b[0m \u001b[0mdrive\u001b[0m\u001b[0;34m.\u001b[0m\u001b[0mmount\u001b[0m\u001b[0;34m(\u001b[0m\u001b[0;34m'/content/drive'\u001b[0m\u001b[0;34m)\u001b[0m\u001b[0;34m\u001b[0m\u001b[0;34m\u001b[0m\u001b[0m\n",
      "\u001b[0;31mModuleNotFoundError\u001b[0m: No module named 'google.colab'"
     ]
    }
   ],
   "source": [
    "from google.colab import drive\n",
    "\n",
    "drive.mount('/content/drive')     "
   ]
  },
  {
   "cell_type": "code",
   "execution_count": 2,
   "metadata": {
    "colab": {
     "base_uri": "https://localhost:8080/",
     "height": 34
    },
    "colab_type": "code",
    "id": "TuqdAs8rRqRi",
    "outputId": "711a35a5-3941-46f2-9a0e-4503190353a0"
   },
   "outputs": [
    {
     "name": "stdout",
     "output_type": "stream",
     "text": [
      "ls: cannot access '/content/drive/My Drive/Colab Notebooks/Hand Gesture Recognition NB + Data/Project_data': No such file or directory\r\n"
     ]
    }
   ],
   "source": [
    "\n",
    "!ls '/content/drive/My Drive/Colab Notebooks/Hand Gesture Recognition NB + Data/Project_data'"
   ]
  },
  {
   "cell_type": "code",
   "execution_count": 3,
   "metadata": {
    "colab": {},
    "colab_type": "code",
    "id": "_E0VBgDrQw9P"
   },
   "outputs": [],
   "source": [
    "import numpy as np\n",
    "np.set_printoptions(threshold=np.inf)\n",
    "import os\n",
    "# from scipy.misc import imread, imresize\n",
    "# from matplotlib.pyplot import imread, imshow  #not good for reading images\n",
    "import matplotlib.pyplot as plt\n",
    "from skimage import io\n",
    "import datetime\n",
    "import cv2"
   ]
  },
  {
   "cell_type": "markdown",
   "metadata": {
    "colab_type": "text",
    "id": "IHJ2FwXGQw9r"
   },
   "source": [
    "We set the random seed so that the results don't vary drastically."
   ]
  },
  {
   "cell_type": "code",
   "execution_count": null,
   "metadata": {
    "colab": {
     "base_uri": "https://localhost:8080/",
     "height": 35
    },
    "colab_type": "code",
    "id": "tPnWJlOzQw9u",
    "outputId": "1cab3d83-f68d-4f45-bf19-e14f64670802"
   },
   "outputs": [
    {
     "data": {
      "application/vnd.google.colaboratory.intrinsic+json": {
       "type": "string"
      },
      "text/plain": [
       "'2.3.0'"
      ]
     },
     "execution_count": 24,
     "metadata": {
      "tags": []
     },
     "output_type": "execute_result"
    }
   ],
   "source": [
    "np.random.seed(30)\n",
    "import random as rn\n",
    "rn.seed(30)\n",
    "from keras import backend as K\n",
    "import tensorflow as tf\n",
    "tf.random.set_seed(30)\n",
    "\n",
    "import warnings \n",
    "warnings.filterwarnings('ignore')\n",
    "\n",
    "tf.__version__"
   ]
  },
  {
   "cell_type": "markdown",
   "metadata": {
    "colab_type": "text",
    "id": "we7ZTsQUQw-M"
   },
   "source": [
    "In this block, you read the folder names for training and validation. You also set the `batch_size` here. Note that you set the batch size in such a way that you are able to use the GPU in full capacity. You keep increasing the batch size until the machine throws an error."
   ]
  },
  {
   "cell_type": "code",
   "execution_count": null,
   "metadata": {
    "colab": {},
    "colab_type": "code",
    "id": "Nux5F-8jQw-R"
   },
   "outputs": [],
   "source": [
    "train_doc = np.random.permutation(open('/content/drive/My Drive/Colab Notebooks/Hand Gesture Recognition NB + Data/Project_data/train.csv').readlines())\n",
    "val_doc = np.random.permutation(open('/content/drive/My Drive/Colab Notebooks/Hand Gesture Recognition NB + Data/Project_data/val.csv').readlines())\n",
    "batch_size = 10 #experiment with the batch size"
   ]
  },
  {
   "cell_type": "code",
   "execution_count": null,
   "metadata": {
    "colab": {},
    "colab_type": "code",
    "id": "g8tLDs33Qw-k"
   },
   "outputs": [],
   "source": [
    "# train_doc[2 + (1*5)].split(';')[0]"
   ]
  },
  {
   "cell_type": "code",
   "execution_count": null,
   "metadata": {
    "colab": {},
    "colab_type": "code",
    "id": "GOvObwMNQw-7"
   },
   "outputs": [],
   "source": [
    "# os.listdir(r'C:\\Users\\Tamma\\Desktop\\PGD ML & AI\\6. Deep Learning\\6. DL Project - Gesture Recognition\\Project_data/train'+'/'+ train_doc[2 + (1*5)].split(';')[0])  #2nd folder (video) from shuffled videos folder for 1st batch with batch size of 5"
   ]
  },
  {
   "cell_type": "markdown",
   "metadata": {
    "colab_type": "text",
    "id": "U96Zh8mXQw_P"
   },
   "source": [
    "#### EDA on Images"
   ]
  },
  {
   "cell_type": "code",
   "execution_count": null,
   "metadata": {
    "colab": {
     "base_uri": "https://localhost:8080/",
     "height": 204
    },
    "colab_type": "code",
    "id": "boX6_fPXQw_R",
    "outputId": "27ac3949-ea06-4e96-e1bf-2f2c964d3e9e"
   },
   "outputs": [
    {
     "data": {
      "text/html": [
       "<div>\n",
       "<style scoped>\n",
       "    .dataframe tbody tr th:only-of-type {\n",
       "        vertical-align: middle;\n",
       "    }\n",
       "\n",
       "    .dataframe tbody tr th {\n",
       "        vertical-align: top;\n",
       "    }\n",
       "\n",
       "    .dataframe thead th {\n",
       "        text-align: right;\n",
       "    }\n",
       "</style>\n",
       "<table border=\"1\" class=\"dataframe\">\n",
       "  <thead>\n",
       "    <tr style=\"text-align: right;\">\n",
       "      <th></th>\n",
       "      <th>Video_Name</th>\n",
       "      <th>Action_name</th>\n",
       "      <th>Action_Class</th>\n",
       "    </tr>\n",
       "  </thead>\n",
       "  <tbody>\n",
       "    <tr>\n",
       "      <th>0</th>\n",
       "      <td>WIN_20180926_16_54_08_Pro_Right_Swipe_new</td>\n",
       "      <td>Right_Swipe_new</td>\n",
       "      <td>1</td>\n",
       "    </tr>\n",
       "    <tr>\n",
       "      <th>1</th>\n",
       "      <td>WIN_20180925_18_02_58_Pro_Thumbs_Down_new</td>\n",
       "      <td>Thumbs_Down_new</td>\n",
       "      <td>3</td>\n",
       "    </tr>\n",
       "    <tr>\n",
       "      <th>2</th>\n",
       "      <td>WIN_20180925_17_33_08_Pro_Left_Swipe_new</td>\n",
       "      <td>Left_Swipe_new</td>\n",
       "      <td>0</td>\n",
       "    </tr>\n",
       "    <tr>\n",
       "      <th>3</th>\n",
       "      <td>WIN_20180925_17_51_17_Pro_Thumbs_Up_new</td>\n",
       "      <td>Thumbs_Up_new</td>\n",
       "      <td>4</td>\n",
       "    </tr>\n",
       "    <tr>\n",
       "      <th>4</th>\n",
       "      <td>WIN_20180926_17_17_35_Pro_Left_Swipe_new</td>\n",
       "      <td>Left_Swipe_new</td>\n",
       "      <td>0</td>\n",
       "    </tr>\n",
       "  </tbody>\n",
       "</table>\n",
       "</div>"
      ],
      "text/plain": [
       "                                  Video_Name      Action_name Action_Class\n",
       "0  WIN_20180926_16_54_08_Pro_Right_Swipe_new  Right_Swipe_new            1\n",
       "1  WIN_20180925_18_02_58_Pro_Thumbs_Down_new  Thumbs_Down_new            3\n",
       "2   WIN_20180925_17_33_08_Pro_Left_Swipe_new   Left_Swipe_new            0\n",
       "3    WIN_20180925_17_51_17_Pro_Thumbs_Up_new    Thumbs_Up_new            4\n",
       "4   WIN_20180926_17_17_35_Pro_Left_Swipe_new   Left_Swipe_new            0"
      ]
     },
     "execution_count": 28,
     "metadata": {
      "tags": []
     },
     "output_type": "execute_result"
    }
   ],
   "source": [
    "import pandas as pd\n",
    "df = pd.DataFrame()\n",
    "Video_Name = []\n",
    "Action_name = []\n",
    "Action_Class = []\n",
    "for videoname in train_doc:\n",
    "    x = videoname.split(';')\n",
    "    Video_Name.append(x[0])\n",
    "    Action_name.append(x[1])\n",
    "    Action_Class.append(x[2].strip())\n",
    "    \n",
    "df['Video_Name'] = Video_Name\n",
    "df['Action_name'] = Action_name\n",
    "df['Action_Class'] = Action_Class\n",
    "\n",
    "\n",
    "df.head()"
   ]
  },
  {
   "cell_type": "code",
   "execution_count": null,
   "metadata": {
    "colab": {
     "base_uri": "https://localhost:8080/",
     "height": 364
    },
    "colab_type": "code",
    "id": "lZZ2UMmUQw_u",
    "outputId": "59eccde3-3531-4108-96ba-245e577a26ec"
   },
   "outputs": [
    {
     "data": {
      "text/plain": [
       "<matplotlib.axes._subplots.AxesSubplot at 0x7f30dad93f98>"
      ]
     },
     "execution_count": 29,
     "metadata": {
      "tags": []
     },
     "output_type": "execute_result"
    },
    {
     "data": {
      "image/png": "[encoded data removed]",
      "text/plain": [
       "<Figure size 1296x360 with 2 Axes>"
      ]
     },
     "metadata": {
      "needs_background": "light",
      "tags": []
     },
     "output_type": "display_data"
    }
   ],
   "source": [
    "df.Action_Class.value_counts()\n",
    "\n",
    "size = [df.Action_Class.value_counts()[0],df.Action_Class.value_counts()[1],df.Action_Class.value_counts()[2],df.Action_Class.value_counts()[3],df.Action_Class.value_counts()[4]]\n",
    "lables = ['3','1','0','2','4']\n",
    "\n",
    "plt.figure(figsize=(18,5))\n",
    "\n",
    "plt.subplot(1,2,1)\n",
    "plt.pie(size,labels=lables,shadow=True)\n",
    "plt.title('Pie')\n",
    "\n",
    "plt.subplot(1,2,2)\n",
    "plt.title('Bar')\n",
    "df.groupby('Action_Class').Action_name.count().plot(kind='bar') #Balanced"
   ]
  },
  {
   "cell_type": "markdown",
   "metadata": {
    "colab_type": "text",
    "id": "y-McdcipQw_3"
   },
   "source": [
    "#### From above Plots we can see we have balanced classes"
   ]
  },
  {
   "cell_type": "code",
   "execution_count": null,
   "metadata": {
    "colab": {
     "base_uri": "https://localhost:8080/",
     "height": 456
    },
    "colab_type": "code",
    "id": "TlI9UGS8Qw_4",
    "outputId": "f4b38b92-df39-4838-cebf-237cd06fe4f9"
   },
   "outputs": [
    {
     "name": "stdout",
     "output_type": "stream",
     "text": [
      "663\n",
      "164\n",
      "WIN_20180926_17_12_29_Pro_Thumbs_Down_new\n",
      "30\n",
      "10\n",
      "Orignal Shape of image (120, 160, 3)\n",
      "\n",
      "\n",
      "\n",
      "Resized Shape of image (120, 120, 3)\n"
     ]
    },
    {
     "data": {
      "text/plain": [
       "<matplotlib.image.AxesImage at 0x7f30d663c7f0>"
      ]
     },
     "execution_count": 30,
     "metadata": {
      "tags": []
     },
     "output_type": "execute_result"
    },
    {
     "data": {
      "image/png": "[encoded data removed]",
      "text/plain": [
       "<Figure size 432x288 with 3 Axes>"
      ]
     },
     "metadata": {
      "needs_background": "light",
      "tags": []
     },
     "output_type": "display_data"
    }
   ],
   "source": [
    "\n",
    "train_path = r'/content/drive/My Drive/Colab Notebooks/Hand Gesture Recognition NB + Data/Project_data/train'\n",
    "\n",
    "videos = os.listdir(train_path)\n",
    "print(len(videos))\n",
    "random_video_index = np.random.randint(0,len(videos))\n",
    "print(random_video_index)\n",
    "\n",
    "print(videos[random_video_index])\n",
    "\n",
    "images = os.listdir(train_path+'/'+videos[random_video_index])\n",
    "print(len(images))\n",
    "\n",
    "random_image_index = np.random.randint(0,len(images))\n",
    "print(random_image_index)\n",
    "\n",
    "img = io.imread(train_path+'/'+videos[random_video_index]+'/'+images[random_image_index])#.astype(np.float32)\n",
    "print('Orignal Shape of image',img.shape)\n",
    "# print(len(img[1]))\n",
    "# plt.imshow(img)\n",
    "import cv2\n",
    "\n",
    "resized_img = cv2.resize(img,(120,120)) #resizing the image\n",
    "print('\\n\\n\\nResized Shape of image',resized_img.shape)\n",
    "# imshow(resized_img)\n",
    "# print(resized_img[0])\n",
    "normed_resized_img = resized_img/255 #normalization\n",
    "# print(normed_resized_img[0])\n",
    "\n",
    "plt.figure()\n",
    "\n",
    "plt.subplot(2,2,1) #ploting original image\n",
    "plt.imshow(img)\n",
    "\n",
    "plt.subplot(2,2,2) #plotting resized and normalized image\n",
    "plt.imshow(normed_resized_img)\n",
    "\n",
    "plt.subplot(2,2,3) \n",
    "plt.imshow(normed_resized_img[:,:,2])\n",
    "\n",
    "\n"
   ]
  },
  {
   "cell_type": "markdown",
   "metadata": {
    "colab_type": "text",
    "id": "WDKcuqgjQw_9"
   },
   "source": [
    "## Generator\n",
    "This is one of the most important part of the code. The overall structure of the generator has been given. In the generator, you are going to preprocess the images as you have images of 2 different dimensions as well as create a batch of video frames. You have to experiment with `img_idx`, `y`,`z` and normalization such that you get high accuracy."
   ]
  },
  {
   "cell_type": "code",
   "execution_count": null,
   "metadata": {
    "colab": {},
    "colab_type": "code",
    "id": "Yg-n5v-PQw_-"
   },
   "outputs": [],
   "source": [
    "def generator(source_path, folder_list, batch_size):\n",
    "    print( 'Source path = ', source_path, '; batch size =', batch_size)\n",
    "    img_idx = list(range(5,25)) #create a list of image numbers you want to use for a particular video\n",
    "    x = len(img_idx)\n",
    "    while True:\n",
    "        t = np.random.permutation(folder_list)\n",
    "#         if len(t)%batch_size==0:\n",
    "        num_batches = int(len(t)//batch_size) # calculate the number of batches\n",
    "#         else:\n",
    "#             num_batches = int(len(t)//batch_size + 1)\n",
    "#             rest_videos_count = int(len(t)%batch_size)\n",
    "            \n",
    "        for batch in range(num_batches): # we iterate over the number of batches\n",
    "            batch_data = np.zeros((batch_size,x,120,120,3)) # x is the number of images you use for each video, (y,z) is the final size of the input images and 3 is the number of channels RGB\n",
    "            batch_labels = np.zeros((batch_size,5)) # batch_labels is the one hot representation of the output\n",
    "            for folder in range(batch_size): # iterate over the batch_size\n",
    "                imgs = os.listdir(source_path+'/'+ t[folder + (batch*batch_size)].split(';')[0]) # read all the images in the folder\n",
    "                for idx,item in enumerate(img_idx): #  Iterate iver the frames/images of a folder to read them in\n",
    "                    image = io.imread(source_path+'/'+ t[folder + (batch*batch_size)].strip().split(';')[0]+'/'+imgs[item]).astype(np.float32)\n",
    "                    \n",
    "                    #crop the images and resize them. Note that the images are of 2 different shape \n",
    "                    #and the conv3D will throw error if the inputs in a batch have different shapes\n",
    "                    resized_img = cv2.resize(image,(120,120)) #resizing the image\n",
    "                    \n",
    "                    batch_data[folder,idx,:,:,0] = resized_img[:,:,0]/255 #normalise and feed in the image\n",
    "                    batch_data[folder,idx,:,:,1] = resized_img[:,:,1]/255 #normalise and feed in the image\n",
    "                    batch_data[folder,idx,:,:,2] = resized_img[:,:,2]/255 #normalise and feed in the image\n",
    "                    \n",
    "                batch_labels[folder, int(t[folder + (batch*batch_size)].strip().split(';')[2])] = 1\n",
    "            yield batch_data, batch_labels #you yield the batch_data and the batch_labels, remember what does yield do\n",
    "            \n",
    "\n",
    "        \n",
    "        # write the code for the remaining data points which are left after full batches\n",
    "        if int(len(t)%batch_size!=0):\n",
    "            rest_videos_count = int(len(t)%batch_size)\n",
    "            for folder in range(rest_videos_count): # iterate over the batch_size\n",
    "                imgs = os.listdir(source_path+'/'+ t[folder + ((num_batches)*batch_size)].split(';')[0]) # read all the images in the folder\n",
    "                for idx,item in enumerate(img_idx): #  Iterate iver the frames/images of a folder to read them in\n",
    "                    image = io.imread(source_path+'/'+ t[folder + ((num_batches)*batch_size)].strip().split(';')[0]+'/'+imgs[item]).astype(np.float32)\n",
    "                    \n",
    "                    #crop the images and resize them. Note that the images are of 2 different shape \n",
    "                    #and the conv3D will throw error if the inputs in a batch have different shapes\n",
    "                    resized_img = cv2.resize(image,(120,120)) #resizing the image\n",
    "                    \n",
    "                    batch_data[folder,idx,:,:,0] = resized_img[:,:,0]/255 #normalise and feed in the image\n",
    "                    batch_data[folder,idx,:,:,1] = resized_img[:,:,1]/255 #normalise and feed in the image\n",
    "                    batch_data[folder,idx,:,:,2] = resized_img[:,:,2]/255 #normalise and feed in the image\n",
    "                    \n",
    "                batch_labels[folder, int(t[folder + (num_batches*batch_size)].strip().split(';')[2])] = 1\n",
    "            yield batch_data, batch_labels #you yield the batch_data and the batch_labels, remember what does yield do\n",
    "            \n",
    "                "
   ]
  },
  {
   "cell_type": "markdown",
   "metadata": {
    "colab_type": "text",
    "id": "GILahDvFQxAC"
   },
   "source": [
    "\n",
    "Note here that a video is represented above in the generator as (number of images, height, width, number of channels). Take this into consideration while creating the model architecture."
   ]
  },
  {
   "cell_type": "code",
   "execution_count": null,
   "metadata": {
    "colab": {
     "base_uri": "https://localhost:8080/",
     "height": 68
    },
    "colab_type": "code",
    "id": "p5AON95dQxAC",
    "outputId": "6f63d296-28fa-44ca-f6bb-6c5c98611c15"
   },
   "outputs": [
    {
     "name": "stdout",
     "output_type": "stream",
     "text": [
      "# training sequences = 663\n",
      "# validation sequences = 100\n",
      "# epochs = 15\n"
     ]
    }
   ],
   "source": [
    "curr_dt_time = datetime.datetime.now()\n",
    "train_path = r'/content/drive/My Drive/Colab Notebooks/Hand Gesture Recognition NB + Data/Project_data/train'\n",
    "val_path = r'/content/drive/My Drive/Colab Notebooks/Hand Gesture Recognition NB + Data/Project_data/val'\n",
    "num_train_sequences = len(train_doc)\n",
    "print('# training sequences =', num_train_sequences)\n",
    "num_val_sequences = len(val_doc)\n",
    "print('# validation sequences =', num_val_sequences)\n",
    "num_epochs = 15 # choose the number of epochs\n",
    "print ('# epochs =', num_epochs)"
   ]
  },
  {
   "cell_type": "markdown",
   "metadata": {
    "colab_type": "text",
    "id": "-PjvtuYfQxAe"
   },
   "source": [
    "Let us create the `train_generator` and the `val_generator` which will be used in `.fit_generator`."
   ]
  },
  {
   "cell_type": "code",
   "execution_count": null,
   "metadata": {
    "colab": {},
    "colab_type": "code",
    "id": "FgVv-ypH4jPF"
   },
   "outputs": [],
   "source": [
    "train_generator = generator(train_path, train_doc, batch_size)\n",
    "val_generator = generator(val_path, val_doc, batch_size)\n",
    "\n",
    "# next(train_generator)"
   ]
  },
  {
   "cell_type": "markdown",
   "metadata": {
    "colab_type": "text",
    "id": "TINqXDm0QxAn"
   },
   "source": [
    "The `steps_per_epoch` and `validation_steps` are used by `fit_generator` to decide the number of next() calls it need to make."
   ]
  },
  {
   "cell_type": "code",
   "execution_count": null,
   "metadata": {
    "colab": {
     "base_uri": "https://localhost:8080/",
     "height": 34
    },
    "colab_type": "code",
    "id": "d3FwHFZGQxAo",
    "outputId": "008adf3b-9c19-4349-a166-149e7b537c3f"
   },
   "outputs": [
    {
     "name": "stdout",
     "output_type": "stream",
     "text": [
      "67\n"
     ]
    }
   ],
   "source": [
    "if (num_train_sequences%batch_size) == 0:\n",
    "    steps_per_epoch = int(num_train_sequences/batch_size)\n",
    "else:\n",
    "    steps_per_epoch = (num_train_sequences//batch_size) + 1\n",
    "\n",
    "if (num_val_sequences%batch_size) == 0:\n",
    "    validation_steps = int(num_val_sequences/batch_size)\n",
    "else:\n",
    "    validation_steps = (num_val_sequences//batch_size) + 1\n",
    "    \n",
    "print(steps_per_epoch)"
   ]
  },
  {
   "cell_type": "markdown",
   "metadata": {
    "colab_type": "text",
    "id": "lVEhs4KXQxAI"
   },
   "source": [
    "## Model\n",
    "Here you make the model using different functionalities that Keras provides. Remember to use `Conv3D` and `MaxPooling3D` and not `Conv2D` and `Maxpooling2D` for a 3D convolution model. You would want to use `TimeDistributed` while building a Conv2D + RNN model. Also remember that the last layer is the softmax. Design the network in such a way that the model is able to give good accuracy on the least number of parameters so that it can fit in the memory of the webcam."
   ]
  },
  {
   "cell_type": "code",
   "execution_count": null,
   "metadata": {
    "colab": {},
    "colab_type": "code",
    "id": "dZXgW8LIQxAJ"
   },
   "outputs": [],
   "source": [
    "from keras.models import Sequential, Model\n",
    "from keras.layers import Dense, GRU, Flatten, TimeDistributed, Flatten, BatchNormalization, Activation, Dropout\n",
    "from keras.layers import Conv2D, MaxPooling2D\n",
    "from keras.layers.convolutional import Conv3D, MaxPooling3D\n",
    "from keras.callbacks import ModelCheckpoint, ReduceLROnPlateau\n",
    "from keras import optimizers\n"
   ]
  },
  {
   "cell_type": "code",
   "execution_count": null,
   "metadata": {
    "colab": {
     "base_uri": "https://localhost:8080/",
     "height": 34
    },
    "colab_type": "code",
    "id": "UAowzu8PQxAi",
    "outputId": "dd329fe3-f95a-437e-e5b3-1d504c8d6227"
   },
   "outputs": [
    {
     "name": "stdout",
     "output_type": "stream",
     "text": [
      "WARNING:tensorflow:`period` argument is deprecated. Please use `save_freq` to specify the frequency in number of batches seen.\n"
     ]
    }
   ],
   "source": [
    "model_name = 'model_init' + '_' + str(curr_dt_time).replace(' ','').replace(':','_') #+ '/'\n",
    "    \n",
    "if not os.path.exists(model_name):\n",
    "    os.mkdir(model_name)\n",
    "        \n",
    "filepath = model_name + 'model-{epoch:05d}-{loss:.5f}-{categorical_accuracy:.5f}-{val_loss:.5f}-{val_categorical_accuracy:.5f}.h5'\n",
    "\n",
    "checkpoint = ModelCheckpoint(filepath, monitor='val_loss', verbose=1, save_best_only=False, save_weights_only=False, mode='auto', period=1)\n",
    "\n",
    "LR = ReduceLROnPlateau(monitor='val_loss', factor=0.5, patience=2, cooldown=1, verbose=1)# write the REducelronplateau code here\n",
    "callbacks_list = [checkpoint, LR]"
   ]
  },
  {
   "cell_type": "markdown",
   "metadata": {
    "colab_type": "text",
    "id": "7j76whzOQxAT"
   },
   "source": [
    "## 3D Convolution"
   ]
  },
  {
   "cell_type": "code",
   "execution_count": null,
   "metadata": {
    "colab": {
     "base_uri": "https://localhost:8080/",
     "height": 612
    },
    "colab_type": "code",
    "id": "CM5WepIhPIM8",
    "outputId": "2aaf8bbd-b752-4b61-81f3-8d568fc95885"
   },
   "outputs": [
    {
     "name": "stdout",
     "output_type": "stream",
     "text": [
      "Model: \"sequential\"\n",
      "_________________________________________________________________\n",
      "Layer (type)                 Output Shape              Param #   \n",
      "=================================================================\n",
      "conv3d (Conv3D)              (None, 20, 120, 120, 16)  1312      \n",
      "_________________________________________________________________\n",
      "batch_normalization (BatchNo (None, 20, 120, 120, 16)  64        \n",
      "_________________________________________________________________\n",
      "conv3d_1 (Conv3D)            (None, 20, 120, 120, 32)  13856     \n",
      "_________________________________________________________________\n",
      "batch_normalization_1 (Batch (None, 20, 120, 120, 32)  128       \n",
      "_________________________________________________________________\n",
      "max_pooling3d (MaxPooling3D) (None, 10, 60, 60, 32)    0         \n",
      "_________________________________________________________________\n",
      "conv3d_2 (Conv3D)            (None, 10, 60, 60, 64)    55360     \n",
      "_________________________________________________________________\n",
      "batch_normalization_2 (Batch (None, 10, 60, 60, 64)    256       \n",
      "_________________________________________________________________\n",
      "conv3d_3 (Conv3D)            (None, 10, 60, 60, 128)   221312    \n",
      "_________________________________________________________________\n",
      "batch_normalization_3 (Batch (None, 10, 60, 60, 128)   512       \n",
      "_________________________________________________________________\n",
      "max_pooling3d_1 (MaxPooling3 (None, 5, 30, 30, 128)    0         \n",
      "_________________________________________________________________\n",
      "flatten (Flatten)            (None, 576000)            0         \n",
      "_________________________________________________________________\n",
      "dense (Dense)                (None, 256)               147456256 \n",
      "_________________________________________________________________\n",
      "dense_1 (Dense)              (None, 5)                 1285      \n",
      "=================================================================\n",
      "Total params: 147,750,341\n",
      "Trainable params: 147,749,861\n",
      "Non-trainable params: 480\n",
      "_________________________________________________________________\n",
      "None\n"
     ]
    }
   ],
   "source": [
    "\n",
    "\n",
    "model = Sequential()\n",
    "\n",
    "\n",
    "model.add(Conv3D(16, kernel_size=(3,3,3), padding='same', activation='relu',input_shape = (20,120,120,3)))\n",
    "model.add(BatchNormalization())\n",
    "model.add(Conv3D(32, kernel_size=(3,3,3), padding='same', activation='relu'))\n",
    "model.add(BatchNormalization())\n",
    "model.add(MaxPooling3D(pool_size=(2, 2, 2)))\n",
    "\n",
    "model.add(Conv3D(64, kernel_size=(3,3,3), padding='same', activation='relu'))\n",
    "model.add(BatchNormalization())\n",
    "model.add(Conv3D(128, kernel_size=(3,3,3), padding='same', activation='relu'))\n",
    "model.add(BatchNormalization())\n",
    "model.add(MaxPooling3D(pool_size=(2, 2, 2)))\n",
    "\n",
    "\n",
    "model.add(Flatten())\n",
    "model.add(Dense(256,activation='relu'))\n",
    "\n",
    "model.add(Dense(5, activation = 'softmax'))\n",
    "\n",
    "\n",
    "#Now that you have written the model, the next step is to `compile` the model. When you print the `summary` of the model, you'll see the total number of parameters you have to train.\n",
    "optimiser = 'adam'\n",
    "model.compile(optimizer=optimiser, loss='categorical_crossentropy', metrics=['categorical_accuracy'])\n",
    "print (model.summary())"
   ]
  },
  {
   "cell_type": "markdown",
   "metadata": {
    "colab_type": "text",
    "id": "5Q6YabZeQxAu"
   },
   "source": [
    "Let us now fit the model. This will start training the model and with the help of the checkpoints, you'll be able to save the model at the end of each epoch."
   ]
  },
  {
   "cell_type": "code",
   "execution_count": null,
   "metadata": {
    "colab": {
     "base_uri": "https://localhost:8080/",
     "height": 1000
    },
    "colab_type": "code",
    "id": "lpcjocWTPINB",
    "outputId": "10c28be2-e52a-4688-9708-b2bbcc221d22"
   },
   "outputs": [
    {
     "name": "stdout",
     "output_type": "stream",
     "text": [
      "Source path =  /content/drive/My Drive/Colab Notebooks/Hand Gesture Recognition NB + Data/Project_data/train ; batch size = 10\n",
      "Epoch 1/15\n",
      "67/67 [==============================] - ETA: 0s - loss: 88.4192 - categorical_accuracy: 0.3119Source path =  /content/drive/My Drive/Colab Notebooks/Hand Gesture Recognition NB + Data/Project_data/val ; batch size = 10\n",
      "\n",
      "Epoch 00001: saving model to model_init_2020-09-1217_08_28.462951model-00001-88.41923-0.31194-53.46666-0.23000.h5\n",
      "67/67 [==============================] - 84s 1s/step - loss: 88.4192 - categorical_accuracy: 0.3119 - val_loss: 53.4667 - val_categorical_accuracy: 0.2300\n",
      "Epoch 2/15\n",
      "67/67 [==============================] - ETA: 0s - loss: 4.1720 - categorical_accuracy: 0.2493\n",
      "Epoch 00002: saving model to model_init_2020-09-1217_08_28.462951model-00002-4.17196-0.24925-26.96843-0.26000.h5\n",
      "67/67 [==============================] - 86s 1s/step - loss: 4.1720 - categorical_accuracy: 0.2493 - val_loss: 26.9684 - val_categorical_accuracy: 0.2600\n",
      "Epoch 3/15\n",
      "67/67 [==============================] - ETA: 0s - loss: 1.8862 - categorical_accuracy: 0.2134\n",
      "Epoch 00003: saving model to model_init_2020-09-1217_08_28.462951model-00003-1.88622-0.21343-14.17447-0.23000.h5\n",
      "67/67 [==============================] - 86s 1s/step - loss: 1.8862 - categorical_accuracy: 0.2134 - val_loss: 14.1745 - val_categorical_accuracy: 0.2300\n",
      "Epoch 4/15\n",
      "67/67 [==============================] - ETA: 0s - loss: 1.6429 - categorical_accuracy: 0.2328\n",
      "Epoch 00004: saving model to model_init_2020-09-1217_08_28.462951model-00004-1.64292-0.23284-6.01896-0.31000.h5\n",
      "67/67 [==============================] - 86s 1s/step - loss: 1.6429 - categorical_accuracy: 0.2328 - val_loss: 6.0190 - val_categorical_accuracy: 0.3100\n",
      "Epoch 5/15\n",
      "67/67 [==============================] - ETA: 0s - loss: 1.6830 - categorical_accuracy: 0.2328\n",
      "Epoch 00005: saving model to model_init_2020-09-1217_08_28.462951model-00005-1.68296-0.23284-5.59136-0.13000.h5\n",
      "67/67 [==============================] - 88s 1s/step - loss: 1.6830 - categorical_accuracy: 0.2328 - val_loss: 5.5914 - val_categorical_accuracy: 0.1300\n",
      "Epoch 6/15\n",
      "67/67 [==============================] - ETA: 0s - loss: 1.5791 - categorical_accuracy: 0.2552\n",
      "Epoch 00006: saving model to model_init_2020-09-1217_08_28.462951model-00006-1.57911-0.25522-2.51412-0.17000.h5\n",
      "67/67 [==============================] - 85s 1s/step - loss: 1.5791 - categorical_accuracy: 0.2552 - val_loss: 2.5141 - val_categorical_accuracy: 0.1700\n",
      "Epoch 7/15\n",
      "67/67 [==============================] - ETA: 0s - loss: 1.6661 - categorical_accuracy: 0.2657\n",
      "Epoch 00007: saving model to model_init_2020-09-1217_08_28.462951model-00007-1.66609-0.26567-4.45050-0.16000.h5\n",
      "67/67 [==============================] - 82s 1s/step - loss: 1.6661 - categorical_accuracy: 0.2657 - val_loss: 4.4505 - val_categorical_accuracy: 0.1600\n",
      "Epoch 8/15\n",
      "67/67 [==============================] - ETA: 0s - loss: 1.5769 - categorical_accuracy: 0.2552\n",
      "Epoch 00008: saving model to model_init_2020-09-1217_08_28.462951model-00008-1.57691-0.25522-4.52584-0.18000.h5\n",
      "\n",
      "Epoch 00008: ReduceLROnPlateau reducing learning rate to 0.0005000000237487257.\n",
      "67/67 [==============================] - 82s 1s/step - loss: 1.5769 - categorical_accuracy: 0.2552 - val_loss: 4.5258 - val_categorical_accuracy: 0.1800\n",
      "Epoch 9/15\n",
      "67/67 [==============================] - ETA: 0s - loss: 1.6219 - categorical_accuracy: 0.2672\n",
      "Epoch 00009: saving model to model_init_2020-09-1217_08_28.462951model-00009-1.62187-0.26716-6.75722-0.18000.h5\n",
      "67/67 [==============================] - 85s 1s/step - loss: 1.6219 - categorical_accuracy: 0.2672 - val_loss: 6.7572 - val_categorical_accuracy: 0.1800\n",
      "Epoch 10/15\n",
      "67/67 [==============================] - ETA: 0s - loss: 1.5371 - categorical_accuracy: 0.2716\n",
      "Epoch 00010: saving model to model_init_2020-09-1217_08_28.462951model-00010-1.53715-0.27164-2.63986-0.21000.h5\n",
      "\n",
      "Epoch 00010: ReduceLROnPlateau reducing learning rate to 0.0002500000118743628.\n",
      "67/67 [==============================] - 86s 1s/step - loss: 1.5371 - categorical_accuracy: 0.2716 - val_loss: 2.6399 - val_categorical_accuracy: 0.2100\n",
      "Epoch 11/15\n",
      "67/67 [==============================] - ETA: 0s - loss: 1.5170 - categorical_accuracy: 0.2612\n",
      "Epoch 00011: saving model to model_init_2020-09-1217_08_28.462951model-00011-1.51697-0.26119-2.51289-0.20000.h5\n",
      "67/67 [==============================] - 81s 1s/step - loss: 1.5170 - categorical_accuracy: 0.2612 - val_loss: 2.5129 - val_categorical_accuracy: 0.2000\n",
      "Epoch 12/15\n",
      "67/67 [==============================] - ETA: 0s - loss: 1.4925 - categorical_accuracy: 0.2746\n",
      "Epoch 00012: saving model to model_init_2020-09-1217_08_28.462951model-00012-1.49250-0.27463-2.42125-0.19000.h5\n",
      "67/67 [==============================] - 84s 1s/step - loss: 1.4925 - categorical_accuracy: 0.2746 - val_loss: 2.4213 - val_categorical_accuracy: 0.1900\n",
      "Epoch 13/15\n",
      "67/67 [==============================] - ETA: 0s - loss: 1.7958 - categorical_accuracy: 0.2866\n",
      "Epoch 00013: saving model to model_init_2020-09-1217_08_28.462951model-00013-1.79578-0.28657-2.68806-0.21000.h5\n",
      "67/67 [==============================] - 81s 1s/step - loss: 1.7958 - categorical_accuracy: 0.2866 - val_loss: 2.6881 - val_categorical_accuracy: 0.2100\n",
      "Epoch 14/15\n",
      "67/67 [==============================] - ETA: 0s - loss: 1.4578 - categorical_accuracy: 0.3045\n",
      "Epoch 00014: saving model to model_init_2020-09-1217_08_28.462951model-00014-1.45775-0.30448-2.25928-0.24000.h5\n",
      "67/67 [==============================] - 81s 1s/step - loss: 1.4578 - categorical_accuracy: 0.3045 - val_loss: 2.2593 - val_categorical_accuracy: 0.2400\n",
      "Epoch 15/15\n",
      "67/67 [==============================] - ETA: 0s - loss: 1.4651 - categorical_accuracy: 0.3030\n",
      "Epoch 00015: saving model to model_init_2020-09-1217_08_28.462951model-00015-1.46506-0.30299-2.92286-0.17000.h5\n",
      "67/67 [==============================] - 81s 1s/step - loss: 1.4651 - categorical_accuracy: 0.3030 - val_loss: 2.9229 - val_categorical_accuracy: 0.1700\n"
     ]
    },
    {
     "data": {
      "text/plain": [
       "<tensorflow.python.keras.callbacks.History at 0x7fdbe3dae7f0>"
      ]
     },
     "execution_count": 48,
     "metadata": {
      "tags": []
     },
     "output_type": "execute_result"
    }
   ],
   "source": [
    "model.fit_generator(train_generator, steps_per_epoch=steps_per_epoch, epochs=num_epochs, verbose=1, \n",
    "                    callbacks=callbacks_list, validation_data=val_generator, \n",
    "                    validation_steps=validation_steps, class_weight=None, workers=1, initial_epoch=0)"
   ]
  },
  {
   "cell_type": "markdown",
   "metadata": {
    "colab_type": "text",
    "id": "lUVP5Vkn6csA"
   },
   "source": [
    "Very Bad network\n"
   ]
  },
  {
   "cell_type": "code",
   "execution_count": null,
   "metadata": {
    "colab": {
     "base_uri": "https://localhost:8080/",
     "height": 782
    },
    "colab_type": "code",
    "id": "lD_177I40r2z",
    "outputId": "8d053830-eb65-4cd9-803a-88f0cbf9be4a"
   },
   "outputs": [
    {
     "name": "stdout",
     "output_type": "stream",
     "text": [
      "Model: \"sequential_2\"\n",
      "_________________________________________________________________\n",
      "Layer (type)                 Output Shape              Param #   \n",
      "=================================================================\n",
      "conv3d_10 (Conv3D)           (None, 20, 120, 120, 16)  1312      \n",
      "_________________________________________________________________\n",
      "batch_normalization_10 (Batc (None, 20, 120, 120, 16)  64        \n",
      "_________________________________________________________________\n",
      "conv3d_11 (Conv3D)           (None, 20, 120, 120, 32)  13856     \n",
      "_________________________________________________________________\n",
      "batch_normalization_11 (Batc (None, 20, 120, 120, 32)  128       \n",
      "_________________________________________________________________\n",
      "max_pooling3d_5 (MaxPooling3 (None, 10, 60, 60, 32)    0         \n",
      "_________________________________________________________________\n",
      "conv3d_12 (Conv3D)           (None, 10, 60, 60, 64)    55360     \n",
      "_________________________________________________________________\n",
      "batch_normalization_12 (Batc (None, 10, 60, 60, 64)    256       \n",
      "_________________________________________________________________\n",
      "conv3d_13 (Conv3D)           (None, 10, 60, 60, 128)   221312    \n",
      "_________________________________________________________________\n",
      "batch_normalization_13 (Batc (None, 10, 60, 60, 128)   512       \n",
      "_________________________________________________________________\n",
      "max_pooling3d_6 (MaxPooling3 (None, 5, 30, 30, 128)    0         \n",
      "_________________________________________________________________\n",
      "conv3d_14 (Conv3D)           (None, 5, 30, 30, 128)    442496    \n",
      "_________________________________________________________________\n",
      "batch_normalization_14 (Batc (None, 5, 30, 30, 128)    512       \n",
      "_________________________________________________________________\n",
      "conv3d_15 (Conv3D)           (None, 5, 30, 30, 128)    442496    \n",
      "_________________________________________________________________\n",
      "batch_normalization_15 (Batc (None, 5, 30, 30, 128)    512       \n",
      "_________________________________________________________________\n",
      "max_pooling3d_7 (MaxPooling3 (None, 2, 15, 15, 128)    0         \n",
      "_________________________________________________________________\n",
      "flatten_2 (Flatten)          (None, 57600)             0         \n",
      "_________________________________________________________________\n",
      "dense_4 (Dense)              (None, 256)               14745856  \n",
      "_________________________________________________________________\n",
      "dense_5 (Dense)              (None, 5)                 1285      \n",
      "=================================================================\n",
      "Total params: 15,925,957\n",
      "Trainable params: 15,924,965\n",
      "Non-trainable params: 992\n",
      "_________________________________________________________________\n",
      "None\n"
     ]
    }
   ],
   "source": [
    "#adding more layers to the same architecture\n",
    "\n",
    "model = Sequential()\n",
    "\n",
    "\n",
    "model.add(Conv3D(16, kernel_size=(3,3,3), padding='same', activation='relu',input_shape = (20,120,120,3)))\n",
    "model.add(BatchNormalization())\n",
    "model.add(Conv3D(32, kernel_size=(3,3,3), padding='same', activation='relu'))\n",
    "model.add(BatchNormalization())\n",
    "model.add(MaxPooling3D(pool_size=(2, 2, 2)))\n",
    "\n",
    "model.add(Conv3D(64, kernel_size=(3,3,3), padding='same', activation='relu'))\n",
    "model.add(BatchNormalization())\n",
    "model.add(Conv3D(128, kernel_size=(3,3,3), padding='same', activation='relu'))\n",
    "model.add(BatchNormalization())\n",
    "model.add(MaxPooling3D(pool_size=(2, 2, 2)))\n",
    "\n",
    "model.add(Conv3D(128, kernel_size=(3,3,3), padding='same', activation='relu'))\n",
    "model.add(BatchNormalization())\n",
    "model.add(Conv3D(128, kernel_size=(3,3,3), padding='same', activation='relu'))\n",
    "model.add(BatchNormalization())\n",
    "model.add(MaxPooling3D(pool_size=(2, 2, 2)))\n",
    "\n",
    "\n",
    "model.add(Flatten())\n",
    "model.add(Dense(256,activation='relu'))\n",
    "\n",
    "model.add(Dense(5, activation = 'softmax'))\n",
    "\n",
    "\n",
    "#Now that you have written the model, the next step is to `compile` the model. When you print the `summary` of the model, you'll see the total number of parameters you have to train.\n",
    "optimiser = 'adam'\n",
    "model.compile(optimizer=optimiser, loss='categorical_crossentropy', metrics=['categorical_accuracy'])\n",
    "print (model.summary())"
   ]
  },
  {
   "cell_type": "code",
   "execution_count": null,
   "metadata": {
    "colab": {
     "base_uri": "https://localhost:8080/",
     "height": 1000
    },
    "colab_type": "code",
    "id": "o_5-H4tt1Dgd",
    "outputId": "f98ce14e-4e98-43bc-c147-b9fd85c96e3b"
   },
   "outputs": [
    {
     "name": "stdout",
     "output_type": "stream",
     "text": [
      "WARNING:tensorflow:From <ipython-input-24-bd77c9c60c14>:3: Model.fit_generator (from tensorflow.python.keras.engine.training) is deprecated and will be removed in a future version.\n",
      "Instructions for updating:\n",
      "Please use Model.fit, which supports generators.\n",
      "Source path =  /content/drive/My Drive/Colab Notebooks/Hand Gesture Recognition NB + Data/Project_data/train ; batch size = 10\n",
      "Epoch 1/15\n",
      " 2/67 [..............................] - ETA: 18s - loss: 83.7423 - categorical_accuracy: 0.1000  WARNING:tensorflow:Callbacks method `on_train_batch_end` is slow compared to the batch time (batch time: 0.1946s vs `on_train_batch_end` time: 0.3738s). Check your callbacks.\n",
      "67/67 [==============================] - ETA: 0s - loss: 10.8984 - categorical_accuracy: 0.2881Source path =  /content/drive/My Drive/Colab Notebooks/Hand Gesture Recognition NB + Data/Project_data/val ; batch size = 10\n",
      "\n",
      "Epoch 00001: saving model to model_init_2020-09-1217_41_47.592660model-00001-10.89839-0.28806-28.72539-0.21000.h5\n",
      "67/67 [==============================] - 72s 1s/step - loss: 10.8984 - categorical_accuracy: 0.2881 - val_loss: 28.7254 - val_categorical_accuracy: 0.2100\n",
      "Epoch 2/15\n",
      "67/67 [==============================] - ETA: 0s - loss: 1.4855 - categorical_accuracy: 0.4164\n",
      "Epoch 00002: saving model to model_init_2020-09-1217_41_47.592660model-00002-1.48552-0.41642-13.14732-0.14000.h5\n",
      "67/67 [==============================] - 69s 1s/step - loss: 1.4855 - categorical_accuracy: 0.4164 - val_loss: 13.1473 - val_categorical_accuracy: 0.1400\n",
      "Epoch 3/15\n",
      "67/67 [==============================] - ETA: 0s - loss: 1.3204 - categorical_accuracy: 0.4985\n",
      "Epoch 00003: saving model to model_init_2020-09-1217_41_47.592660model-00003-1.32041-0.49851-4.69207-0.20000.h5\n",
      "67/67 [==============================] - 68s 1s/step - loss: 1.3204 - categorical_accuracy: 0.4985 - val_loss: 4.6921 - val_categorical_accuracy: 0.2000\n",
      "Epoch 4/15\n",
      "67/67 [==============================] - ETA: 0s - loss: 1.0751 - categorical_accuracy: 0.5522\n",
      "Epoch 00004: saving model to model_init_2020-09-1217_41_47.592660model-00004-1.07512-0.55224-3.16388-0.25000.h5\n",
      "67/67 [==============================] - 68s 1s/step - loss: 1.0751 - categorical_accuracy: 0.5522 - val_loss: 3.1639 - val_categorical_accuracy: 0.2500\n",
      "Epoch 5/15\n",
      "67/67 [==============================] - ETA: 0s - loss: 0.9549 - categorical_accuracy: 0.6343\n",
      "Epoch 00005: saving model to model_init_2020-09-1217_41_47.592660model-00005-0.95494-0.63433-2.08879-0.32000.h5\n",
      "67/67 [==============================] - 69s 1s/step - loss: 0.9549 - categorical_accuracy: 0.6343 - val_loss: 2.0888 - val_categorical_accuracy: 0.3200\n",
      "Epoch 6/15\n",
      "67/67 [==============================] - ETA: 0s - loss: 0.8814 - categorical_accuracy: 0.6582\n",
      "Epoch 00006: saving model to model_init_2020-09-1217_41_47.592660model-00006-0.88141-0.65821-2.52669-0.49000.h5\n",
      "67/67 [==============================] - 68s 1s/step - loss: 0.8814 - categorical_accuracy: 0.6582 - val_loss: 2.5267 - val_categorical_accuracy: 0.4900\n",
      "Epoch 7/15\n",
      "67/67 [==============================] - ETA: 0s - loss: 0.7883 - categorical_accuracy: 0.7104\n",
      "Epoch 00007: saving model to model_init_2020-09-1217_41_47.592660model-00007-0.78834-0.71045-1.40972-0.58000.h5\n",
      "67/67 [==============================] - 68s 1s/step - loss: 0.7883 - categorical_accuracy: 0.7104 - val_loss: 1.4097 - val_categorical_accuracy: 0.5800\n",
      "Epoch 8/15\n",
      "67/67 [==============================] - ETA: 0s - loss: 0.8744 - categorical_accuracy: 0.6836\n",
      "Epoch 00008: saving model to model_init_2020-09-1217_41_47.592660model-00008-0.87440-0.68358-2.02905-0.52000.h5\n",
      "67/67 [==============================] - 68s 1s/step - loss: 0.8744 - categorical_accuracy: 0.6836 - val_loss: 2.0291 - val_categorical_accuracy: 0.5200\n",
      "Epoch 9/15\n",
      "67/67 [==============================] - ETA: 0s - loss: 0.7810 - categorical_accuracy: 0.7164\n",
      "Epoch 00009: saving model to model_init_2020-09-1217_41_47.592660model-00009-0.78100-0.71642-1.91897-0.64000.h5\n",
      "\n",
      "Epoch 00009: ReduceLROnPlateau reducing learning rate to 0.0005000000237487257.\n",
      "67/67 [==============================] - 68s 1s/step - loss: 0.7810 - categorical_accuracy: 0.7164 - val_loss: 1.9190 - val_categorical_accuracy: 0.6400\n",
      "Epoch 10/15\n",
      "67/67 [==============================] - ETA: 0s - loss: 0.5344 - categorical_accuracy: 0.8164\n",
      "Epoch 00010: saving model to model_init_2020-09-1217_41_47.592660model-00010-0.53435-0.81642-0.94399-0.65000.h5\n",
      "67/67 [==============================] - 69s 1s/step - loss: 0.5344 - categorical_accuracy: 0.8164 - val_loss: 0.9440 - val_categorical_accuracy: 0.6500\n",
      "Epoch 11/15\n",
      "67/67 [==============================] - ETA: 0s - loss: 0.3793 - categorical_accuracy: 0.8716\n",
      "Epoch 00011: saving model to model_init_2020-09-1217_41_47.592660model-00011-0.37931-0.87164-0.86602-0.72000.h5\n",
      "67/67 [==============================] - 69s 1s/step - loss: 0.3793 - categorical_accuracy: 0.8716 - val_loss: 0.8660 - val_categorical_accuracy: 0.7200\n",
      "Epoch 12/15\n",
      "67/67 [==============================] - ETA: 0s - loss: 0.2908 - categorical_accuracy: 0.8925\n",
      "Epoch 00012: saving model to model_init_2020-09-1217_41_47.592660model-00012-0.29085-0.89254-0.97899-0.64000.h5\n",
      "67/67 [==============================] - 68s 1s/step - loss: 0.2908 - categorical_accuracy: 0.8925 - val_loss: 0.9790 - val_categorical_accuracy: 0.6400\n",
      "Epoch 13/15\n",
      "67/67 [==============================] - ETA: 0s - loss: 0.3086 - categorical_accuracy: 0.9134\n",
      "Epoch 00013: saving model to model_init_2020-09-1217_41_47.592660model-00013-0.30862-0.91343-1.05342-0.72000.h5\n",
      "\n",
      "Epoch 00013: ReduceLROnPlateau reducing learning rate to 0.0002500000118743628.\n",
      "67/67 [==============================] - 68s 1s/step - loss: 0.3086 - categorical_accuracy: 0.9134 - val_loss: 1.0534 - val_categorical_accuracy: 0.7200\n",
      "Epoch 14/15\n",
      "67/67 [==============================] - ETA: 0s - loss: 0.2090 - categorical_accuracy: 0.9269\n",
      "Epoch 00014: saving model to model_init_2020-09-1217_41_47.592660model-00014-0.20901-0.92687-0.64961-0.76000.h5\n",
      "67/67 [==============================] - 69s 1s/step - loss: 0.2090 - categorical_accuracy: 0.9269 - val_loss: 0.6496 - val_categorical_accuracy: 0.7600\n",
      "Epoch 15/15\n",
      "67/67 [==============================] - ETA: 0s - loss: 0.2045 - categorical_accuracy: 0.9418\n",
      "Epoch 00015: saving model to model_init_2020-09-1217_41_47.592660model-00015-0.20455-0.94179-0.88515-0.70000.h5\n",
      "67/67 [==============================] - 68s 1s/step - loss: 0.2045 - categorical_accuracy: 0.9418 - val_loss: 0.8851 - val_categorical_accuracy: 0.7000\n"
     ]
    },
    {
     "data": {
      "text/plain": [
       "<tensorflow.python.keras.callbacks.History at 0x7f754aa15ac8>"
      ]
     },
     "execution_count": 24,
     "metadata": {
      "tags": []
     },
     "output_type": "execute_result"
    }
   ],
   "source": [
    "model.fit_generator(train_generator, steps_per_epoch=steps_per_epoch, epochs=num_epochs, verbose=1, \n",
    "                    callbacks=callbacks_list, validation_data=val_generator, \n",
    "                    validation_steps=validation_steps, class_weight=None, workers=1, initial_epoch=0)"
   ]
  },
  {
   "cell_type": "markdown",
   "metadata": {
    "colab_type": "text",
    "id": "ziQ7A64B6mhj"
   },
   "source": [
    "Better accuracy on Train , overfit "
   ]
  },
  {
   "cell_type": "code",
   "execution_count": null,
   "metadata": {
    "colab": {
     "base_uri": "https://localhost:8080/",
     "height": 816
    },
    "colab_type": "code",
    "id": "YJpOxaFD7Dlr",
    "outputId": "856eb36b-975c-44b9-aa70-2c66eea664e5"
   },
   "outputs": [
    {
     "name": "stdout",
     "output_type": "stream",
     "text": [
      "Model: \"sequential_9\"\n",
      "_________________________________________________________________\n",
      "Layer (type)                 Output Shape              Param #   \n",
      "=================================================================\n",
      "conv3d_48 (Conv3D)           (None, 20, 120, 120, 16)  1312      \n",
      "_________________________________________________________________\n",
      "batch_normalization_48 (Batc (None, 20, 120, 120, 16)  64        \n",
      "_________________________________________________________________\n",
      "conv3d_49 (Conv3D)           (None, 20, 120, 120, 32)  13856     \n",
      "_________________________________________________________________\n",
      "batch_normalization_49 (Batc (None, 20, 120, 120, 32)  128       \n",
      "_________________________________________________________________\n",
      "max_pooling3d_28 (MaxPooling (None, 10, 60, 60, 32)    0         \n",
      "_________________________________________________________________\n",
      "conv3d_50 (Conv3D)           (None, 10, 60, 60, 64)    55360     \n",
      "_________________________________________________________________\n",
      "batch_normalization_50 (Batc (None, 10, 60, 60, 64)    256       \n",
      "_________________________________________________________________\n",
      "conv3d_51 (Conv3D)           (None, 10, 60, 60, 128)   221312    \n",
      "_________________________________________________________________\n",
      "batch_normalization_51 (Batc (None, 10, 60, 60, 128)   512       \n",
      "_________________________________________________________________\n",
      "max_pooling3d_29 (MaxPooling (None, 5, 30, 30, 128)    0         \n",
      "_________________________________________________________________\n",
      "conv3d_52 (Conv3D)           (None, 5, 30, 30, 128)    442496    \n",
      "_________________________________________________________________\n",
      "batch_normalization_52 (Batc (None, 5, 30, 30, 128)    512       \n",
      "_________________________________________________________________\n",
      "conv3d_53 (Conv3D)           (None, 5, 30, 30, 128)    442496    \n",
      "_________________________________________________________________\n",
      "batch_normalization_53 (Batc (None, 5, 30, 30, 128)    512       \n",
      "_________________________________________________________________\n",
      "max_pooling3d_30 (MaxPooling (None, 2, 15, 15, 128)    0         \n",
      "_________________________________________________________________\n",
      "flatten_9 (Flatten)          (None, 57600)             0         \n",
      "_________________________________________________________________\n",
      "dense_18 (Dense)             (None, 256)               14745856  \n",
      "_________________________________________________________________\n",
      "dropout_6 (Dropout)          (None, 256)               0         \n",
      "_________________________________________________________________\n",
      "dense_19 (Dense)             (None, 5)                 1285      \n",
      "=================================================================\n",
      "Total params: 15,925,957\n",
      "Trainable params: 15,924,965\n",
      "Non-trainable params: 992\n",
      "_________________________________________________________________\n",
      "None\n"
     ]
    }
   ],
   "source": [
    "#Let's use Dropouts at the Dense layer\n",
    "\n",
    "model_dr = Sequential()\n",
    "\n",
    "\n",
    "model_dr.add(Conv3D(16, kernel_size=(3,3,3), padding='same', activation='relu',input_shape = (20,120,120,3)))\n",
    "model_dr.add(BatchNormalization())\n",
    "model_dr.add(Conv3D(32, kernel_size=(3,3,3), padding='same', activation='relu'))\n",
    "model_dr.add(BatchNormalization())\n",
    "model_dr.add(MaxPooling3D(pool_size=(2, 2, 2)))\n",
    "\n",
    "model_dr.add(Conv3D(64, kernel_size=(3,3,3), padding='same', activation='relu'))\n",
    "model_dr.add(BatchNormalization())\n",
    "model_dr.add(Conv3D(128, kernel_size=(3,3,3), padding='same', activation='relu'))\n",
    "model_dr.add(BatchNormalization())\n",
    "model_dr.add(MaxPooling3D(pool_size=(2, 2, 2)))\n",
    "\n",
    "model_dr.add(Conv3D(128, kernel_size=(3,3,3), padding='same', activation='relu'))\n",
    "model_dr.add(BatchNormalization())\n",
    "model_dr.add(Conv3D(128, kernel_size=(3,3,3), padding='same', activation='relu'))\n",
    "model_dr.add(BatchNormalization())\n",
    "model_dr.add(MaxPooling3D(pool_size=(2, 2, 2)))\n",
    "\n",
    "\n",
    "model_dr.add(Flatten())\n",
    "model_dr.add(Dense(256,activation='relu'))\n",
    "model_dr.add(Dropout(0.30))\n",
    "\n",
    "model_dr.add(Dense(5, activation = 'softmax'))\n",
    "\n",
    "\n",
    "#Now that you have written the model, the next step is to `compile` the model. When you print the `summary` of the model, you'll see the total number of parameters you have to train.\n",
    "optimiser = 'adam'\n",
    "model_dr.compile(optimizer=optimiser, loss='categorical_crossentropy', metrics=['categorical_accuracy'])\n",
    "print (model_dr.summary())"
   ]
  },
  {
   "cell_type": "code",
   "execution_count": null,
   "metadata": {
    "colab": {
     "base_uri": "https://localhost:8080/",
     "height": 1000
    },
    "colab_type": "code",
    "id": "RMUVtcev7PH8",
    "outputId": "8667577b-4c2d-4599-af75-6497e683b6a3"
   },
   "outputs": [
    {
     "name": "stdout",
     "output_type": "stream",
     "text": [
      "Epoch 1/15\n",
      "67/67 [==============================] - ETA: 0s - loss: 14.6221 - categorical_accuracy: 0.3343\n",
      "Epoch 00001: saving model to model_init_2020-09-1217_41_47.592660model-00001-14.62211-0.33433-12.58319-0.18000.h5\n",
      "67/67 [==============================] - 69s 1s/step - loss: 14.6221 - categorical_accuracy: 0.3343 - val_loss: 12.5832 - val_categorical_accuracy: 0.1800\n",
      "Epoch 2/15\n",
      "67/67 [==============================] - ETA: 0s - loss: 1.5238 - categorical_accuracy: 0.3642\n",
      "Epoch 00002: saving model to model_init_2020-09-1217_41_47.592660model-00002-1.52377-0.36418-3.76881-0.26000.h5\n",
      "67/67 [==============================] - 67s 1s/step - loss: 1.5238 - categorical_accuracy: 0.3642 - val_loss: 3.7688 - val_categorical_accuracy: 0.2600\n",
      "Epoch 3/15\n",
      "67/67 [==============================] - ETA: 0s - loss: 1.3361 - categorical_accuracy: 0.4299\n",
      "Epoch 00003: saving model to model_init_2020-09-1217_41_47.592660model-00003-1.33612-0.42985-2.76596-0.25000.h5\n",
      "67/67 [==============================] - 68s 1s/step - loss: 1.3361 - categorical_accuracy: 0.4299 - val_loss: 2.7660 - val_categorical_accuracy: 0.2500\n",
      "Epoch 4/15\n",
      "67/67 [==============================] - ETA: 0s - loss: 1.2241 - categorical_accuracy: 0.4507\n",
      "Epoch 00004: saving model to model_init_2020-09-1217_41_47.592660model-00004-1.22412-0.45075-3.44552-0.28000.h5\n",
      "67/67 [==============================] - 68s 1s/step - loss: 1.2241 - categorical_accuracy: 0.4507 - val_loss: 3.4455 - val_categorical_accuracy: 0.2800\n",
      "Epoch 5/15\n",
      "67/67 [==============================] - ETA: 0s - loss: 1.3227 - categorical_accuracy: 0.4269\n",
      "Epoch 00005: saving model to model_init_2020-09-1217_41_47.592660model-00005-1.32274-0.42687-1.88937-0.21000.h5\n",
      "67/67 [==============================] - 68s 1s/step - loss: 1.3227 - categorical_accuracy: 0.4269 - val_loss: 1.8894 - val_categorical_accuracy: 0.2100\n",
      "Epoch 6/15\n",
      "67/67 [==============================] - ETA: 0s - loss: 1.2013 - categorical_accuracy: 0.4866\n",
      "Epoch 00006: saving model to model_init_2020-09-1217_41_47.592660model-00006-1.20128-0.48657-3.69567-0.16000.h5\n",
      "67/67 [==============================] - 68s 1s/step - loss: 1.2013 - categorical_accuracy: 0.4866 - val_loss: 3.6957 - val_categorical_accuracy: 0.1600\n",
      "Epoch 7/15\n",
      "67/67 [==============================] - ETA: 0s - loss: 1.1330 - categorical_accuracy: 0.4940\n",
      "Epoch 00007: saving model to model_init_2020-09-1217_41_47.592660model-00007-1.13302-0.49403-1.91120-0.25000.h5\n",
      "\n",
      "Epoch 00007: ReduceLROnPlateau reducing learning rate to 0.0005000000237487257.\n",
      "67/67 [==============================] - 68s 1s/step - loss: 1.1330 - categorical_accuracy: 0.4940 - val_loss: 1.9112 - val_categorical_accuracy: 0.2500\n",
      "Epoch 8/15\n",
      "67/67 [==============================] - ETA: 0s - loss: 1.0614 - categorical_accuracy: 0.5672\n",
      "Epoch 00008: saving model to model_init_2020-09-1217_41_47.592660model-00008-1.06137-0.56716-1.62919-0.34000.h5\n",
      "67/67 [==============================] - 68s 1s/step - loss: 1.0614 - categorical_accuracy: 0.5672 - val_loss: 1.6292 - val_categorical_accuracy: 0.3400\n",
      "Epoch 9/15\n",
      "67/67 [==============================] - ETA: 0s - loss: 1.0805 - categorical_accuracy: 0.5851\n",
      "Epoch 00009: saving model to model_init_2020-09-1217_41_47.592660model-00009-1.08054-0.58507-1.85385-0.41000.h5\n",
      "67/67 [==============================] - 68s 1s/step - loss: 1.0805 - categorical_accuracy: 0.5851 - val_loss: 1.8538 - val_categorical_accuracy: 0.4100\n",
      "Epoch 10/15\n",
      "67/67 [==============================] - ETA: 0s - loss: 0.9649 - categorical_accuracy: 0.5910\n",
      "Epoch 00010: saving model to model_init_2020-09-1217_41_47.592660model-00010-0.96490-0.59104-1.57492-0.50000.h5\n",
      "67/67 [==============================] - 68s 1s/step - loss: 0.9649 - categorical_accuracy: 0.5910 - val_loss: 1.5749 - val_categorical_accuracy: 0.5000\n",
      "Epoch 11/15\n",
      "67/67 [==============================] - ETA: 0s - loss: 0.9564 - categorical_accuracy: 0.6060\n",
      "Epoch 00011: saving model to model_init_2020-09-1217_41_47.592660model-00011-0.95640-0.60597-1.10027-0.65000.h5\n",
      "67/67 [==============================] - 67s 1s/step - loss: 0.9564 - categorical_accuracy: 0.6060 - val_loss: 1.1003 - val_categorical_accuracy: 0.6500\n",
      "Epoch 12/15\n",
      "67/67 [==============================] - ETA: 0s - loss: 0.9324 - categorical_accuracy: 0.6119\n",
      "Epoch 00012: saving model to model_init_2020-09-1217_41_47.592660model-00012-0.93237-0.61194-1.06805-0.61000.h5\n",
      "67/67 [==============================] - 68s 1s/step - loss: 0.9324 - categorical_accuracy: 0.6119 - val_loss: 1.0680 - val_categorical_accuracy: 0.6100\n",
      "Epoch 13/15\n",
      "67/67 [==============================] - ETA: 0s - loss: 0.9495 - categorical_accuracy: 0.6060\n",
      "Epoch 00013: saving model to model_init_2020-09-1217_41_47.592660model-00013-0.94955-0.60597-1.35661-0.52000.h5\n",
      "67/67 [==============================] - 68s 1s/step - loss: 0.9495 - categorical_accuracy: 0.6060 - val_loss: 1.3566 - val_categorical_accuracy: 0.5200\n",
      "Epoch 14/15\n",
      "67/67 [==============================] - ETA: 0s - loss: 1.0220 - categorical_accuracy: 0.5776\n",
      "Epoch 00014: saving model to model_init_2020-09-1217_41_47.592660model-00014-1.02201-0.57761-1.53148-0.57000.h5\n",
      "\n",
      "Epoch 00014: ReduceLROnPlateau reducing learning rate to 0.0002500000118743628.\n",
      "67/67 [==============================] - 68s 1s/step - loss: 1.0220 - categorical_accuracy: 0.5776 - val_loss: 1.5315 - val_categorical_accuracy: 0.5700\n",
      "Epoch 15/15\n",
      "67/67 [==============================] - ETA: 0s - loss: 0.8696 - categorical_accuracy: 0.6284\n",
      "Epoch 00015: saving model to model_init_2020-09-1217_41_47.592660model-00015-0.86959-0.62836-1.26215-0.58000.h5\n",
      "67/67 [==============================] - 68s 1s/step - loss: 0.8696 - categorical_accuracy: 0.6284 - val_loss: 1.2622 - val_categorical_accuracy: 0.5800\n"
     ]
    },
    {
     "data": {
      "text/plain": [
       "<tensorflow.python.keras.callbacks.History at 0x7f74e4773400>"
      ]
     },
     "execution_count": 29,
     "metadata": {
      "tags": []
     },
     "output_type": "execute_result"
    }
   ],
   "source": [
    "model_dr.fit_generator(train_generator, steps_per_epoch=steps_per_epoch, epochs=num_epochs, verbose=1, \n",
    "                    callbacks=callbacks_list, validation_data=val_generator, \n",
    "                    validation_steps=validation_steps, class_weight=None, workers=1, initial_epoch=0)"
   ]
  },
  {
   "cell_type": "markdown",
   "metadata": {
    "colab_type": "text",
    "id": "JOHujL9577ng"
   },
   "source": [
    "#### Didn't work and has lot of parameters... \n",
    "<br> Let's Change the Architecture"
   ]
  },
  {
   "cell_type": "code",
   "execution_count": null,
   "metadata": {
    "colab": {
     "base_uri": "https://localhost:8080/",
     "height": 714
    },
    "colab_type": "code",
    "id": "9VqqDHosQxAU",
    "outputId": "8e0978cf-1fc1-4553-d86b-7d12004e87be"
   },
   "outputs": [
    {
     "name": "stdout",
     "output_type": "stream",
     "text": [
      "Model: \"sequential\"\n",
      "_________________________________________________________________\n",
      "Layer (type)                 Output Shape              Param #   \n",
      "=================================================================\n",
      "conv3d (Conv3D)              (None, 20, 120, 120, 16)  1312      \n",
      "_________________________________________________________________\n",
      "batch_normalization (BatchNo (None, 20, 120, 120, 16)  64        \n",
      "_________________________________________________________________\n",
      "max_pooling3d (MaxPooling3D) (None, 10, 60, 60, 16)    0         \n",
      "_________________________________________________________________\n",
      "conv3d_1 (Conv3D)            (None, 10, 60, 60, 32)    13856     \n",
      "_________________________________________________________________\n",
      "batch_normalization_1 (Batch (None, 10, 60, 60, 32)    128       \n",
      "_________________________________________________________________\n",
      "max_pooling3d_1 (MaxPooling3 (None, 5, 30, 30, 32)     0         \n",
      "_________________________________________________________________\n",
      "conv3d_2 (Conv3D)            (None, 5, 30, 30, 64)     55360     \n",
      "_________________________________________________________________\n",
      "batch_normalization_2 (Batch (None, 5, 30, 30, 64)     256       \n",
      "_________________________________________________________________\n",
      "max_pooling3d_2 (MaxPooling3 (None, 2, 15, 15, 64)     0         \n",
      "_________________________________________________________________\n",
      "conv3d_3 (Conv3D)            (None, 2, 15, 15, 128)    221312    \n",
      "_________________________________________________________________\n",
      "batch_normalization_3 (Batch (None, 2, 15, 15, 128)    512       \n",
      "_________________________________________________________________\n",
      "max_pooling3d_3 (MaxPooling3 (None, 1, 7, 7, 128)      0         \n",
      "_________________________________________________________________\n",
      "flatten (Flatten)            (None, 6272)              0         \n",
      "_________________________________________________________________\n",
      "dense (Dense)                (None, 128)               802944    \n",
      "_________________________________________________________________\n",
      "dropout (Dropout)            (None, 128)               0         \n",
      "_________________________________________________________________\n",
      "dense_1 (Dense)              (None, 5)                 645       \n",
      "=================================================================\n",
      "Total params: 1,096,389\n",
      "Trainable params: 1,095,909\n",
      "Non-trainable params: 480\n",
      "_________________________________________________________________\n",
      "None\n"
     ]
    }
   ],
   "source": [
    "#using pooling after each convolution with dropouts .30 at the dense layer\n",
    "\n",
    "model_1 = Sequential()\n",
    "\n",
    "\n",
    "model_1.add(Conv3D(16, kernel_size=(3,3,3), padding='same', activation='relu',input_shape = (20,120,120,3)))\n",
    "model_1.add(BatchNormalization())\n",
    "model_1.add(MaxPooling3D(pool_size=(2, 2, 2)))\n",
    "\n",
    "model_1.add(Conv3D(32, kernel_size=(3,3,3), padding='same', activation='relu'))\n",
    "model_1.add(BatchNormalization())\n",
    "model_1.add(MaxPooling3D(pool_size=(2, 2, 2)))\n",
    "\n",
    "model_1.add(Conv3D(64, kernel_size=(3,3,3), padding='same', activation='relu'))\n",
    "model_1.add(BatchNormalization())\n",
    "model_1.add(MaxPooling3D(pool_size=(2, 2, 2)))\n",
    "\n",
    "model_1.add(Conv3D(128, kernel_size=(3,3,3), padding='same', activation='relu'))\n",
    "model_1.add(BatchNormalization())\n",
    "model_1.add(MaxPooling3D(pool_size=(2, 2, 2)))\n",
    "\n",
    "model_1.add(Flatten())\n",
    "model_1.add(Dense(128,activation='relu'))\n",
    "model_1.add(Dropout(0.30))\n",
    "\n",
    "model_1.add(Dense(5, activation = 'softmax'))\n",
    "\n",
    "\n",
    "#Now that you have written the model, the next step is to `compile` the model. When you print the `summary` of the model, you'll see the total number of parameters you have to train.\n",
    "optimiser = 'adam'\n",
    "model_1.compile(optimizer=optimiser, loss='categorical_crossentropy', metrics=['categorical_accuracy'])\n",
    "print (model_1.summary())"
   ]
  },
  {
   "cell_type": "code",
   "execution_count": null,
   "metadata": {
    "colab": {
     "base_uri": "https://localhost:8080/",
     "height": 1000
    },
    "colab_type": "code",
    "id": "TncpAWcaQxAu",
    "outputId": "426356eb-38c4-4a01-e954-977647c70bb4",
    "scrolled": true
   },
   "outputs": [
    {
     "name": "stdout",
     "output_type": "stream",
     "text": [
      "Epoch 1/15\n",
      "67/67 [==============================] - ETA: 0s - loss: 3.2454 - categorical_accuracy: 0.4060\n",
      "Epoch 00001: saving model to model_init_2020-09-1119_46_27.026760model-00001-3.24535-0.40597-3.96470-0.15000.h5\n",
      "67/67 [==============================] - 79s 1s/step - loss: 3.2454 - categorical_accuracy: 0.4060 - val_loss: 3.9647 - val_categorical_accuracy: 0.1500\n",
      "Epoch 2/15\n",
      "67/67 [==============================] - ETA: 0s - loss: 1.2465 - categorical_accuracy: 0.5433\n",
      "Epoch 00002: saving model to model_init_2020-09-1119_46_27.026760model-00002-1.24651-0.54328-4.69771-0.25000.h5\n",
      "67/67 [==============================] - 79s 1s/step - loss: 1.2465 - categorical_accuracy: 0.5433 - val_loss: 4.6977 - val_categorical_accuracy: 0.2500\n",
      "Epoch 3/15\n",
      "67/67 [==============================] - ETA: 0s - loss: 1.0624 - categorical_accuracy: 0.5985\n",
      "Epoch 00003: saving model to model_init_2020-09-1119_46_27.026760model-00003-1.06245-0.59851-5.42624-0.23000.h5\n",
      "\n",
      "Epoch 00003: ReduceLROnPlateau reducing learning rate to 0.0005000000237487257.\n",
      "67/67 [==============================] - 79s 1s/step - loss: 1.0624 - categorical_accuracy: 0.5985 - val_loss: 5.4262 - val_categorical_accuracy: 0.2300\n",
      "Epoch 4/15\n",
      "67/67 [==============================] - ETA: 0s - loss: 0.8489 - categorical_accuracy: 0.6657\n",
      "Epoch 00004: saving model to model_init_2020-09-1119_46_27.026760model-00004-0.84888-0.66567-5.77542-0.31000.h5\n",
      "67/67 [==============================] - 80s 1s/step - loss: 0.8489 - categorical_accuracy: 0.6657 - val_loss: 5.7754 - val_categorical_accuracy: 0.3100\n",
      "Epoch 5/15\n",
      "67/67 [==============================] - ETA: 0s - loss: 0.6815 - categorical_accuracy: 0.7373\n",
      "Epoch 00005: saving model to model_init_2020-09-1119_46_27.026760model-00005-0.68148-0.73731-4.12745-0.30000.h5\n",
      "\n",
      "Epoch 00005: ReduceLROnPlateau reducing learning rate to 0.0002500000118743628.\n",
      "67/67 [==============================] - 77s 1s/step - loss: 0.6815 - categorical_accuracy: 0.7373 - val_loss: 4.1275 - val_categorical_accuracy: 0.3000\n",
      "Epoch 6/15\n",
      "67/67 [==============================] - ETA: 0s - loss: 0.4816 - categorical_accuracy: 0.7925\n",
      "Epoch 00006: saving model to model_init_2020-09-1119_46_27.026760model-00006-0.48155-0.79254-3.26518-0.36000.h5\n",
      "67/67 [==============================] - 78s 1s/step - loss: 0.4816 - categorical_accuracy: 0.7925 - val_loss: 3.2652 - val_categorical_accuracy: 0.3600\n",
      "Epoch 7/15\n",
      "67/67 [==============================] - ETA: 0s - loss: 0.4278 - categorical_accuracy: 0.8299\n",
      "Epoch 00007: saving model to model_init_2020-09-1119_46_27.026760model-00007-0.42778-0.82985-1.60883-0.48000.h5\n",
      "67/67 [==============================] - 78s 1s/step - loss: 0.4278 - categorical_accuracy: 0.8299 - val_loss: 1.6088 - val_categorical_accuracy: 0.4800\n",
      "Epoch 8/15\n",
      "67/67 [==============================] - ETA: 0s - loss: 0.4165 - categorical_accuracy: 0.8463\n",
      "Epoch 00008: saving model to model_init_2020-09-1119_46_27.026760model-00008-0.41654-0.84627-1.22793-0.61000.h5\n",
      "67/67 [==============================] - 81s 1s/step - loss: 0.4165 - categorical_accuracy: 0.8463 - val_loss: 1.2279 - val_categorical_accuracy: 0.6100\n",
      "Epoch 9/15\n",
      "67/67 [==============================] - ETA: 0s - loss: 0.4045 - categorical_accuracy: 0.8672\n",
      "Epoch 00009: saving model to model_init_2020-09-1119_46_27.026760model-00009-0.40452-0.86716-0.92026-0.66000.h5\n",
      "67/67 [==============================] - 78s 1s/step - loss: 0.4045 - categorical_accuracy: 0.8672 - val_loss: 0.9203 - val_categorical_accuracy: 0.6600\n",
      "Epoch 10/15\n",
      "67/67 [==============================] - ETA: 0s - loss: 0.3266 - categorical_accuracy: 0.8866\n",
      "Epoch 00010: saving model to model_init_2020-09-1119_46_27.026760model-00010-0.32658-0.88657-0.84070-0.71000.h5\n",
      "67/67 [==============================] - 79s 1s/step - loss: 0.3266 - categorical_accuracy: 0.8866 - val_loss: 0.8407 - val_categorical_accuracy: 0.7100\n",
      "Epoch 11/15\n",
      "67/67 [==============================] - ETA: 0s - loss: 0.3129 - categorical_accuracy: 0.8910\n",
      "Epoch 00011: saving model to model_init_2020-09-1119_46_27.026760model-00011-0.31292-0.89104-0.77805-0.78000.h5\n",
      "67/67 [==============================] - 80s 1s/step - loss: 0.3129 - categorical_accuracy: 0.8910 - val_loss: 0.7781 - val_categorical_accuracy: 0.7800\n",
      "Epoch 12/15\n",
      "67/67 [==============================] - ETA: 0s - loss: 0.2904 - categorical_accuracy: 0.9149\n",
      "Epoch 00012: saving model to model_init_2020-09-1119_46_27.026760model-00012-0.29045-0.91493-1.29637-0.58000.h5\n",
      "67/67 [==============================] - 79s 1s/step - loss: 0.2904 - categorical_accuracy: 0.9149 - val_loss: 1.2964 - val_categorical_accuracy: 0.5800\n",
      "Epoch 13/15\n",
      "67/67 [==============================] - ETA: 0s - loss: 0.2716 - categorical_accuracy: 0.8970\n",
      "Epoch 00013: saving model to model_init_2020-09-1119_46_27.026760model-00013-0.27155-0.89701-1.06749-0.64000.h5\n",
      "\n",
      "Epoch 00013: ReduceLROnPlateau reducing learning rate to 0.0001250000059371814.\n",
      "67/67 [==============================] - 79s 1s/step - loss: 0.2716 - categorical_accuracy: 0.8970 - val_loss: 1.0675 - val_categorical_accuracy: 0.6400\n",
      "Epoch 14/15\n",
      "67/67 [==============================] - ETA: 0s - loss: 0.1955 - categorical_accuracy: 0.9418\n",
      "Epoch 00014: saving model to model_init_2020-09-1119_46_27.026760model-00014-0.19554-0.94179-0.77345-0.73000.h5\n",
      "67/67 [==============================] - 80s 1s/step - loss: 0.1955 - categorical_accuracy: 0.9418 - val_loss: 0.7734 - val_categorical_accuracy: 0.7300\n",
      "Epoch 15/15\n",
      "67/67 [==============================] - ETA: 0s - loss: 0.1434 - categorical_accuracy: 0.9552\n",
      "Epoch 00015: saving model to model_init_2020-09-1119_46_27.026760model-00015-0.14340-0.95522-0.77848-0.74000.h5\n",
      "67/67 [==============================] - 81s 1s/step - loss: 0.1434 - categorical_accuracy: 0.9552 - val_loss: 0.7785 - val_categorical_accuracy: 0.7400\n"
     ]
    },
    {
     "data": {
      "text/plain": [
       "<tensorflow.python.keras.callbacks.History at 0x7ffabc243e80>"
      ]
     },
     "execution_count": 81,
     "metadata": {
      "tags": []
     },
     "output_type": "execute_result"
    }
   ],
   "source": [
    "model_1.fit_generator(train_generator, steps_per_epoch=steps_per_epoch, epochs=num_epochs, verbose=1, \n",
    "                    callbacks=callbacks_list, validation_data=val_generator, \n",
    "                    validation_steps=validation_steps, class_weight=None, workers=1, initial_epoch=0)"
   ]
  },
  {
   "cell_type": "markdown",
   "metadata": {
    "colab_type": "text",
    "id": "Dz2Va_7HqYlE"
   },
   "source": [
    "OVerfit  model at last epoch but at 11th epoch Train : 89 and Valid 78 <br>\n",
    "let's tune it"
   ]
  },
  {
   "cell_type": "code",
   "execution_count": null,
   "metadata": {
    "colab": {
     "base_uri": "https://localhost:8080/",
     "height": 714
    },
    "colab_type": "code",
    "id": "xklt5q2DzsX3",
    "outputId": "fbe69f26-fac2-4751-e3c5-33a5ef27f932"
   },
   "outputs": [
    {
     "name": "stdout",
     "output_type": "stream",
     "text": [
      "Model: \"sequential_10\"\n",
      "_________________________________________________________________\n",
      "Layer (type)                 Output Shape              Param #   \n",
      "=================================================================\n",
      "conv3d_40 (Conv3D)           (None, 20, 120, 120, 16)  1312      \n",
      "_________________________________________________________________\n",
      "batch_normalization_40 (Batc (None, 20, 120, 120, 16)  64        \n",
      "_________________________________________________________________\n",
      "max_pooling3d_40 (MaxPooling (None, 10, 60, 60, 16)    0         \n",
      "_________________________________________________________________\n",
      "conv3d_41 (Conv3D)           (None, 10, 60, 60, 32)    13856     \n",
      "_________________________________________________________________\n",
      "batch_normalization_41 (Batc (None, 10, 60, 60, 32)    128       \n",
      "_________________________________________________________________\n",
      "max_pooling3d_41 (MaxPooling (None, 5, 30, 30, 32)     0         \n",
      "_________________________________________________________________\n",
      "conv3d_42 (Conv3D)           (None, 5, 30, 30, 64)     55360     \n",
      "_________________________________________________________________\n",
      "batch_normalization_42 (Batc (None, 5, 30, 30, 64)     256       \n",
      "_________________________________________________________________\n",
      "max_pooling3d_42 (MaxPooling (None, 2, 15, 15, 64)     0         \n",
      "_________________________________________________________________\n",
      "conv3d_43 (Conv3D)           (None, 2, 15, 15, 128)    221312    \n",
      "_________________________________________________________________\n",
      "batch_normalization_43 (Batc (None, 2, 15, 15, 128)    512       \n",
      "_________________________________________________________________\n",
      "max_pooling3d_43 (MaxPooling (None, 1, 7, 7, 128)      0         \n",
      "_________________________________________________________________\n",
      "flatten_10 (Flatten)         (None, 6272)              0         \n",
      "_________________________________________________________________\n",
      "dense_20 (Dense)             (None, 128)               802944    \n",
      "_________________________________________________________________\n",
      "dropout_10 (Dropout)         (None, 128)               0         \n",
      "_________________________________________________________________\n",
      "dense_21 (Dense)             (None, 5)                 645       \n",
      "=================================================================\n",
      "Total params: 1,096,389\n",
      "Trainable params: 1,095,909\n",
      "Non-trainable params: 480\n",
      "_________________________________________________________________\n",
      "None\n"
     ]
    }
   ],
   "source": [
    "# Dropout increase to 0.5\n",
    "\n",
    "model = Sequential()\n",
    "\n",
    "\n",
    "model.add(Conv3D(16, kernel_size=(3,3,3), padding='same', activation='relu',input_shape = (20,120,120,3)))\n",
    "model.add(BatchNormalization())\n",
    "model.add(MaxPooling3D(pool_size=(2, 2, 2)))\n",
    "\n",
    "model.add(Conv3D(32, kernel_size=(3,3,3), padding='same', activation='relu'))\n",
    "model.add(BatchNormalization())\n",
    "model.add(MaxPooling3D(pool_size=(2, 2, 2)))\n",
    "\n",
    "model.add(Conv3D(64, kernel_size=(3,3,3), padding='same', activation='relu'))\n",
    "model.add(BatchNormalization())\n",
    "model.add(MaxPooling3D(pool_size=(2, 2, 2)))\n",
    "\n",
    "model.add(Conv3D(128, kernel_size=(3,3,3), padding='same', activation='relu'))\n",
    "model.add(BatchNormalization())\n",
    "model.add(MaxPooling3D(pool_size=(2, 2, 2)))\n",
    "\n",
    "model.add(Flatten())\n",
    "model.add(Dense(128,activation='relu'))\n",
    "model.add(Dropout(0.50))\n",
    "\n",
    "model.add(Dense(5, activation = 'softmax'))\n",
    "\n",
    "optimiser = 'adam'\n",
    "model.compile(optimizer=optimiser, loss='categorical_crossentropy', metrics=['categorical_accuracy'])\n",
    "print (model.summary())"
   ]
  },
  {
   "cell_type": "code",
   "execution_count": null,
   "metadata": {
    "colab": {
     "base_uri": "https://localhost:8080/",
     "height": 1000
    },
    "colab_type": "code",
    "id": "0pcStIGBzyU8",
    "outputId": "34497e42-c48f-4a1a-a472-97829218a23d"
   },
   "outputs": [
    {
     "name": "stdout",
     "output_type": "stream",
     "text": [
      "Epoch 1/15\n",
      "67/67 [==============================] - ETA: 0s - loss: 2.9512 - categorical_accuracy: 0.3552\n",
      "Epoch 00001: saving model to model_init_2020-09-1218_42_38.903196model-00001-2.95120-0.35522-8.38063-0.12000.h5\n",
      "67/67 [==============================] - 62s 924ms/step - loss: 2.9512 - categorical_accuracy: 0.3552 - val_loss: 8.3806 - val_categorical_accuracy: 0.1200\n",
      "Epoch 2/15\n",
      "67/67 [==============================] - ETA: 0s - loss: 1.5364 - categorical_accuracy: 0.3612\n",
      "Epoch 00002: saving model to model_init_2020-09-1218_42_38.903196model-00002-1.53637-0.36119-12.90571-0.27000.h5\n",
      "67/67 [==============================] - 63s 937ms/step - loss: 1.5364 - categorical_accuracy: 0.3612 - val_loss: 12.9057 - val_categorical_accuracy: 0.2700\n",
      "Epoch 3/15\n",
      "67/67 [==============================] - ETA: 0s - loss: 1.2892 - categorical_accuracy: 0.4582\n",
      "Epoch 00003: saving model to model_init_2020-09-1218_42_38.903196model-00003-1.28924-0.45821-8.59470-0.29000.h5\n",
      "\n",
      "Epoch 00003: ReduceLROnPlateau reducing learning rate to 0.0005000000237487257.\n",
      "67/67 [==============================] - 63s 940ms/step - loss: 1.2892 - categorical_accuracy: 0.4582 - val_loss: 8.5947 - val_categorical_accuracy: 0.2900\n",
      "Epoch 4/15\n",
      "67/67 [==============================] - ETA: 0s - loss: 1.1090 - categorical_accuracy: 0.5388\n",
      "Epoch 00004: saving model to model_init_2020-09-1218_42_38.903196model-00004-1.10895-0.53881-11.51858-0.23000.h5\n",
      "67/67 [==============================] - 63s 944ms/step - loss: 1.1090 - categorical_accuracy: 0.5388 - val_loss: 11.5186 - val_categorical_accuracy: 0.2300\n",
      "Epoch 5/15\n",
      "67/67 [==============================] - ETA: 0s - loss: 1.0738 - categorical_accuracy: 0.5522\n",
      "Epoch 00005: saving model to model_init_2020-09-1218_42_38.903196model-00005-1.07383-0.55224-15.59371-0.20000.h5\n",
      "\n",
      "Epoch 00005: ReduceLROnPlateau reducing learning rate to 0.0002500000118743628.\n",
      "67/67 [==============================] - 64s 958ms/step - loss: 1.0738 - categorical_accuracy: 0.5522 - val_loss: 15.5937 - val_categorical_accuracy: 0.2000\n",
      "Epoch 6/15\n",
      "67/67 [==============================] - ETA: 0s - loss: 0.9634 - categorical_accuracy: 0.6104\n",
      "Epoch 00006: saving model to model_init_2020-09-1218_42_38.903196model-00006-0.96338-0.61045-8.92326-0.23000.h5\n",
      "67/67 [==============================] - 62s 930ms/step - loss: 0.9634 - categorical_accuracy: 0.6104 - val_loss: 8.9233 - val_categorical_accuracy: 0.2300\n",
      "Epoch 7/15\n",
      "67/67 [==============================] - ETA: 0s - loss: 0.8953 - categorical_accuracy: 0.6537\n",
      "Epoch 00007: saving model to model_init_2020-09-1218_42_38.903196model-00007-0.89532-0.65373-4.71104-0.34000.h5\n",
      "67/67 [==============================] - 63s 934ms/step - loss: 0.8953 - categorical_accuracy: 0.6537 - val_loss: 4.7110 - val_categorical_accuracy: 0.3400\n",
      "Epoch 8/15\n",
      "67/67 [==============================] - ETA: 0s - loss: 0.7892 - categorical_accuracy: 0.6657\n",
      "Epoch 00008: saving model to model_init_2020-09-1218_42_38.903196model-00008-0.78917-0.66567-2.84645-0.37000.h5\n",
      "67/67 [==============================] - 63s 933ms/step - loss: 0.7892 - categorical_accuracy: 0.6657 - val_loss: 2.8465 - val_categorical_accuracy: 0.3700\n",
      "Epoch 9/15\n",
      "67/67 [==============================] - ETA: 0s - loss: 0.7359 - categorical_accuracy: 0.7015\n",
      "Epoch 00009: saving model to model_init_2020-09-1218_42_38.903196model-00009-0.73589-0.70149-1.80658-0.50000.h5\n",
      "67/67 [==============================] - 62s 932ms/step - loss: 0.7359 - categorical_accuracy: 0.7015 - val_loss: 1.8066 - val_categorical_accuracy: 0.5000\n",
      "Epoch 10/15\n",
      "67/67 [==============================] - ETA: 0s - loss: 0.7300 - categorical_accuracy: 0.6776\n",
      "Epoch 00010: saving model to model_init_2020-09-1218_42_38.903196model-00010-0.73005-0.67761-0.99100-0.67000.h5\n",
      "67/67 [==============================] - 65s 972ms/step - loss: 0.7300 - categorical_accuracy: 0.6776 - val_loss: 0.9910 - val_categorical_accuracy: 0.6700\n",
      "Epoch 11/15\n",
      "67/67 [==============================] - ETA: 0s - loss: 0.6459 - categorical_accuracy: 0.7269\n",
      "Epoch 00011: saving model to model_init_2020-09-1218_42_38.903196model-00011-0.64589-0.72687-1.16186-0.60000.h5\n",
      "67/67 [==============================] - 62s 926ms/step - loss: 0.6459 - categorical_accuracy: 0.7269 - val_loss: 1.1619 - val_categorical_accuracy: 0.6000\n",
      "Epoch 12/15\n",
      "67/67 [==============================] - ETA: 0s - loss: 0.6466 - categorical_accuracy: 0.7075\n",
      "Epoch 00012: saving model to model_init_2020-09-1218_42_38.903196model-00012-0.64655-0.70746-0.88864-0.70000.h5\n",
      "67/67 [==============================] - 64s 954ms/step - loss: 0.6466 - categorical_accuracy: 0.7075 - val_loss: 0.8886 - val_categorical_accuracy: 0.7000\n",
      "Epoch 13/15\n",
      "67/67 [==============================] - ETA: 0s - loss: 0.5734 - categorical_accuracy: 0.7552\n",
      "Epoch 00013: saving model to model_init_2020-09-1218_42_38.903196model-00013-0.57336-0.75522-0.78245-0.71000.h5\n",
      "67/67 [==============================] - 63s 942ms/step - loss: 0.5734 - categorical_accuracy: 0.7552 - val_loss: 0.7824 - val_categorical_accuracy: 0.7100\n",
      "Epoch 14/15\n",
      "67/67 [==============================] - ETA: 0s - loss: 0.5523 - categorical_accuracy: 0.7597\n",
      "Epoch 00014: saving model to model_init_2020-09-1218_42_38.903196model-00014-0.55226-0.75970-1.29723-0.61000.h5\n",
      "67/67 [==============================] - 64s 962ms/step - loss: 0.5523 - categorical_accuracy: 0.7597 - val_loss: 1.2972 - val_categorical_accuracy: 0.6100\n",
      "Epoch 15/15\n",
      "67/67 [==============================] - ETA: 0s - loss: 0.5678 - categorical_accuracy: 0.7642\n",
      "Epoch 00015: saving model to model_init_2020-09-1218_42_38.903196model-00015-0.56777-0.76418-1.72648-0.64000.h5\n",
      "\n",
      "Epoch 00015: ReduceLROnPlateau reducing learning rate to 0.0001250000059371814.\n",
      "67/67 [==============================] - 64s 955ms/step - loss: 0.5678 - categorical_accuracy: 0.7642 - val_loss: 1.7265 - val_categorical_accuracy: 0.6400\n"
     ]
    },
    {
     "data": {
      "text/plain": [
       "<tensorflow.python.keras.callbacks.History at 0x7f503b5b47f0>"
      ]
     },
     "execution_count": 48,
     "metadata": {
      "tags": []
     },
     "output_type": "execute_result"
    }
   ],
   "source": [
    "model.fit_generator(train_generator, steps_per_epoch=steps_per_epoch, epochs=num_epochs, verbose=1, \n",
    "                    callbacks=callbacks_list, validation_data=val_generator, \n",
    "                    validation_steps=validation_steps, class_weight=None, workers=1, initial_epoch=0)"
   ]
  },
  {
   "cell_type": "markdown",
   "metadata": {
    "colab_type": "text",
    "id": "qGsmPzvmqiV6"
   },
   "source": [
    "Let's try increasing epochs<br>\n",
    "epoch 13 -> train - 75 and test 71 BEST\n"
   ]
  },
  {
   "cell_type": "code",
   "execution_count": null,
   "metadata": {
    "colab": {
     "base_uri": "https://localhost:8080/",
     "height": 714
    },
    "colab_type": "code",
    "id": "Kg0Wp1gjEE90",
    "outputId": "0342e7d7-db7c-4650-c13a-0f57734bfb83"
   },
   "outputs": [
    {
     "name": "stdout",
     "output_type": "stream",
     "text": [
      "Model: \"sequential_8\"\n",
      "_________________________________________________________________\n",
      "Layer (type)                 Output Shape              Param #   \n",
      "=================================================================\n",
      "conv3d_32 (Conv3D)           (None, 20, 120, 120, 16)  1312      \n",
      "_________________________________________________________________\n",
      "batch_normalization_32 (Batc (None, 20, 120, 120, 16)  64        \n",
      "_________________________________________________________________\n",
      "max_pooling3d_32 (MaxPooling (None, 10, 60, 60, 16)    0         \n",
      "_________________________________________________________________\n",
      "conv3d_33 (Conv3D)           (None, 10, 60, 60, 32)    13856     \n",
      "_________________________________________________________________\n",
      "batch_normalization_33 (Batc (None, 10, 60, 60, 32)    128       \n",
      "_________________________________________________________________\n",
      "max_pooling3d_33 (MaxPooling (None, 5, 30, 30, 32)     0         \n",
      "_________________________________________________________________\n",
      "conv3d_34 (Conv3D)           (None, 5, 30, 30, 64)     55360     \n",
      "_________________________________________________________________\n",
      "batch_normalization_34 (Batc (None, 5, 30, 30, 64)     256       \n",
      "_________________________________________________________________\n",
      "max_pooling3d_34 (MaxPooling (None, 2, 15, 15, 64)     0         \n",
      "_________________________________________________________________\n",
      "conv3d_35 (Conv3D)           (None, 2, 15, 15, 128)    221312    \n",
      "_________________________________________________________________\n",
      "batch_normalization_35 (Batc (None, 2, 15, 15, 128)    512       \n",
      "_________________________________________________________________\n",
      "max_pooling3d_35 (MaxPooling (None, 1, 7, 7, 128)      0         \n",
      "_________________________________________________________________\n",
      "flatten_8 (Flatten)          (None, 6272)              0         \n",
      "_________________________________________________________________\n",
      "dense_16 (Dense)             (None, 128)               802944    \n",
      "_________________________________________________________________\n",
      "dropout_8 (Dropout)          (None, 128)               0         \n",
      "_________________________________________________________________\n",
      "dense_17 (Dense)             (None, 5)                 645       \n",
      "=================================================================\n",
      "Total params: 1,096,389\n",
      "Trainable params: 1,095,909\n",
      "Non-trainable params: 480\n",
      "_________________________________________________________________\n",
      "None\n"
     ]
    }
   ],
   "source": [
    "\n",
    "model = Sequential()\n",
    "\n",
    "\n",
    "model.add(Conv3D(16, kernel_size=(3,3,3), padding='same', activation='relu',input_shape = (20,120,120,3)))\n",
    "model.add(BatchNormalization())\n",
    "model.add(MaxPooling3D(pool_size=(2, 2, 2)))\n",
    "\n",
    "model.add(Conv3D(32, kernel_size=(3,3,3), padding='same', activation='relu'))\n",
    "model.add(BatchNormalization())\n",
    "model.add(MaxPooling3D(pool_size=(2, 2, 2)))\n",
    "\n",
    "model.add(Conv3D(64, kernel_size=(3,3,3), padding='same', activation='relu'))\n",
    "model.add(BatchNormalization())\n",
    "model.add(MaxPooling3D(pool_size=(2, 2, 2)))\n",
    "\n",
    "model.add(Conv3D(128, kernel_size=(3,3,3), padding='same', activation='relu'))\n",
    "model.add(BatchNormalization())\n",
    "model.add(MaxPooling3D(pool_size=(2, 2, 2)))\n",
    "\n",
    "model.add(Flatten())\n",
    "model.add(Dense(128,activation='relu'))\n",
    "model.add(Dropout(0.50))\n",
    "\n",
    "model.add(Dense(5, activation = 'softmax'))\n",
    "\n",
    "optimiser = 'adam'\n",
    "model.compile(optimizer=optimiser, loss='categorical_crossentropy', metrics=['categorical_accuracy'])\n",
    "print (model.summary())\n",
    "\n"
   ]
  },
  {
   "cell_type": "code",
   "execution_count": null,
   "metadata": {
    "colab": {
     "base_uri": "https://localhost:8080/",
     "height": 1000
    },
    "colab_type": "code",
    "id": "vIbh8K1cEVis",
    "outputId": "1d65e615-177f-4687-f809-63ada7f1fcf2"
   },
   "outputs": [
    {
     "name": "stdout",
     "output_type": "stream",
     "text": [
      "Epoch 1/25\n",
      "67/67 [==============================] - ETA: 0s - loss: 2.7030 - categorical_accuracy: 0.3239\n",
      "Epoch 00001: saving model to model_init_2020-09-1218_42_38.903196model-00001-2.70296-0.32388-3.99076-0.22000.h5\n",
      "67/67 [==============================] - 61s 916ms/step - loss: 2.7030 - categorical_accuracy: 0.3239 - val_loss: 3.9908 - val_categorical_accuracy: 0.2200\n",
      "Epoch 2/25\n",
      "67/67 [==============================] - ETA: 0s - loss: 1.4518 - categorical_accuracy: 0.3642\n",
      "Epoch 00002: saving model to model_init_2020-09-1218_42_38.903196model-00002-1.45180-0.36418-6.75898-0.13000.h5\n",
      "67/67 [==============================] - 62s 924ms/step - loss: 1.4518 - categorical_accuracy: 0.3642 - val_loss: 6.7590 - val_categorical_accuracy: 0.1300\n",
      "Epoch 3/25\n",
      "67/67 [==============================] - ETA: 0s - loss: 1.3700 - categorical_accuracy: 0.3687\n",
      "Epoch 00003: saving model to model_init_2020-09-1218_42_38.903196model-00003-1.36997-0.36866-6.73103-0.31000.h5\n",
      "\n",
      "Epoch 00003: ReduceLROnPlateau reducing learning rate to 0.0005000000237487257.\n",
      "67/67 [==============================] - 62s 930ms/step - loss: 1.3700 - categorical_accuracy: 0.3687 - val_loss: 6.7310 - val_categorical_accuracy: 0.3100\n",
      "Epoch 4/25\n",
      "67/67 [==============================] - ETA: 0s - loss: 1.2967 - categorical_accuracy: 0.4060\n",
      "Epoch 00004: saving model to model_init_2020-09-1218_42_38.903196model-00004-1.29672-0.40597-4.97622-0.22000.h5\n",
      "67/67 [==============================] - 62s 919ms/step - loss: 1.2967 - categorical_accuracy: 0.4060 - val_loss: 4.9762 - val_categorical_accuracy: 0.2200\n",
      "Epoch 5/25\n",
      "67/67 [==============================] - ETA: 0s - loss: 1.2153 - categorical_accuracy: 0.4358\n",
      "Epoch 00005: saving model to model_init_2020-09-1218_42_38.903196model-00005-1.21528-0.43582-3.38893-0.32000.h5\n",
      "67/67 [==============================] - 60s 902ms/step - loss: 1.2153 - categorical_accuracy: 0.4358 - val_loss: 3.3889 - val_categorical_accuracy: 0.3200\n",
      "Epoch 6/25\n",
      "67/67 [==============================] - ETA: 0s - loss: 1.1089 - categorical_accuracy: 0.5015\n",
      "Epoch 00006: saving model to model_init_2020-09-1218_42_38.903196model-00006-1.10887-0.50149-3.39634-0.35000.h5\n",
      "67/67 [==============================] - 61s 916ms/step - loss: 1.1089 - categorical_accuracy: 0.5015 - val_loss: 3.3963 - val_categorical_accuracy: 0.3500\n",
      "Epoch 7/25\n",
      "67/67 [==============================] - ETA: 0s - loss: 1.0833 - categorical_accuracy: 0.5299\n",
      "Epoch 00007: saving model to model_init_2020-09-1218_42_38.903196model-00007-1.08326-0.52985-1.92419-0.39000.h5\n",
      "67/67 [==============================] - 61s 910ms/step - loss: 1.0833 - categorical_accuracy: 0.5299 - val_loss: 1.9242 - val_categorical_accuracy: 0.3900\n",
      "Epoch 8/25\n",
      "67/67 [==============================] - ETA: 0s - loss: 1.0573 - categorical_accuracy: 0.5463\n",
      "Epoch 00008: saving model to model_init_2020-09-1218_42_38.903196model-00008-1.05731-0.54627-1.03209-0.61000.h5\n",
      "67/67 [==============================] - 60s 893ms/step - loss: 1.0573 - categorical_accuracy: 0.5463 - val_loss: 1.0321 - val_categorical_accuracy: 0.6100\n",
      "Epoch 9/25\n",
      "67/67 [==============================] - ETA: 0s - loss: 0.9763 - categorical_accuracy: 0.6045\n",
      "Epoch 00009: saving model to model_init_2020-09-1218_42_38.903196model-00009-0.97626-0.60448-1.38573-0.53000.h5\n",
      "67/67 [==============================] - 63s 937ms/step - loss: 0.9763 - categorical_accuracy: 0.6045 - val_loss: 1.3857 - val_categorical_accuracy: 0.5300\n",
      "Epoch 10/25\n",
      "67/67 [==============================] - ETA: 0s - loss: 0.8553 - categorical_accuracy: 0.6388\n",
      "Epoch 00010: saving model to model_init_2020-09-1218_42_38.903196model-00010-0.85529-0.63881-1.04068-0.68000.h5\n",
      "\n",
      "Epoch 00010: ReduceLROnPlateau reducing learning rate to 0.0002500000118743628.\n",
      "67/67 [==============================] - 59s 887ms/step - loss: 0.8553 - categorical_accuracy: 0.6388 - val_loss: 1.0407 - val_categorical_accuracy: 0.6800\n",
      "Epoch 11/25\n",
      "67/67 [==============================] - ETA: 0s - loss: 0.7716 - categorical_accuracy: 0.6940\n",
      "Epoch 00011: saving model to model_init_2020-09-1218_42_38.903196model-00011-0.77155-0.69403-0.82574-0.64000.h5\n",
      "67/67 [==============================] - 61s 910ms/step - loss: 0.7716 - categorical_accuracy: 0.6940 - val_loss: 0.8257 - val_categorical_accuracy: 0.6400\n",
      "Epoch 12/25\n",
      "67/67 [==============================] - ETA: 0s - loss: 0.6554 - categorical_accuracy: 0.7194\n",
      "Epoch 00012: saving model to model_init_2020-09-1218_42_38.903196model-00012-0.65539-0.71940-1.13075-0.65000.h5\n",
      "67/67 [==============================] - 61s 915ms/step - loss: 0.6554 - categorical_accuracy: 0.7194 - val_loss: 1.1308 - val_categorical_accuracy: 0.6500\n",
      "Epoch 13/25\n",
      "67/67 [==============================] - ETA: 0s - loss: 0.7263 - categorical_accuracy: 0.7119\n",
      "Epoch 00013: saving model to model_init_2020-09-1218_42_38.903196model-00013-0.72628-0.71194-0.71903-0.79000.h5\n",
      "67/67 [==============================] - 60s 897ms/step - loss: 0.7263 - categorical_accuracy: 0.7119 - val_loss: 0.7190 - val_categorical_accuracy: 0.7900\n",
      "Epoch 14/25\n",
      "67/67 [==============================] - ETA: 0s - loss: 0.6769 - categorical_accuracy: 0.7299\n",
      "Epoch 00014: saving model to model_init_2020-09-1218_42_38.903196model-00014-0.67691-0.72985-0.89202-0.75000.h5\n",
      "67/67 [==============================] - 61s 912ms/step - loss: 0.6769 - categorical_accuracy: 0.7299 - val_loss: 0.8920 - val_categorical_accuracy: 0.7500\n",
      "Epoch 15/25\n",
      "67/67 [==============================] - ETA: 0s - loss: 0.5350 - categorical_accuracy: 0.7597\n",
      "Epoch 00015: saving model to model_init_2020-09-1218_42_38.903196model-00015-0.53504-0.75970-0.77749-0.71000.h5\n",
      "\n",
      "Epoch 00015: ReduceLROnPlateau reducing learning rate to 0.0001250000059371814.\n",
      "67/67 [==============================] - 62s 920ms/step - loss: 0.5350 - categorical_accuracy: 0.7597 - val_loss: 0.7775 - val_categorical_accuracy: 0.7100\n",
      "Epoch 16/25\n",
      "67/67 [==============================] - ETA: 0s - loss: 0.5729 - categorical_accuracy: 0.7567\n",
      "Epoch 00016: saving model to model_init_2020-09-1218_42_38.903196model-00016-0.57288-0.75672-0.84450-0.69000.h5\n",
      "67/67 [==============================] - 62s 921ms/step - loss: 0.5729 - categorical_accuracy: 0.7567 - val_loss: 0.8445 - val_categorical_accuracy: 0.6900\n",
      "Epoch 17/25\n",
      "67/67 [==============================] - ETA: 0s - loss: 0.4509 - categorical_accuracy: 0.8149\n",
      "Epoch 00017: saving model to model_init_2020-09-1218_42_38.903196model-00017-0.45089-0.81493-0.68348-0.73000.h5\n",
      "67/67 [==============================] - 60s 896ms/step - loss: 0.4509 - categorical_accuracy: 0.8149 - val_loss: 0.6835 - val_categorical_accuracy: 0.7300\n",
      "Epoch 18/25\n",
      "67/67 [==============================] - ETA: 0s - loss: 0.4108 - categorical_accuracy: 0.8030\n",
      "Epoch 00018: saving model to model_init_2020-09-1218_42_38.903196model-00018-0.41081-0.80299-0.63986-0.84000.h5\n",
      "67/67 [==============================] - 61s 904ms/step - loss: 0.4108 - categorical_accuracy: 0.8030 - val_loss: 0.6399 - val_categorical_accuracy: 0.8400\n",
      "Epoch 19/25\n",
      "67/67 [==============================] - ETA: 0s - loss: 0.4722 - categorical_accuracy: 0.8104\n",
      "Epoch 00019: saving model to model_init_2020-09-1218_42_38.903196model-00019-0.47221-0.81045-0.74028-0.83000.h5\n",
      "67/67 [==============================] - 62s 928ms/step - loss: 0.4722 - categorical_accuracy: 0.8104 - val_loss: 0.7403 - val_categorical_accuracy: 0.8300\n",
      "Epoch 20/25\n",
      "67/67 [==============================] - ETA: 0s - loss: 0.4082 - categorical_accuracy: 0.8582\n",
      "Epoch 00020: saving model to model_init_2020-09-1218_42_38.903196model-00020-0.40823-0.85821-0.85365-0.79000.h5\n",
      "\n",
      "Epoch 00020: ReduceLROnPlateau reducing learning rate to 6.25000029685907e-05.\n",
      "67/67 [==============================] - 60s 900ms/step - loss: 0.4082 - categorical_accuracy: 0.8582 - val_loss: 0.8537 - val_categorical_accuracy: 0.7900\n",
      "Epoch 21/25\n",
      "67/67 [==============================] - ETA: 0s - loss: 0.3626 - categorical_accuracy: 0.8507\n",
      "Epoch 00021: saving model to model_init_2020-09-1218_42_38.903196model-00021-0.36257-0.85075-0.80406-0.78000.h5\n",
      "67/67 [==============================] - 60s 899ms/step - loss: 0.3626 - categorical_accuracy: 0.8507 - val_loss: 0.8041 - val_categorical_accuracy: 0.7800\n",
      "Epoch 22/25\n",
      "67/67 [==============================] - ETA: 0s - loss: 0.3419 - categorical_accuracy: 0.8582\n",
      "Epoch 00022: saving model to model_init_2020-09-1218_42_38.903196model-00022-0.34192-0.85821-0.67289-0.77000.h5\n",
      "\n",
      "Epoch 00022: ReduceLROnPlateau reducing learning rate to 3.125000148429535e-05.\n",
      "67/67 [==============================] - 61s 905ms/step - loss: 0.3419 - categorical_accuracy: 0.8582 - val_loss: 0.6729 - val_categorical_accuracy: 0.7700\n",
      "Epoch 23/25\n",
      "67/67 [==============================] - ETA: 0s - loss: 0.3551 - categorical_accuracy: 0.8672\n",
      "Epoch 00023: saving model to model_init_2020-09-1218_42_38.903196model-00023-0.35507-0.86716-0.49099-0.83000.h5\n",
      "67/67 [==============================] - 61s 912ms/step - loss: 0.3551 - categorical_accuracy: 0.8672 - val_loss: 0.4910 - val_categorical_accuracy: 0.8300\n",
      "Epoch 24/25\n",
      "67/67 [==============================] - ETA: 0s - loss: 0.3407 - categorical_accuracy: 0.8836\n",
      "Epoch 00024: saving model to model_init_2020-09-1218_42_38.903196model-00024-0.34074-0.88358-0.68990-0.79000.h5\n",
      "67/67 [==============================] - 61s 910ms/step - loss: 0.3407 - categorical_accuracy: 0.8836 - val_loss: 0.6899 - val_categorical_accuracy: 0.7900\n",
      "Epoch 25/25\n",
      "67/67 [==============================] - ETA: 0s - loss: 0.3255 - categorical_accuracy: 0.8746\n",
      "Epoch 00025: saving model to model_init_2020-09-1218_42_38.903196model-00025-0.32554-0.87463-0.59664-0.82000.h5\n",
      "\n",
      "Epoch 00025: ReduceLROnPlateau reducing learning rate to 1.5625000742147677e-05.\n",
      "67/67 [==============================] - 61s 909ms/step - loss: 0.3255 - categorical_accuracy: 0.8746 - val_loss: 0.5966 - val_categorical_accuracy: 0.8200\n"
     ]
    },
    {
     "data": {
      "text/plain": [
       "<tensorflow.python.keras.callbacks.History at 0x7f50e60b6cf8>"
      ]
     },
     "execution_count": 34,
     "metadata": {
      "tags": []
     },
     "output_type": "execute_result"
    }
   ],
   "source": [
    "model.fit_generator(train_generator, steps_per_epoch=steps_per_epoch, epochs=25, verbose=1, \n",
    "                    callbacks=callbacks_list, validation_data=val_generator, \n",
    "                    validation_steps=validation_steps, class_weight=None, workers=1, initial_epoch=0)"
   ]
  },
  {
   "cell_type": "code",
   "execution_count": null,
   "metadata": {
    "colab": {},
    "colab_type": "code",
    "id": "8tcectkDKjqJ"
   },
   "outputs": [],
   "source": [
    "#epoch 23 best train 93 and test 88  #phle ya tha ye\n",
    "\n",
    "#epoch 23 best train 86 and test 83 \n",
    "# model.history.keys()"
   ]
  },
  {
   "cell_type": "code",
   "execution_count": null,
   "metadata": {
    "colab": {
     "base_uri": "https://localhost:8080/",
     "height": 714
    },
    "colab_type": "code",
    "id": "D6EVkAj0QxAz",
    "outputId": "019979ac-8167-413b-aab4-f93f56f6565c"
   },
   "outputs": [
    {
     "name": "stdout",
     "output_type": "stream",
     "text": [
      "Model: \"sequential_9\"\n",
      "_________________________________________________________________\n",
      "Layer (type)                 Output Shape              Param #   \n",
      "=================================================================\n",
      "conv3d_36 (Conv3D)           (None, 20, 120, 120, 16)  1312      \n",
      "_________________________________________________________________\n",
      "batch_normalization_36 (Batc (None, 20, 120, 120, 16)  64        \n",
      "_________________________________________________________________\n",
      "max_pooling3d_36 (MaxPooling (None, 10, 60, 60, 16)    0         \n",
      "_________________________________________________________________\n",
      "conv3d_37 (Conv3D)           (None, 10, 60, 60, 32)    13856     \n",
      "_________________________________________________________________\n",
      "batch_normalization_37 (Batc (None, 10, 60, 60, 32)    128       \n",
      "_________________________________________________________________\n",
      "max_pooling3d_37 (MaxPooling (None, 5, 30, 30, 32)     0         \n",
      "_________________________________________________________________\n",
      "conv3d_38 (Conv3D)           (None, 5, 30, 30, 64)     55360     \n",
      "_________________________________________________________________\n",
      "batch_normalization_38 (Batc (None, 5, 30, 30, 64)     256       \n",
      "_________________________________________________________________\n",
      "max_pooling3d_38 (MaxPooling (None, 2, 15, 15, 64)     0         \n",
      "_________________________________________________________________\n",
      "conv3d_39 (Conv3D)           (None, 2, 15, 15, 128)    221312    \n",
      "_________________________________________________________________\n",
      "batch_normalization_39 (Batc (None, 2, 15, 15, 128)    512       \n",
      "_________________________________________________________________\n",
      "max_pooling3d_39 (MaxPooling (None, 1, 7, 7, 128)      0         \n",
      "_________________________________________________________________\n",
      "flatten_9 (Flatten)          (None, 6272)              0         \n",
      "_________________________________________________________________\n",
      "dense_18 (Dense)             (None, 128)               802944    \n",
      "_________________________________________________________________\n",
      "dropout_9 (Dropout)          (None, 128)               0         \n",
      "_________________________________________________________________\n",
      "dense_19 (Dense)             (None, 5)                 645       \n",
      "=================================================================\n",
      "Total params: 1,096,389\n",
      "Trainable params: 1,095,909\n",
      "Non-trainable params: 480\n",
      "_________________________________________________________________\n",
      "None\n"
     ]
    }
   ],
   "source": [
    "#Let's try 'sgd' as optimizer on same architecture with 25 epochs\n",
    "\n",
    "model = Sequential()\n",
    "\n",
    "\n",
    "model.add(Conv3D(16, kernel_size=(3,3,3), padding='same', activation='relu',input_shape = (20,120,120,3)))\n",
    "model.add(BatchNormalization())\n",
    "model.add(MaxPooling3D(pool_size=(2, 2, 2)))\n",
    "\n",
    "model.add(Conv3D(32, kernel_size=(3,3,3), padding='same', activation='relu'))\n",
    "model.add(BatchNormalization())\n",
    "model.add(MaxPooling3D(pool_size=(2, 2, 2)))\n",
    "\n",
    "model.add(Conv3D(64, kernel_size=(3,3,3), padding='same', activation='relu'))\n",
    "model.add(BatchNormalization())\n",
    "model.add(MaxPooling3D(pool_size=(2, 2, 2)))\n",
    "\n",
    "model.add(Conv3D(128, kernel_size=(3,3,3), padding='same', activation='relu'))\n",
    "model.add(BatchNormalization())\n",
    "model.add(MaxPooling3D(pool_size=(2, 2, 2)))\n",
    "\n",
    "model.add(Flatten())\n",
    "model.add(Dense(128,activation='relu'))\n",
    "model.add(Dropout(0.50))\n",
    "\n",
    "model.add(Dense(5, activation = 'softmax'))\n",
    "\n",
    "optimiser = 'sgd'\n",
    "model.compile(optimizer=optimiser, loss='categorical_crossentropy', metrics=['categorical_accuracy'])\n",
    "print (model.summary())\n"
   ]
  },
  {
   "cell_type": "code",
   "execution_count": null,
   "metadata": {
    "colab": {
     "base_uri": "https://localhost:8080/",
     "height": 1000
    },
    "colab_type": "code",
    "id": "mFkLwJOML8ri",
    "outputId": "1e4ad17a-db57-4586-949f-c55a5eba7b89"
   },
   "outputs": [
    {
     "name": "stdout",
     "output_type": "stream",
     "text": [
      "Epoch 1/25\n",
      "67/67 [==============================] - ETA: 0s - loss: 2.0790 - categorical_accuracy: 0.3269\n",
      "Epoch 00001: saving model to model_init_2020-09-1218_42_38.903196model-00001-2.07901-0.32687-1.56255-0.23000.h5\n",
      "67/67 [==============================] - 62s 919ms/step - loss: 2.0790 - categorical_accuracy: 0.3269 - val_loss: 1.5625 - val_categorical_accuracy: 0.2300\n",
      "Epoch 2/25\n",
      "67/67 [==============================] - ETA: 0s - loss: 1.3611 - categorical_accuracy: 0.4239\n",
      "Epoch 00002: saving model to model_init_2020-09-1218_42_38.903196model-00002-1.36107-0.42388-3.05668-0.25000.h5\n",
      "67/67 [==============================] - 61s 909ms/step - loss: 1.3611 - categorical_accuracy: 0.4239 - val_loss: 3.0567 - val_categorical_accuracy: 0.2500\n",
      "Epoch 3/25\n",
      "67/67 [==============================] - ETA: 0s - loss: 1.1653 - categorical_accuracy: 0.5030\n",
      "Epoch 00003: saving model to model_init_2020-09-1218_42_38.903196model-00003-1.16532-0.50299-4.15604-0.25000.h5\n",
      "\n",
      "Epoch 00003: ReduceLROnPlateau reducing learning rate to 0.004999999888241291.\n",
      "67/67 [==============================] - 61s 914ms/step - loss: 1.1653 - categorical_accuracy: 0.5030 - val_loss: 4.1560 - val_categorical_accuracy: 0.2500\n",
      "Epoch 4/25\n",
      "67/67 [==============================] - ETA: 0s - loss: 0.9394 - categorical_accuracy: 0.6149\n",
      "Epoch 00004: saving model to model_init_2020-09-1218_42_38.903196model-00004-0.93943-0.61493-2.27402-0.28000.h5\n",
      "67/67 [==============================] - 61s 916ms/step - loss: 0.9394 - categorical_accuracy: 0.6149 - val_loss: 2.2740 - val_categorical_accuracy: 0.2800\n",
      "Epoch 5/25\n",
      "67/67 [==============================] - ETA: 0s - loss: 0.8648 - categorical_accuracy: 0.6343\n",
      "Epoch 00005: saving model to model_init_2020-09-1218_42_38.903196model-00005-0.86481-0.63433-1.48904-0.40000.h5\n",
      "67/67 [==============================] - 61s 911ms/step - loss: 0.8648 - categorical_accuracy: 0.6343 - val_loss: 1.4890 - val_categorical_accuracy: 0.4000\n",
      "Epoch 6/25\n",
      "67/67 [==============================] - ETA: 0s - loss: 0.8254 - categorical_accuracy: 0.6866\n",
      "Epoch 00006: saving model to model_init_2020-09-1218_42_38.903196model-00006-0.82535-0.68657-1.20338-0.45000.h5\n",
      "67/67 [==============================] - 60s 899ms/step - loss: 0.8254 - categorical_accuracy: 0.6866 - val_loss: 1.2034 - val_categorical_accuracy: 0.4500\n",
      "Epoch 7/25\n",
      "67/67 [==============================] - ETA: 0s - loss: 0.7460 - categorical_accuracy: 0.7090\n",
      "Epoch 00007: saving model to model_init_2020-09-1218_42_38.903196model-00007-0.74602-0.70896-0.85063-0.61000.h5\n",
      "67/67 [==============================] - 61s 910ms/step - loss: 0.7460 - categorical_accuracy: 0.7090 - val_loss: 0.8506 - val_categorical_accuracy: 0.6100\n",
      "Epoch 8/25\n",
      "67/67 [==============================] - ETA: 0s - loss: 0.6494 - categorical_accuracy: 0.7448\n",
      "Epoch 00008: saving model to model_init_2020-09-1218_42_38.903196model-00008-0.64938-0.74478-1.08864-0.59000.h5\n",
      "67/67 [==============================] - 61s 907ms/step - loss: 0.6494 - categorical_accuracy: 0.7448 - val_loss: 1.0886 - val_categorical_accuracy: 0.5900\n",
      "Epoch 9/25\n",
      "67/67 [==============================] - ETA: 0s - loss: 0.6171 - categorical_accuracy: 0.7761\n",
      "Epoch 00009: saving model to model_init_2020-09-1218_42_38.903196model-00009-0.61714-0.77612-0.87933-0.72000.h5\n",
      "\n",
      "Epoch 00009: ReduceLROnPlateau reducing learning rate to 0.0024999999441206455.\n",
      "67/67 [==============================] - 61s 911ms/step - loss: 0.6171 - categorical_accuracy: 0.7761 - val_loss: 0.8793 - val_categorical_accuracy: 0.7200\n",
      "Epoch 10/25\n",
      "67/67 [==============================] - ETA: 0s - loss: 0.4838 - categorical_accuracy: 0.8239\n",
      "Epoch 00010: saving model to model_init_2020-09-1218_42_38.903196model-00010-0.48384-0.82388-0.78318-0.72000.h5\n",
      "67/67 [==============================] - 61s 911ms/step - loss: 0.4838 - categorical_accuracy: 0.8239 - val_loss: 0.7832 - val_categorical_accuracy: 0.7200\n",
      "Epoch 11/25\n",
      "67/67 [==============================] - ETA: 0s - loss: 0.4455 - categorical_accuracy: 0.8388\n",
      "Epoch 00011: saving model to model_init_2020-09-1218_42_38.903196model-00011-0.44545-0.83881-0.70107-0.78000.h5\n",
      "67/67 [==============================] - 61s 905ms/step - loss: 0.4455 - categorical_accuracy: 0.8388 - val_loss: 0.7011 - val_categorical_accuracy: 0.7800\n",
      "Epoch 12/25\n",
      "67/67 [==============================] - ETA: 0s - loss: 0.3606 - categorical_accuracy: 0.8701\n",
      "Epoch 00012: saving model to model_init_2020-09-1218_42_38.903196model-00012-0.36058-0.87015-0.76402-0.70000.h5\n",
      "67/67 [==============================] - 61s 905ms/step - loss: 0.3606 - categorical_accuracy: 0.8701 - val_loss: 0.7640 - val_categorical_accuracy: 0.7000\n",
      "Epoch 13/25\n",
      "67/67 [==============================] - ETA: 0s - loss: 0.4052 - categorical_accuracy: 0.8448\n",
      "Epoch 00013: saving model to model_init_2020-09-1218_42_38.903196model-00013-0.40521-0.84478-0.69369-0.76000.h5\n",
      "67/67 [==============================] - 60s 897ms/step - loss: 0.4052 - categorical_accuracy: 0.8448 - val_loss: 0.6937 - val_categorical_accuracy: 0.7600\n",
      "Epoch 14/25\n",
      "67/67 [==============================] - ETA: 0s - loss: 0.3695 - categorical_accuracy: 0.8776\n",
      "Epoch 00014: saving model to model_init_2020-09-1218_42_38.903196model-00014-0.36946-0.87761-0.74958-0.74000.h5\n",
      "67/67 [==============================] - 62s 921ms/step - loss: 0.3695 - categorical_accuracy: 0.8776 - val_loss: 0.7496 - val_categorical_accuracy: 0.7400\n",
      "Epoch 15/25\n",
      "67/67 [==============================] - ETA: 0s - loss: 0.3258 - categorical_accuracy: 0.8806\n",
      "Epoch 00015: saving model to model_init_2020-09-1218_42_38.903196model-00015-0.32578-0.88060-0.72310-0.72000.h5\n",
      "\n",
      "Epoch 00015: ReduceLROnPlateau reducing learning rate to 0.0012499999720603228.\n",
      "67/67 [==============================] - 61s 910ms/step - loss: 0.3258 - categorical_accuracy: 0.8806 - val_loss: 0.7231 - val_categorical_accuracy: 0.7200\n",
      "Epoch 16/25\n",
      "67/67 [==============================] - ETA: 0s - loss: 0.3419 - categorical_accuracy: 0.8866\n",
      "Epoch 00016: saving model to model_init_2020-09-1218_42_38.903196model-00016-0.34193-0.88657-0.65184-0.80000.h5\n",
      "67/67 [==============================] - 61s 904ms/step - loss: 0.3419 - categorical_accuracy: 0.8866 - val_loss: 0.6518 - val_categorical_accuracy: 0.8000\n",
      "Epoch 17/25\n",
      "67/67 [==============================] - ETA: 0s - loss: 0.2409 - categorical_accuracy: 0.9224\n",
      "Epoch 00017: saving model to model_init_2020-09-1218_42_38.903196model-00017-0.24090-0.92239-0.50887-0.83000.h5\n",
      "67/67 [==============================] - 61s 909ms/step - loss: 0.2409 - categorical_accuracy: 0.9224 - val_loss: 0.5089 - val_categorical_accuracy: 0.8300\n",
      "Epoch 18/25\n",
      "67/67 [==============================] - ETA: 0s - loss: 0.2338 - categorical_accuracy: 0.9164\n",
      "Epoch 00018: saving model to model_init_2020-09-1218_42_38.903196model-00018-0.23377-0.91642-0.61195-0.84000.h5\n",
      "67/67 [==============================] - 61s 917ms/step - loss: 0.2338 - categorical_accuracy: 0.9164 - val_loss: 0.6119 - val_categorical_accuracy: 0.8400\n",
      "Epoch 19/25\n",
      "67/67 [==============================] - ETA: 0s - loss: 0.2288 - categorical_accuracy: 0.9269\n",
      "Epoch 00019: saving model to model_init_2020-09-1218_42_38.903196model-00019-0.22876-0.92687-0.69258-0.78000.h5\n",
      "\n",
      "Epoch 00019: ReduceLROnPlateau reducing learning rate to 0.0006249999860301614.\n",
      "67/67 [==============================] - 60s 896ms/step - loss: 0.2288 - categorical_accuracy: 0.9269 - val_loss: 0.6926 - val_categorical_accuracy: 0.7800\n",
      "Epoch 20/25\n",
      "67/67 [==============================] - ETA: 0s - loss: 0.2297 - categorical_accuracy: 0.9358\n",
      "Epoch 00020: saving model to model_init_2020-09-1218_42_38.903196model-00020-0.22967-0.93582-0.64285-0.77000.h5\n",
      "67/67 [==============================] - 62s 925ms/step - loss: 0.2297 - categorical_accuracy: 0.9358 - val_loss: 0.6429 - val_categorical_accuracy: 0.7700\n",
      "Epoch 21/25\n",
      "67/67 [==============================] - ETA: 0s - loss: 0.2548 - categorical_accuracy: 0.9328\n",
      "Epoch 00021: saving model to model_init_2020-09-1218_42_38.903196model-00021-0.25485-0.93284-0.62830-0.80000.h5\n",
      "\n",
      "Epoch 00021: ReduceLROnPlateau reducing learning rate to 0.0003124999930150807.\n",
      "67/67 [==============================] - 61s 903ms/step - loss: 0.2548 - categorical_accuracy: 0.9328 - val_loss: 0.6283 - val_categorical_accuracy: 0.8000\n",
      "Epoch 22/25\n",
      "67/67 [==============================] - ETA: 0s - loss: 0.2120 - categorical_accuracy: 0.9507\n",
      "Epoch 00022: saving model to model_init_2020-09-1218_42_38.903196model-00022-0.21195-0.95075-0.67154-0.82000.h5\n",
      "67/67 [==============================] - 61s 904ms/step - loss: 0.2120 - categorical_accuracy: 0.9507 - val_loss: 0.6715 - val_categorical_accuracy: 0.8200\n",
      "Epoch 23/25\n",
      "67/67 [==============================] - ETA: 0s - loss: 0.2200 - categorical_accuracy: 0.9328\n",
      "Epoch 00023: saving model to model_init_2020-09-1218_42_38.903196model-00023-0.22000-0.93284-0.55958-0.86000.h5\n",
      "\n",
      "Epoch 00023: ReduceLROnPlateau reducing learning rate to 0.00015624999650754035.\n",
      "67/67 [==============================] - 60s 894ms/step - loss: 0.2200 - categorical_accuracy: 0.9328 - val_loss: 0.5596 - val_categorical_accuracy: 0.8600\n",
      "Epoch 24/25\n",
      "67/67 [==============================] - ETA: 0s - loss: 0.1965 - categorical_accuracy: 0.9418\n",
      "Epoch 00024: saving model to model_init_2020-09-1218_42_38.903196model-00024-0.19649-0.94179-0.55776-0.85000.h5\n",
      "67/67 [==============================] - 61s 912ms/step - loss: 0.1965 - categorical_accuracy: 0.9418 - val_loss: 0.5578 - val_categorical_accuracy: 0.8500\n",
      "Epoch 25/25\n",
      "67/67 [==============================] - ETA: 0s - loss: 0.2010 - categorical_accuracy: 0.9358\n",
      "Epoch 00025: saving model to model_init_2020-09-1218_42_38.903196model-00025-0.20098-0.93582-0.51734-0.85000.h5\n",
      "\n",
      "Epoch 00025: ReduceLROnPlateau reducing learning rate to 7.812499825377017e-05.\n",
      "67/67 [==============================] - 61s 916ms/step - loss: 0.2010 - categorical_accuracy: 0.9358 - val_loss: 0.5173 - val_categorical_accuracy: 0.8500\n"
     ]
    },
    {
     "data": {
      "text/plain": [
       "<tensorflow.python.keras.callbacks.History at 0x7f514b4040b8>"
      ]
     },
     "execution_count": 46,
     "metadata": {
      "tags": []
     },
     "output_type": "execute_result"
    }
   ],
   "source": [
    "model.fit_generator(train_generator, steps_per_epoch=steps_per_epoch, epochs=25, verbose=1, \n",
    "                    callbacks=callbacks_list, validation_data=val_generator, \n",
    "                    validation_steps=validation_steps, class_weight=None, workers=1, initial_epoch=0)"
   ]
  },
  {
   "cell_type": "code",
   "execution_count": null,
   "metadata": {
    "colab": {},
    "colab_type": "code",
    "id": "1MrJPq2JMDPu"
   },
   "outputs": [],
   "source": [
    "\n",
    "#epoch -> 23 train 93 test 86"
   ]
  },
  {
   "cell_type": "markdown",
   "metadata": {
    "colab_type": "text",
    "id": "Y9B-nrRupqyt"
   },
   "source": [
    "## CNN2D + RNN"
   ]
  },
  {
   "cell_type": "code",
   "execution_count": null,
   "metadata": {
    "colab": {},
    "colab_type": "code",
    "id": "aLPS4Yas67vz"
   },
   "outputs": [],
   "source": [
    "# from keras.applications import ResNet50"
   ]
  },
  {
   "cell_type": "code",
   "execution_count": null,
   "metadata": {
    "colab": {},
    "colab_type": "code",
    "id": "f_tG2Q2WE-V1"
   },
   "outputs": [],
   "source": [
    "# ResNet50?"
   ]
  },
  {
   "cell_type": "code",
   "execution_count": null,
   "metadata": {
    "colab": {
     "base_uri": "https://localhost:8080/",
     "height": 748
    },
    "colab_type": "code",
    "id": "RgC-NyxvE__d",
    "outputId": "ce74457f-535a-49c6-eb4b-46659d70ce1a"
   },
   "outputs": [
    {
     "name": "stdout",
     "output_type": "stream",
     "text": [
      "Model: \"sequential_2\"\n",
      "_________________________________________________________________\n",
      "Layer (type)                 Output Shape              Param #   \n",
      "=================================================================\n",
      "time_distributed_13 (TimeDis (None, 20, 120, 120, 16)  448       \n",
      "_________________________________________________________________\n",
      "time_distributed_14 (TimeDis (None, 20, 120, 120, 16)  64        \n",
      "_________________________________________________________________\n",
      "time_distributed_15 (TimeDis (None, 20, 60, 60, 16)    0         \n",
      "_________________________________________________________________\n",
      "time_distributed_16 (TimeDis (None, 20, 60, 60, 32)    4640      \n",
      "_________________________________________________________________\n",
      "time_distributed_17 (TimeDis (None, 20, 60, 60, 32)    128       \n",
      "_________________________________________________________________\n",
      "time_distributed_18 (TimeDis (None, 20, 30, 30, 32)    0         \n",
      "_________________________________________________________________\n",
      "time_distributed_19 (TimeDis (None, 20, 30, 30, 64)    18496     \n",
      "_________________________________________________________________\n",
      "time_distributed_20 (TimeDis (None, 20, 30, 30, 64)    256       \n",
      "_________________________________________________________________\n",
      "time_distributed_21 (TimeDis (None, 20, 15, 15, 64)    0         \n",
      "_________________________________________________________________\n",
      "time_distributed_22 (TimeDis (None, 20, 15, 15, 128)   73856     \n",
      "_________________________________________________________________\n",
      "time_distributed_23 (TimeDis (None, 20, 15, 15, 128)   512       \n",
      "_________________________________________________________________\n",
      "time_distributed_24 (TimeDis (None, 20, 7, 7, 128)     0         \n",
      "_________________________________________________________________\n",
      "time_distributed_25 (TimeDis (None, 20, 6272)          0         \n",
      "_________________________________________________________________\n",
      "gru (GRU)                    (None, 128)               2458368   \n",
      "_________________________________________________________________\n",
      "dense (Dense)                (None, 128)               16512     \n",
      "_________________________________________________________________\n",
      "dropout (Dropout)            (None, 128)               0         \n",
      "_________________________________________________________________\n",
      "dense_1 (Dense)              (None, 5)                 645       \n",
      "=================================================================\n",
      "Total params: 2,573,925\n",
      "Trainable params: 2,573,445\n",
      "Non-trainable params: 480\n",
      "_________________________________________________________________\n",
      "None\n"
     ]
    }
   ],
   "source": [
    "model = Sequential()\n",
    "\n",
    "model.add(TimeDistributed(Conv2D(16, (3, 3) , padding='same', activation='relu'),input_shape=(20,120,120,3)))\n",
    "model.add(TimeDistributed(BatchNormalization()))\n",
    "model.add(TimeDistributed(MaxPooling2D((2, 2))))\n",
    "\n",
    "model.add(TimeDistributed(Conv2D(32, (3, 3) , padding='same', activation='relu')))\n",
    "model.add(TimeDistributed(BatchNormalization()))\n",
    "model.add(TimeDistributed(MaxPooling2D((2, 2))))\n",
    "\n",
    "model.add(TimeDistributed(Conv2D(64, (3, 3) , padding='same', activation='relu')))\n",
    "model.add(TimeDistributed(BatchNormalization()))\n",
    "model.add(TimeDistributed(MaxPooling2D((2, 2))))\n",
    "\n",
    "model.add(TimeDistributed(Conv2D(128, (3, 3) , padding='same', activation='relu')))\n",
    "model.add(TimeDistributed(BatchNormalization()))\n",
    "model.add(TimeDistributed(MaxPooling2D((2, 2))))\n",
    "\n",
    "model.add(TimeDistributed(Flatten()))\n",
    "\n",
    "\n",
    "model.add(GRU(128))\n",
    "\n",
    "model.add(Dense(128,activation='relu'))\n",
    "model.add(Dropout(0.3))\n",
    "\n",
    "model.add(Dense(5, activation='softmax'))\n",
    "\n",
    "\n",
    "optimiser = 'adam'\n",
    "model.compile(optimizer=optimiser, loss='categorical_crossentropy', metrics=['categorical_accuracy'])\n",
    "print (model.summary())\n"
   ]
  },
  {
   "cell_type": "code",
   "execution_count": null,
   "metadata": {
    "colab": {
     "base_uri": "https://localhost:8080/",
     "height": 1000
    },
    "colab_type": "code",
    "id": "ATRMqLUjOGE_",
    "outputId": "32994bef-28b7-41de-eae5-a8c81cd5591f"
   },
   "outputs": [
    {
     "name": "stdout",
     "output_type": "stream",
     "text": [
      "WARNING:tensorflow:From <ipython-input-34-bd77c9c60c14>:3: Model.fit_generator (from tensorflow.python.keras.engine.training) is deprecated and will be removed in a future version.\n",
      "Instructions for updating:\n",
      "Please use Model.fit, which supports generators.\n",
      "Source path =  /content/drive/My Drive/Colab Notebooks/Hand Gesture Recognition NB + Data/Project_data/train ; batch size = 10\n",
      "Epoch 1/15\n",
      "67/67 [==============================] - ETA: 0s - loss: 1.3764 - categorical_accuracy: 0.4313  Source path =  /content/drive/My Drive/Colab Notebooks/Hand Gesture Recognition NB + Data/Project_data/val ; batch size = 10\n",
      "\n",
      "Epoch 00001: saving model to model_init_2020-09-1306_44_03.149345model-00001-1.37642-0.43134-1.79295-0.22000.h5\n",
      "67/67 [==============================] - 6962s 104s/step - loss: 1.3764 - categorical_accuracy: 0.4313 - val_loss: 1.7929 - val_categorical_accuracy: 0.2200\n",
      "Epoch 2/15\n",
      "67/67 [==============================] - ETA: 0s - loss: 1.0244 - categorical_accuracy: 0.5881\n",
      "Epoch 00002: saving model to model_init_2020-09-1306_44_03.149345model-00002-1.02442-0.58806-2.13577-0.17000.h5\n",
      "67/67 [==============================] - 62s 932ms/step - loss: 1.0244 - categorical_accuracy: 0.5881 - val_loss: 2.1358 - val_categorical_accuracy: 0.1700\n",
      "Epoch 3/15\n",
      "67/67 [==============================] - ETA: 0s - loss: 0.8490 - categorical_accuracy: 0.6642\n",
      "Epoch 00003: saving model to model_init_2020-09-1306_44_03.149345model-00003-0.84905-0.66418-2.46560-0.23000.h5\n",
      "\n",
      "Epoch 00003: ReduceLROnPlateau reducing learning rate to 0.0005000000237487257.\n",
      "67/67 [==============================] - 62s 925ms/step - loss: 0.8490 - categorical_accuracy: 0.6642 - val_loss: 2.4656 - val_categorical_accuracy: 0.2300\n",
      "Epoch 4/15\n",
      "67/67 [==============================] - ETA: 0s - loss: 0.6526 - categorical_accuracy: 0.7552\n",
      "Epoch 00004: saving model to model_init_2020-09-1306_44_03.149345model-00004-0.65263-0.75522-2.55162-0.22000.h5\n",
      "67/67 [==============================] - 60s 893ms/step - loss: 0.6526 - categorical_accuracy: 0.7552 - val_loss: 2.5516 - val_categorical_accuracy: 0.2200\n",
      "Epoch 5/15\n",
      "67/67 [==============================] - ETA: 0s - loss: 0.4911 - categorical_accuracy: 0.8284\n",
      "Epoch 00005: saving model to model_init_2020-09-1306_44_03.149345model-00005-0.49107-0.82836-2.00321-0.28000.h5\n",
      "\n",
      "Epoch 00005: ReduceLROnPlateau reducing learning rate to 0.0002500000118743628.\n",
      "67/67 [==============================] - 60s 896ms/step - loss: 0.4911 - categorical_accuracy: 0.8284 - val_loss: 2.0032 - val_categorical_accuracy: 0.2800\n",
      "Epoch 6/15\n",
      "67/67 [==============================] - ETA: 0s - loss: 0.4093 - categorical_accuracy: 0.8657\n",
      "Epoch 00006: saving model to model_init_2020-09-1306_44_03.149345model-00006-0.40934-0.86567-2.22048-0.33000.h5\n",
      "67/67 [==============================] - 60s 897ms/step - loss: 0.4093 - categorical_accuracy: 0.8657 - val_loss: 2.2205 - val_categorical_accuracy: 0.3300\n",
      "Epoch 7/15\n",
      "67/67 [==============================] - ETA: 0s - loss: 0.3070 - categorical_accuracy: 0.9164\n",
      "Epoch 00007: saving model to model_init_2020-09-1306_44_03.149345model-00007-0.30697-0.91642-2.21888-0.46000.h5\n",
      "\n",
      "Epoch 00007: ReduceLROnPlateau reducing learning rate to 0.0001250000059371814.\n",
      "67/67 [==============================] - 60s 895ms/step - loss: 0.3070 - categorical_accuracy: 0.9164 - val_loss: 2.2189 - val_categorical_accuracy: 0.4600\n",
      "Epoch 8/15\n",
      "67/67 [==============================] - ETA: 0s - loss: 0.2372 - categorical_accuracy: 0.9522\n",
      "Epoch 00008: saving model to model_init_2020-09-1306_44_03.149345model-00008-0.23717-0.95224-1.28367-0.58000.h5\n",
      "67/67 [==============================] - 61s 913ms/step - loss: 0.2372 - categorical_accuracy: 0.9522 - val_loss: 1.2837 - val_categorical_accuracy: 0.5800\n",
      "Epoch 9/15\n",
      "67/67 [==============================] - ETA: 0s - loss: 0.1710 - categorical_accuracy: 0.9627\n",
      "Epoch 00009: saving model to model_init_2020-09-1306_44_03.149345model-00009-0.17097-0.96269-0.79433-0.70000.h5\n",
      "67/67 [==============================] - 60s 891ms/step - loss: 0.1710 - categorical_accuracy: 0.9627 - val_loss: 0.7943 - val_categorical_accuracy: 0.7000\n",
      "Epoch 10/15\n",
      "67/67 [==============================] - ETA: 0s - loss: 0.1827 - categorical_accuracy: 0.9627\n",
      "Epoch 00010: saving model to model_init_2020-09-1306_44_03.149345model-00010-0.18267-0.96269-0.62801-0.82000.h5\n",
      "67/67 [==============================] - 60s 892ms/step - loss: 0.1827 - categorical_accuracy: 0.9627 - val_loss: 0.6280 - val_categorical_accuracy: 0.8200\n",
      "Epoch 11/15\n",
      "67/67 [==============================] - ETA: 0s - loss: 0.1368 - categorical_accuracy: 0.9746\n",
      "Epoch 00011: saving model to model_init_2020-09-1306_44_03.149345model-00011-0.13677-0.97463-0.61206-0.81000.h5\n",
      "67/67 [==============================] - 60s 898ms/step - loss: 0.1368 - categorical_accuracy: 0.9746 - val_loss: 0.6121 - val_categorical_accuracy: 0.8100\n",
      "Epoch 12/15\n",
      "67/67 [==============================] - ETA: 0s - loss: 0.1299 - categorical_accuracy: 0.9806\n",
      "Epoch 00012: saving model to model_init_2020-09-1306_44_03.149345model-00012-0.12993-0.98060-0.63328-0.80000.h5\n",
      "67/67 [==============================] - 60s 890ms/step - loss: 0.1299 - categorical_accuracy: 0.9806 - val_loss: 0.6333 - val_categorical_accuracy: 0.8000\n",
      "Epoch 13/15\n",
      "67/67 [==============================] - ETA: 0s - loss: 0.1068 - categorical_accuracy: 0.9791\n",
      "Epoch 00013: saving model to model_init_2020-09-1306_44_03.149345model-00013-0.10683-0.97910-0.54849-0.84000.h5\n",
      "67/67 [==============================] - 60s 897ms/step - loss: 0.1068 - categorical_accuracy: 0.9791 - val_loss: 0.5485 - val_categorical_accuracy: 0.8400\n",
      "Epoch 14/15\n",
      "67/67 [==============================] - ETA: 0s - loss: 0.1187 - categorical_accuracy: 0.9836\n",
      "Epoch 00014: saving model to model_init_2020-09-1306_44_03.149345model-00014-0.11874-0.98358-0.54909-0.80000.h5\n",
      "67/67 [==============================] - 60s 898ms/step - loss: 0.1187 - categorical_accuracy: 0.9836 - val_loss: 0.5491 - val_categorical_accuracy: 0.8000\n",
      "Epoch 15/15\n",
      "67/67 [==============================] - ETA: 0s - loss: 0.0950 - categorical_accuracy: 0.9925\n",
      "Epoch 00015: saving model to model_init_2020-09-1306_44_03.149345model-00015-0.09499-0.99254-0.65570-0.80000.h5\n",
      "\n",
      "Epoch 00015: ReduceLROnPlateau reducing learning rate to 6.25000029685907e-05.\n",
      "67/67 [==============================] - 60s 897ms/step - loss: 0.0950 - categorical_accuracy: 0.9925 - val_loss: 0.6557 - val_categorical_accuracy: 0.8000\n"
     ]
    },
    {
     "data": {
      "text/plain": [
       "<tensorflow.python.keras.callbacks.History at 0x7fa90c09b710>"
      ]
     },
     "execution_count": 34,
     "metadata": {
      "tags": []
     },
     "output_type": "execute_result"
    }
   ],
   "source": [
    "model.fit_generator(train_generator, steps_per_epoch=steps_per_epoch, epochs=num_epochs, verbose=1, \n",
    "                    callbacks=callbacks_list, validation_data=val_generator, \n",
    "                    validation_steps=validation_steps, class_weight=None, workers=1, initial_epoch=0)"
   ]
  },
  {
   "cell_type": "code",
   "execution_count": null,
   "metadata": {
    "colab": {},
    "colab_type": "code",
    "id": "ERqZPIw5jRLf"
   },
   "outputs": [],
   "source": [
    "#Overfit model,\n",
    "# Let's add the dropouts after GRU"
   ]
  },
  {
   "cell_type": "code",
   "execution_count": null,
   "metadata": {
    "colab": {
     "base_uri": "https://localhost:8080/",
     "height": 782
    },
    "colab_type": "code",
    "id": "R3gu0k5HRH_u",
    "outputId": "3f223fea-7996-4f4f-ef6d-aab968fcc479"
   },
   "outputs": [
    {
     "name": "stdout",
     "output_type": "stream",
     "text": [
      "Model: \"sequential_4\"\n",
      "_________________________________________________________________\n",
      "Layer (type)                 Output Shape              Param #   \n",
      "=================================================================\n",
      "time_distributed_52 (TimeDis (None, 20, 120, 120, 16)  448       \n",
      "_________________________________________________________________\n",
      "time_distributed_53 (TimeDis (None, 20, 120, 120, 16)  64        \n",
      "_________________________________________________________________\n",
      "time_distributed_54 (TimeDis (None, 20, 60, 60, 16)    0         \n",
      "_________________________________________________________________\n",
      "time_distributed_55 (TimeDis (None, 20, 60, 60, 32)    4640      \n",
      "_________________________________________________________________\n",
      "time_distributed_56 (TimeDis (None, 20, 60, 60, 32)    128       \n",
      "_________________________________________________________________\n",
      "time_distributed_57 (TimeDis (None, 20, 30, 30, 32)    0         \n",
      "_________________________________________________________________\n",
      "time_distributed_58 (TimeDis (None, 20, 30, 30, 64)    18496     \n",
      "_________________________________________________________________\n",
      "time_distributed_59 (TimeDis (None, 20, 30, 30, 64)    256       \n",
      "_________________________________________________________________\n",
      "time_distributed_60 (TimeDis (None, 20, 15, 15, 64)    0         \n",
      "_________________________________________________________________\n",
      "time_distributed_61 (TimeDis (None, 20, 15, 15, 128)   73856     \n",
      "_________________________________________________________________\n",
      "time_distributed_62 (TimeDis (None, 20, 15, 15, 128)   512       \n",
      "_________________________________________________________________\n",
      "time_distributed_63 (TimeDis (None, 20, 7, 7, 128)     0         \n",
      "_________________________________________________________________\n",
      "time_distributed_64 (TimeDis (None, 20, 6272)          0         \n",
      "_________________________________________________________________\n",
      "gru_4 (GRU)                  (None, 128)               2458368   \n",
      "_________________________________________________________________\n",
      "dropout_8 (Dropout)          (None, 128)               0         \n",
      "_________________________________________________________________\n",
      "dense_8 (Dense)              (None, 128)               16512     \n",
      "_________________________________________________________________\n",
      "dropout_9 (Dropout)          (None, 128)               0         \n",
      "_________________________________________________________________\n",
      "dense_9 (Dense)              (None, 5)                 645       \n",
      "=================================================================\n",
      "Total params: 2,573,925\n",
      "Trainable params: 2,573,445\n",
      "Non-trainable params: 480\n",
      "_________________________________________________________________\n",
      "None\n"
     ]
    }
   ],
   "source": [
    "model = Sequential()\n",
    "\n",
    "model.add(TimeDistributed(Conv2D(16, (3, 3) , padding='same', activation='relu'),input_shape=(20,120,120,3)))\n",
    "model.add(TimeDistributed(BatchNormalization()))\n",
    "model.add(TimeDistributed(MaxPooling2D((2, 2))))\n",
    "\n",
    "model.add(TimeDistributed(Conv2D(32, (3, 3) , padding='same', activation='relu')))\n",
    "model.add(TimeDistributed(BatchNormalization()))\n",
    "model.add(TimeDistributed(MaxPooling2D((2, 2))))\n",
    "\n",
    "model.add(TimeDistributed(Conv2D(64, (3, 3) , padding='same', activation='relu')))\n",
    "model.add(TimeDistributed(BatchNormalization()))\n",
    "model.add(TimeDistributed(MaxPooling2D((2, 2))))\n",
    "\n",
    "model.add(TimeDistributed(Conv2D(128, (3, 3) , padding='same', activation='relu')))\n",
    "model.add(TimeDistributed(BatchNormalization()))\n",
    "model.add(TimeDistributed(MaxPooling2D((2, 2))))\n",
    "\n",
    "model.add(TimeDistributed(Flatten()))\n",
    "\n",
    "\n",
    "model.add(GRU(128))\n",
    "model.add(Dropout(0.3))\n",
    "\n",
    "model.add(Dense(128,activation='relu'))\n",
    "model.add(Dropout(0.3))\n",
    "\n",
    "model.add(Dense(5, activation='softmax'))\n",
    "\n",
    "\n",
    "optimiser = 'adam'\n",
    "model.compile(optimizer=optimiser, loss='categorical_crossentropy', metrics=['categorical_accuracy'])\n",
    "print (model.summary())\n"
   ]
  },
  {
   "cell_type": "code",
   "execution_count": null,
   "metadata": {
    "colab": {
     "base_uri": "https://localhost:8080/",
     "height": 1000
    },
    "colab_type": "code",
    "id": "2yVgHra2jiK-",
    "outputId": "5af3f07b-6374-4c91-b05c-b58e000b9145"
   },
   "outputs": [
    {
     "name": "stdout",
     "output_type": "stream",
     "text": [
      "Source path =  /content/drive/My Drive/Colab Notebooks/Hand Gesture Recognition NB + Data/Project_data/train ; batch size = 10\n",
      "Epoch 1/15\n",
      "67/67 [==============================] - ETA: 0s - loss: 1.5543 - categorical_accuracy: 0.3418Source path =  /content/drive/My Drive/Colab Notebooks/Hand Gesture Recognition NB + Data/Project_data/val ; batch size = 10\n",
      "\n",
      "Epoch 00001: saving model to model_init_2020-09-1315_02_45.011381model-00001-1.55429-0.34179-2.11945-0.21000.h5\n",
      "67/67 [==============================] - 67s 1000ms/step - loss: 1.5543 - categorical_accuracy: 0.3418 - val_loss: 2.1195 - val_categorical_accuracy: 0.2100\n",
      "Epoch 2/15\n",
      "67/67 [==============================] - ETA: 0s - loss: 1.2806 - categorical_accuracy: 0.4507\n",
      "Epoch 00002: saving model to model_init_2020-09-1315_02_45.011381model-00002-1.28059-0.45075-2.48306-0.21000.h5\n",
      "67/67 [==============================] - 66s 986ms/step - loss: 1.2806 - categorical_accuracy: 0.4507 - val_loss: 2.4831 - val_categorical_accuracy: 0.2100\n",
      "Epoch 3/15\n",
      "67/67 [==============================] - ETA: 0s - loss: 1.2269 - categorical_accuracy: 0.4761\n",
      "Epoch 00003: saving model to model_init_2020-09-1315_02_45.011381model-00003-1.22689-0.47612-2.19357-0.34000.h5\n",
      "\n",
      "Epoch 00003: ReduceLROnPlateau reducing learning rate to 0.0005000000237487257.\n",
      "67/67 [==============================] - 66s 987ms/step - loss: 1.2269 - categorical_accuracy: 0.4761 - val_loss: 2.1936 - val_categorical_accuracy: 0.3400\n",
      "Epoch 4/15\n",
      "67/67 [==============================] - ETA: 0s - loss: 1.0078 - categorical_accuracy: 0.5776\n",
      "Epoch 00004: saving model to model_init_2020-09-1315_02_45.011381model-00004-1.00783-0.57761-2.48777-0.32000.h5\n",
      "67/67 [==============================] - 67s 995ms/step - loss: 1.0078 - categorical_accuracy: 0.5776 - val_loss: 2.4878 - val_categorical_accuracy: 0.3200\n",
      "Epoch 5/15\n",
      "67/67 [==============================] - ETA: 0s - loss: 0.8510 - categorical_accuracy: 0.6597\n",
      "Epoch 00005: saving model to model_init_2020-09-1315_02_45.011381model-00005-0.85099-0.65970-2.48970-0.28000.h5\n",
      "\n",
      "Epoch 00005: ReduceLROnPlateau reducing learning rate to 0.0002500000118743628.\n",
      "67/67 [==============================] - 65s 976ms/step - loss: 0.8510 - categorical_accuracy: 0.6597 - val_loss: 2.4897 - val_categorical_accuracy: 0.2800\n",
      "Epoch 6/15\n",
      "67/67 [==============================] - ETA: 0s - loss: 0.8187 - categorical_accuracy: 0.7030\n",
      "Epoch 00006: saving model to model_init_2020-09-1315_02_45.011381model-00006-0.81870-0.70299-2.12507-0.35000.h5\n",
      "67/67 [==============================] - 66s 980ms/step - loss: 0.8187 - categorical_accuracy: 0.7030 - val_loss: 2.1251 - val_categorical_accuracy: 0.3500\n",
      "Epoch 7/15\n",
      "67/67 [==============================] - ETA: 0s - loss: 0.6745 - categorical_accuracy: 0.7463\n",
      "Epoch 00007: saving model to model_init_2020-09-1315_02_45.011381model-00007-0.67448-0.74627-2.07854-0.40000.h5\n",
      "67/67 [==============================] - 66s 984ms/step - loss: 0.6745 - categorical_accuracy: 0.7463 - val_loss: 2.0785 - val_categorical_accuracy: 0.4000\n",
      "Epoch 8/15\n",
      "67/67 [==============================] - ETA: 0s - loss: 0.6096 - categorical_accuracy: 0.7836\n",
      "Epoch 00008: saving model to model_init_2020-09-1315_02_45.011381model-00008-0.60959-0.78358-1.69030-0.44000.h5\n",
      "67/67 [==============================] - 66s 986ms/step - loss: 0.6096 - categorical_accuracy: 0.7836 - val_loss: 1.6903 - val_categorical_accuracy: 0.4400\n",
      "Epoch 9/15\n",
      "67/67 [==============================] - ETA: 0s - loss: 0.5623 - categorical_accuracy: 0.7910\n",
      "Epoch 00009: saving model to model_init_2020-09-1315_02_45.011381model-00009-0.56226-0.79104-1.00186-0.65000.h5\n",
      "67/67 [==============================] - 65s 968ms/step - loss: 0.5623 - categorical_accuracy: 0.7910 - val_loss: 1.0019 - val_categorical_accuracy: 0.6500\n",
      "Epoch 10/15\n",
      "67/67 [==============================] - ETA: 0s - loss: 0.5419 - categorical_accuracy: 0.8119\n",
      "Epoch 00010: saving model to model_init_2020-09-1315_02_45.011381model-00010-0.54188-0.81194-0.71127-0.71000.h5\n",
      "67/67 [==============================] - 65s 964ms/step - loss: 0.5419 - categorical_accuracy: 0.8119 - val_loss: 0.7113 - val_categorical_accuracy: 0.7100\n",
      "Epoch 11/15\n",
      "67/67 [==============================] - ETA: 0s - loss: 0.4801 - categorical_accuracy: 0.8045\n",
      "Epoch 00011: saving model to model_init_2020-09-1315_02_45.011381model-00011-0.48006-0.80448-0.71047-0.77000.h5\n",
      "67/67 [==============================] - 65s 972ms/step - loss: 0.4801 - categorical_accuracy: 0.8045 - val_loss: 0.7105 - val_categorical_accuracy: 0.7700\n",
      "Epoch 12/15\n",
      "67/67 [==============================] - ETA: 0s - loss: 0.4063 - categorical_accuracy: 0.8552\n",
      "Epoch 00012: saving model to model_init_2020-09-1315_02_45.011381model-00012-0.40626-0.85522-0.67407-0.74000.h5\n",
      "67/67 [==============================] - 66s 979ms/step - loss: 0.4063 - categorical_accuracy: 0.8552 - val_loss: 0.6741 - val_categorical_accuracy: 0.7400\n",
      "Epoch 13/15\n",
      "67/67 [==============================] - ETA: 0s - loss: 0.3963 - categorical_accuracy: 0.8716\n",
      "Epoch 00013: saving model to model_init_2020-09-1315_02_45.011381model-00013-0.39632-0.87164-0.60482-0.80000.h5\n",
      "67/67 [==============================] - 67s 996ms/step - loss: 0.3963 - categorical_accuracy: 0.8716 - val_loss: 0.6048 - val_categorical_accuracy: 0.8000\n",
      "Epoch 14/15\n",
      "67/67 [==============================] - ETA: 0s - loss: 0.3607 - categorical_accuracy: 0.8746\n",
      "Epoch 00014: saving model to model_init_2020-09-1315_02_45.011381model-00014-0.36067-0.87463-0.52153-0.84000.h5\n",
      "67/67 [==============================] - 66s 982ms/step - loss: 0.3607 - categorical_accuracy: 0.8746 - val_loss: 0.5215 - val_categorical_accuracy: 0.8400\n",
      "Epoch 15/15\n",
      "67/67 [==============================] - ETA: 0s - loss: 0.3077 - categorical_accuracy: 0.8955\n",
      "Epoch 00015: saving model to model_init_2020-09-1315_02_45.011381model-00015-0.30772-0.89552-0.87112-0.72000.h5\n",
      "67/67 [==============================] - 66s 979ms/step - loss: 0.3077 - categorical_accuracy: 0.8955 - val_loss: 0.8711 - val_categorical_accuracy: 0.7200\n"
     ]
    },
    {
     "data": {
      "text/plain": [
       "<tensorflow.python.keras.callbacks.History at 0x7f30d66c00f0>"
      ]
     },
     "execution_count": 43,
     "metadata": {
      "tags": []
     },
     "output_type": "execute_result"
    }
   ],
   "source": [
    "model.fit_generator(train_generator, steps_per_epoch=steps_per_epoch, epochs=num_epochs, verbose=1, \n",
    "                    callbacks=callbacks_list, validation_data=val_generator, \n",
    "                    validation_steps=validation_steps, class_weight=None, workers=1, initial_epoch=0)"
   ]
  },
  {
   "cell_type": "code",
   "execution_count": null,
   "metadata": {
    "colab": {},
    "colab_type": "code",
    "id": "YaMhEPeokZU0"
   },
   "outputs": [],
   "source": [
    "#epoch -> 14th , Train and Test -->> 87 and 84"
   ]
  },
  {
   "cell_type": "code",
   "execution_count": null,
   "metadata": {
    "colab": {
     "base_uri": "https://localhost:8080/",
     "height": 782
    },
    "colab_type": "code",
    "id": "Mf7eXq3JA4oo",
    "outputId": "b2daead2-6f19-4e40-dd35-6f56b5b0488a"
   },
   "outputs": [
    {
     "name": "stdout",
     "output_type": "stream",
     "text": [
      "Model: \"sequential_7\"\n",
      "_________________________________________________________________\n",
      "Layer (type)                 Output Shape              Param #   \n",
      "=================================================================\n",
      "time_distributed_91 (TimeDis (None, 20, 120, 120, 16)  448       \n",
      "_________________________________________________________________\n",
      "time_distributed_92 (TimeDis (None, 20, 120, 120, 16)  64        \n",
      "_________________________________________________________________\n",
      "time_distributed_93 (TimeDis (None, 20, 60, 60, 16)    0         \n",
      "_________________________________________________________________\n",
      "time_distributed_94 (TimeDis (None, 20, 60, 60, 32)    4640      \n",
      "_________________________________________________________________\n",
      "time_distributed_95 (TimeDis (None, 20, 60, 60, 32)    128       \n",
      "_________________________________________________________________\n",
      "time_distributed_96 (TimeDis (None, 20, 30, 30, 32)    0         \n",
      "_________________________________________________________________\n",
      "time_distributed_97 (TimeDis (None, 20, 30, 30, 64)    18496     \n",
      "_________________________________________________________________\n",
      "time_distributed_98 (TimeDis (None, 20, 30, 30, 64)    256       \n",
      "_________________________________________________________________\n",
      "time_distributed_99 (TimeDis (None, 20, 15, 15, 64)    0         \n",
      "_________________________________________________________________\n",
      "time_distributed_100 (TimeDi (None, 20, 15, 15, 128)   73856     \n",
      "_________________________________________________________________\n",
      "time_distributed_101 (TimeDi (None, 20, 15, 15, 128)   512       \n",
      "_________________________________________________________________\n",
      "time_distributed_102 (TimeDi (None, 20, 7, 7, 128)     0         \n",
      "_________________________________________________________________\n",
      "time_distributed_103 (TimeDi (None, 20, 6272)          0         \n",
      "_________________________________________________________________\n",
      "gru_7 (GRU)                  (None, 128)               2458368   \n",
      "_________________________________________________________________\n",
      "dropout_14 (Dropout)         (None, 128)               0         \n",
      "_________________________________________________________________\n",
      "dense_14 (Dense)             (None, 128)               16512     \n",
      "_________________________________________________________________\n",
      "dropout_15 (Dropout)         (None, 128)               0         \n",
      "_________________________________________________________________\n",
      "dense_15 (Dense)             (None, 5)                 645       \n",
      "=================================================================\n",
      "Total params: 2,573,925\n",
      "Trainable params: 2,573,445\n",
      "Non-trainable params: 480\n",
      "_________________________________________________________________\n",
      "None\n"
     ]
    }
   ],
   "source": [
    "#Let's try more epochs for the same architecture\n",
    "\n",
    "model = Sequential()\n",
    "\n",
    "model.add(TimeDistributed(Conv2D(16, (3, 3) , padding='same', activation='relu'),input_shape=(20,120,120,3)))\n",
    "model.add(TimeDistributed(BatchNormalization()))\n",
    "model.add(TimeDistributed(MaxPooling2D((2, 2))))\n",
    "\n",
    "model.add(TimeDistributed(Conv2D(32, (3, 3) , padding='same', activation='relu')))\n",
    "model.add(TimeDistributed(BatchNormalization()))\n",
    "model.add(TimeDistributed(MaxPooling2D((2, 2))))\n",
    "\n",
    "model.add(TimeDistributed(Conv2D(64, (3, 3) , padding='same', activation='relu')))\n",
    "model.add(TimeDistributed(BatchNormalization()))\n",
    "model.add(TimeDistributed(MaxPooling2D((2, 2))))\n",
    "\n",
    "model.add(TimeDistributed(Conv2D(128, (3, 3) , padding='same', activation='relu')))\n",
    "model.add(TimeDistributed(BatchNormalization()))\n",
    "model.add(TimeDistributed(MaxPooling2D((2, 2))))\n",
    "\n",
    "model.add(TimeDistributed(Flatten()))\n",
    "\n",
    "\n",
    "model.add(GRU(128))\n",
    "model.add(Dropout(0.3))\n",
    "\n",
    "model.add(Dense(128,activation='relu'))\n",
    "model.add(Dropout(0.3))\n",
    "\n",
    "model.add(Dense(5, activation='softmax'))\n",
    "\n",
    "\n",
    "optimiser = 'adam'\n",
    "model.compile(optimizer=optimiser, loss='categorical_crossentropy', metrics=['categorical_accuracy'])\n",
    "print (model.summary())\n"
   ]
  },
  {
   "cell_type": "code",
   "execution_count": null,
   "metadata": {
    "colab": {
     "base_uri": "https://localhost:8080/",
     "height": 1000
    },
    "colab_type": "code",
    "id": "CVq6yC7xN3ba",
    "outputId": "61bdb428-8f6b-40ff-a587-53dd133f7098"
   },
   "outputs": [
    {
     "name": "stdout",
     "output_type": "stream",
     "text": [
      "Epoch 1/25\n",
      "67/67 [==============================] - ETA: 0s - loss: 1.5168 - categorical_accuracy: 0.3701\n",
      "Epoch 00001: saving model to model_init_2020-09-1315_02_45.011381model-00001-1.51683-0.37015-1.66777-0.23000.h5\n",
      "67/67 [==============================] - 66s 989ms/step - loss: 1.5168 - categorical_accuracy: 0.3701 - val_loss: 1.6678 - val_categorical_accuracy: 0.2300\n",
      "Epoch 2/25\n",
      "67/67 [==============================] - ETA: 0s - loss: 1.2625 - categorical_accuracy: 0.4776\n",
      "Epoch 00002: saving model to model_init_2020-09-1315_02_45.011381model-00002-1.26251-0.47761-1.96820-0.24000.h5\n",
      "67/67 [==============================] - 66s 985ms/step - loss: 1.2625 - categorical_accuracy: 0.4776 - val_loss: 1.9682 - val_categorical_accuracy: 0.2400\n",
      "Epoch 3/25\n",
      "67/67 [==============================] - ETA: 0s - loss: 1.0986 - categorical_accuracy: 0.5612\n",
      "Epoch 00003: saving model to model_init_2020-09-1315_02_45.011381model-00003-1.09857-0.56119-1.93942-0.32000.h5\n",
      "\n",
      "Epoch 00003: ReduceLROnPlateau reducing learning rate to 0.0005000000237487257.\n",
      "67/67 [==============================] - 65s 966ms/step - loss: 1.0986 - categorical_accuracy: 0.5612 - val_loss: 1.9394 - val_categorical_accuracy: 0.3200\n",
      "Epoch 4/25\n",
      "67/67 [==============================] - ETA: 0s - loss: 1.0010 - categorical_accuracy: 0.5985\n",
      "Epoch 00004: saving model to model_init_2020-09-1315_02_45.011381model-00004-1.00098-0.59851-2.56393-0.22000.h5\n",
      "67/67 [==============================] - 64s 961ms/step - loss: 1.0010 - categorical_accuracy: 0.5985 - val_loss: 2.5639 - val_categorical_accuracy: 0.2200\n",
      "Epoch 5/25\n",
      "67/67 [==============================] - ETA: 0s - loss: 0.8485 - categorical_accuracy: 0.6910\n",
      "Epoch 00005: saving model to model_init_2020-09-1315_02_45.011381model-00005-0.84852-0.69104-1.69531-0.45000.h5\n",
      "\n",
      "Epoch 00005: ReduceLROnPlateau reducing learning rate to 0.0002500000118743628.\n",
      "67/67 [==============================] - 65s 966ms/step - loss: 0.8485 - categorical_accuracy: 0.6910 - val_loss: 1.6953 - val_categorical_accuracy: 0.4500\n",
      "Epoch 6/25\n",
      "67/67 [==============================] - ETA: 0s - loss: 0.7917 - categorical_accuracy: 0.6970\n",
      "Epoch 00006: saving model to model_init_2020-09-1315_02_45.011381model-00006-0.79173-0.69701-1.65993-0.37000.h5\n",
      "67/67 [==============================] - 65s 967ms/step - loss: 0.7917 - categorical_accuracy: 0.6970 - val_loss: 1.6599 - val_categorical_accuracy: 0.3700\n",
      "Epoch 7/25\n",
      "67/67 [==============================] - ETA: 0s - loss: 0.6893 - categorical_accuracy: 0.7627\n",
      "Epoch 00007: saving model to model_init_2020-09-1315_02_45.011381model-00007-0.68929-0.76269-1.41825-0.44000.h5\n",
      "67/67 [==============================] - 66s 987ms/step - loss: 0.6893 - categorical_accuracy: 0.7627 - val_loss: 1.4183 - val_categorical_accuracy: 0.4400\n",
      "Epoch 8/25\n",
      "67/67 [==============================] - ETA: 0s - loss: 0.6103 - categorical_accuracy: 0.7701\n",
      "Epoch 00008: saving model to model_init_2020-09-1315_02_45.011381model-00008-0.61029-0.77015-1.31988-0.50000.h5\n",
      "67/67 [==============================] - 66s 983ms/step - loss: 0.6103 - categorical_accuracy: 0.7701 - val_loss: 1.3199 - val_categorical_accuracy: 0.5000\n",
      "Epoch 9/25\n",
      "67/67 [==============================] - ETA: 0s - loss: 0.5379 - categorical_accuracy: 0.8000\n",
      "Epoch 00009: saving model to model_init_2020-09-1315_02_45.011381model-00009-0.53792-0.80000-0.99335-0.66000.h5\n",
      "67/67 [==============================] - 65s 969ms/step - loss: 0.5379 - categorical_accuracy: 0.8000 - val_loss: 0.9933 - val_categorical_accuracy: 0.6600\n",
      "Epoch 10/25\n",
      "67/67 [==============================] - ETA: 0s - loss: 0.4825 - categorical_accuracy: 0.8119\n",
      "Epoch 00010: saving model to model_init_2020-09-1315_02_45.011381model-00010-0.48251-0.81194-0.80350-0.68000.h5\n",
      "67/67 [==============================] - 65s 965ms/step - loss: 0.4825 - categorical_accuracy: 0.8119 - val_loss: 0.8035 - val_categorical_accuracy: 0.6800\n",
      "Epoch 11/25\n",
      "67/67 [==============================] - ETA: 0s - loss: 0.4638 - categorical_accuracy: 0.8373\n",
      "Epoch 00011: saving model to model_init_2020-09-1315_02_45.011381model-00011-0.46381-0.83731-0.75757-0.69000.h5\n",
      "67/67 [==============================] - 64s 962ms/step - loss: 0.4638 - categorical_accuracy: 0.8373 - val_loss: 0.7576 - val_categorical_accuracy: 0.6900\n",
      "Epoch 12/25\n",
      "67/67 [==============================] - ETA: 0s - loss: 0.3826 - categorical_accuracy: 0.8627\n",
      "Epoch 00012: saving model to model_init_2020-09-1315_02_45.011381model-00012-0.38256-0.86269-0.67897-0.73000.h5\n",
      "67/67 [==============================] - 65s 968ms/step - loss: 0.3826 - categorical_accuracy: 0.8627 - val_loss: 0.6790 - val_categorical_accuracy: 0.7300\n",
      "Epoch 13/25\n",
      "67/67 [==============================] - ETA: 0s - loss: 0.3663 - categorical_accuracy: 0.8716\n",
      "Epoch 00013: saving model to model_init_2020-09-1315_02_45.011381model-00013-0.36632-0.87164-0.63980-0.73000.h5\n",
      "67/67 [==============================] - 64s 956ms/step - loss: 0.3663 - categorical_accuracy: 0.8716 - val_loss: 0.6398 - val_categorical_accuracy: 0.7300\n",
      "Epoch 14/25\n",
      "67/67 [==============================] - ETA: 0s - loss: 0.3355 - categorical_accuracy: 0.8866\n",
      "Epoch 00014: saving model to model_init_2020-09-1315_02_45.011381model-00014-0.33551-0.88657-0.82914-0.69000.h5\n",
      "67/67 [==============================] - 65s 963ms/step - loss: 0.3355 - categorical_accuracy: 0.8866 - val_loss: 0.8291 - val_categorical_accuracy: 0.6900\n",
      "Epoch 15/25\n",
      "67/67 [==============================] - ETA: 0s - loss: 0.2450 - categorical_accuracy: 0.9284\n",
      "Epoch 00015: saving model to model_init_2020-09-1315_02_45.011381model-00015-0.24495-0.92836-0.60522-0.76000.h5\n",
      "67/67 [==============================] - 64s 952ms/step - loss: 0.2450 - categorical_accuracy: 0.9284 - val_loss: 0.6052 - val_categorical_accuracy: 0.7600\n",
      "Epoch 16/25\n",
      "67/67 [==============================] - ETA: 0s - loss: 0.2582 - categorical_accuracy: 0.9209\n",
      "Epoch 00016: saving model to model_init_2020-09-1315_02_45.011381model-00016-0.25820-0.92090-0.72167-0.73000.h5\n",
      "67/67 [==============================] - 64s 954ms/step - loss: 0.2582 - categorical_accuracy: 0.9209 - val_loss: 0.7217 - val_categorical_accuracy: 0.7300\n",
      "Epoch 17/25\n",
      "67/67 [==============================] - ETA: 0s - loss: 0.2243 - categorical_accuracy: 0.9343\n",
      "Epoch 00017: saving model to model_init_2020-09-1315_02_45.011381model-00017-0.22434-0.93433-0.55987-0.74000.h5\n",
      "67/67 [==============================] - 65s 976ms/step - loss: 0.2243 - categorical_accuracy: 0.9343 - val_loss: 0.5599 - val_categorical_accuracy: 0.7400\n",
      "Epoch 18/25\n",
      "67/67 [==============================] - ETA: 0s - loss: 0.1849 - categorical_accuracy: 0.9537\n",
      "Epoch 00018: saving model to model_init_2020-09-1315_02_45.011381model-00018-0.18492-0.95373-0.75772-0.71000.h5\n",
      "67/67 [==============================] - 64s 958ms/step - loss: 0.1849 - categorical_accuracy: 0.9537 - val_loss: 0.7577 - val_categorical_accuracy: 0.7100\n",
      "Epoch 19/25\n",
      "67/67 [==============================] - ETA: 0s - loss: 0.1695 - categorical_accuracy: 0.9448\n",
      "Epoch 00019: saving model to model_init_2020-09-1315_02_45.011381model-00019-0.16948-0.94478-0.59894-0.80000.h5\n",
      "\n",
      "Epoch 00019: ReduceLROnPlateau reducing learning rate to 0.0001250000059371814.\n",
      "67/67 [==============================] - 64s 955ms/step - loss: 0.1695 - categorical_accuracy: 0.9448 - val_loss: 0.5989 - val_categorical_accuracy: 0.8000\n",
      "Epoch 20/25\n",
      "67/67 [==============================] - ETA: 0s - loss: 0.1702 - categorical_accuracy: 0.9537\n",
      "Epoch 00020: saving model to model_init_2020-09-1315_02_45.011381model-00020-0.17023-0.95373-0.71495-0.74000.h5\n",
      "67/67 [==============================] - 64s 961ms/step - loss: 0.1702 - categorical_accuracy: 0.9537 - val_loss: 0.7149 - val_categorical_accuracy: 0.7400\n",
      "Epoch 21/25\n",
      "67/67 [==============================] - ETA: 0s - loss: 0.1431 - categorical_accuracy: 0.9761\n",
      "Epoch 00021: saving model to model_init_2020-09-1315_02_45.011381model-00021-0.14309-0.97612-0.71818-0.73000.h5\n",
      "\n",
      "Epoch 00021: ReduceLROnPlateau reducing learning rate to 6.25000029685907e-05.\n",
      "67/67 [==============================] - 66s 986ms/step - loss: 0.1431 - categorical_accuracy: 0.9761 - val_loss: 0.7182 - val_categorical_accuracy: 0.7300\n",
      "Epoch 22/25\n",
      "67/67 [==============================] - ETA: 0s - loss: 0.1286 - categorical_accuracy: 0.9761\n",
      "Epoch 00022: saving model to model_init_2020-09-1315_02_45.011381model-00022-0.12860-0.97612-0.64089-0.72000.h5\n",
      "67/67 [==============================] - 65s 971ms/step - loss: 0.1286 - categorical_accuracy: 0.9761 - val_loss: 0.6409 - val_categorical_accuracy: 0.7200\n",
      "Epoch 23/25\n",
      "67/67 [==============================] - ETA: 0s - loss: 0.1182 - categorical_accuracy: 0.9806\n",
      "Epoch 00023: saving model to model_init_2020-09-1315_02_45.011381model-00023-0.11815-0.98060-0.73621-0.72000.h5\n",
      "\n",
      "Epoch 00023: ReduceLROnPlateau reducing learning rate to 3.125000148429535e-05.\n",
      "67/67 [==============================] - 66s 979ms/step - loss: 0.1182 - categorical_accuracy: 0.9806 - val_loss: 0.7362 - val_categorical_accuracy: 0.7200\n",
      "Epoch 24/25\n",
      "67/67 [==============================] - ETA: 0s - loss: 0.0924 - categorical_accuracy: 0.9806\n",
      "Epoch 00024: saving model to model_init_2020-09-1315_02_45.011381model-00024-0.09242-0.98060-0.63875-0.72000.h5\n",
      "67/67 [==============================] - 65s 966ms/step - loss: 0.0924 - categorical_accuracy: 0.9806 - val_loss: 0.6387 - val_categorical_accuracy: 0.7200\n",
      "Epoch 25/25\n",
      "67/67 [==============================] - ETA: 0s - loss: 0.0925 - categorical_accuracy: 0.9776\n",
      "Epoch 00025: saving model to model_init_2020-09-1315_02_45.011381model-00025-0.09246-0.97761-0.60421-0.76000.h5\n",
      "\n",
      "Epoch 00025: ReduceLROnPlateau reducing learning rate to 1.5625000742147677e-05.\n",
      "67/67 [==============================] - 64s 956ms/step - loss: 0.0925 - categorical_accuracy: 0.9776 - val_loss: 0.6042 - val_categorical_accuracy: 0.7600\n"
     ]
    },
    {
     "data": {
      "text/plain": [
       "<tensorflow.python.keras.callbacks.History at 0x7f305226be10>"
      ]
     },
     "execution_count": 48,
     "metadata": {
      "tags": []
     },
     "output_type": "execute_result"
    }
   ],
   "source": [
    "model.fit_generator(train_generator, steps_per_epoch=steps_per_epoch, epochs=25, verbose=1, \n",
    "                    callbacks=callbacks_list, validation_data=val_generator, \n",
    "                    validation_steps=validation_steps, class_weight=None, workers=1, initial_epoch=0)"
   ]
  },
  {
   "cell_type": "code",
   "execution_count": null,
   "metadata": {
    "colab": {
     "base_uri": "https://localhost:8080/",
     "height": 782
    },
    "colab_type": "code",
    "id": "a0xMJ_nSN8Lu",
    "outputId": "7df0ec84-2f22-4ffa-e451-baa64b6a50ac"
   },
   "outputs": [
    {
     "name": "stdout",
     "output_type": "stream",
     "text": [
      "Model: \"sequential_9\"\n",
      "_________________________________________________________________\n",
      "Layer (type)                 Output Shape              Param #   \n",
      "=================================================================\n",
      "time_distributed_117 (TimeDi (None, 20, 120, 120, 16)  448       \n",
      "_________________________________________________________________\n",
      "time_distributed_118 (TimeDi (None, 20, 120, 120, 16)  64        \n",
      "_________________________________________________________________\n",
      "time_distributed_119 (TimeDi (None, 20, 60, 60, 16)    0         \n",
      "_________________________________________________________________\n",
      "time_distributed_120 (TimeDi (None, 20, 60, 60, 32)    4640      \n",
      "_________________________________________________________________\n",
      "time_distributed_121 (TimeDi (None, 20, 60, 60, 32)    128       \n",
      "_________________________________________________________________\n",
      "time_distributed_122 (TimeDi (None, 20, 30, 30, 32)    0         \n",
      "_________________________________________________________________\n",
      "time_distributed_123 (TimeDi (None, 20, 30, 30, 64)    18496     \n",
      "_________________________________________________________________\n",
      "time_distributed_124 (TimeDi (None, 20, 30, 30, 64)    256       \n",
      "_________________________________________________________________\n",
      "time_distributed_125 (TimeDi (None, 20, 15, 15, 64)    0         \n",
      "_________________________________________________________________\n",
      "time_distributed_126 (TimeDi (None, 20, 15, 15, 128)   73856     \n",
      "_________________________________________________________________\n",
      "time_distributed_127 (TimeDi (None, 20, 15, 15, 128)   512       \n",
      "_________________________________________________________________\n",
      "time_distributed_128 (TimeDi (None, 20, 7, 7, 128)     0         \n",
      "_________________________________________________________________\n",
      "time_distributed_129 (TimeDi (None, 20, 6272)          0         \n",
      "_________________________________________________________________\n",
      "gru_9 (GRU)                  (None, 128)               2458368   \n",
      "_________________________________________________________________\n",
      "dropout_18 (Dropout)         (None, 128)               0         \n",
      "_________________________________________________________________\n",
      "dense_18 (Dense)             (None, 128)               16512     \n",
      "_________________________________________________________________\n",
      "dropout_19 (Dropout)         (None, 128)               0         \n",
      "_________________________________________________________________\n",
      "dense_19 (Dense)             (None, 5)                 645       \n",
      "=================================================================\n",
      "Total params: 2,573,925\n",
      "Trainable params: 2,573,445\n",
      "Non-trainable params: 480\n",
      "_________________________________________________________________\n",
      "None\n"
     ]
    }
   ],
   "source": [
    "#this one is overfit, Let's re-run the same with higher dropouts at dense layer\n",
    "\n",
    "model = Sequential()\n",
    "\n",
    "model.add(TimeDistributed(Conv2D(16, (3, 3) , padding='same', activation='relu'),input_shape=(20,120,120,3)))\n",
    "model.add(TimeDistributed(BatchNormalization()))\n",
    "model.add(TimeDistributed(MaxPooling2D((2, 2))))\n",
    "\n",
    "model.add(TimeDistributed(Conv2D(32, (3, 3) , padding='same', activation='relu')))\n",
    "model.add(TimeDistributed(BatchNormalization()))\n",
    "model.add(TimeDistributed(MaxPooling2D((2, 2))))\n",
    "\n",
    "model.add(TimeDistributed(Conv2D(64, (3, 3) , padding='same', activation='relu')))\n",
    "model.add(TimeDistributed(BatchNormalization()))\n",
    "model.add(TimeDistributed(MaxPooling2D((2, 2))))\n",
    "\n",
    "model.add(TimeDistributed(Conv2D(128, (3, 3) , padding='same', activation='relu')))\n",
    "model.add(TimeDistributed(BatchNormalization()))\n",
    "model.add(TimeDistributed(MaxPooling2D((2, 2))))\n",
    "\n",
    "model.add(TimeDistributed(Flatten()))\n",
    "\n",
    "\n",
    "model.add(GRU(128))\n",
    "model.add(Dropout(0.3))\n",
    "\n",
    "model.add(Dense(128,activation='relu'))\n",
    "model.add(Dropout(0.5))\n",
    "\n",
    "model.add(Dense(5, activation='softmax'))\n",
    "\n",
    "\n",
    "optimiser = 'adam'\n",
    "model.compile(optimizer=optimiser, loss='categorical_crossentropy', metrics=['categorical_accuracy'])\n",
    "print (model.summary())\n"
   ]
  },
  {
   "cell_type": "code",
   "execution_count": null,
   "metadata": {
    "colab": {
     "base_uri": "https://localhost:8080/",
     "height": 1000
    },
    "colab_type": "code",
    "id": "3CcHjqwsN5bK",
    "outputId": "af0f956c-69a2-4b7d-f777-b961a1732518"
   },
   "outputs": [
    {
     "name": "stdout",
     "output_type": "stream",
     "text": [
      "Epoch 1/25\n",
      "67/67 [==============================] - ETA: 0s - loss: 1.7560 - categorical_accuracy: 0.2716\n",
      "Epoch 00001: saving model to model_init_2020-09-1315_02_45.011381model-00001-1.75600-0.27164-2.91376-0.16000.h5\n",
      "67/67 [==============================] - 66s 978ms/step - loss: 1.7560 - categorical_accuracy: 0.2716 - val_loss: 2.9138 - val_categorical_accuracy: 0.1600\n",
      "Epoch 2/25\n",
      "67/67 [==============================] - ETA: 0s - loss: 1.3776 - categorical_accuracy: 0.4075\n",
      "Epoch 00002: saving model to model_init_2020-09-1315_02_45.011381model-00002-1.37760-0.40746-2.30106-0.27000.h5\n",
      "67/67 [==============================] - 65s 969ms/step - loss: 1.3776 - categorical_accuracy: 0.4075 - val_loss: 2.3011 - val_categorical_accuracy: 0.2700\n",
      "Epoch 3/25\n",
      "67/67 [==============================] - ETA: 0s - loss: 1.2152 - categorical_accuracy: 0.5209\n",
      "Epoch 00003: saving model to model_init_2020-09-1315_02_45.011381model-00003-1.21519-0.52090-2.51422-0.21000.h5\n",
      "67/67 [==============================] - 65s 977ms/step - loss: 1.2152 - categorical_accuracy: 0.5209 - val_loss: 2.5142 - val_categorical_accuracy: 0.2100\n",
      "Epoch 4/25\n",
      "67/67 [==============================] - ETA: 0s - loss: 1.1344 - categorical_accuracy: 0.5194\n",
      "Epoch 00004: saving model to model_init_2020-09-1315_02_45.011381model-00004-1.13437-0.51940-2.34778-0.30000.h5\n",
      "\n",
      "Epoch 00004: ReduceLROnPlateau reducing learning rate to 0.0005000000237487257.\n",
      "67/67 [==============================] - 66s 991ms/step - loss: 1.1344 - categorical_accuracy: 0.5194 - val_loss: 2.3478 - val_categorical_accuracy: 0.3000\n",
      "Epoch 5/25\n",
      "67/67 [==============================] - ETA: 0s - loss: 1.0719 - categorical_accuracy: 0.5627\n",
      "Epoch 00005: saving model to model_init_2020-09-1315_02_45.011381model-00005-1.07191-0.56269-1.67540-0.39000.h5\n",
      "67/67 [==============================] - 64s 962ms/step - loss: 1.0719 - categorical_accuracy: 0.5627 - val_loss: 1.6754 - val_categorical_accuracy: 0.3900\n",
      "Epoch 6/25\n",
      "67/67 [==============================] - ETA: 0s - loss: 0.8920 - categorical_accuracy: 0.6418\n",
      "Epoch 00006: saving model to model_init_2020-09-1315_02_45.011381model-00006-0.89197-0.64179-1.58636-0.40000.h5\n",
      "67/67 [==============================] - 65s 973ms/step - loss: 0.8920 - categorical_accuracy: 0.6418 - val_loss: 1.5864 - val_categorical_accuracy: 0.4000\n",
      "Epoch 7/25\n",
      "67/67 [==============================] - ETA: 0s - loss: 0.9371 - categorical_accuracy: 0.6328\n",
      "Epoch 00007: saving model to model_init_2020-09-1315_02_45.011381model-00007-0.93710-0.63284-1.44685-0.48000.h5\n",
      "67/67 [==============================] - 65s 967ms/step - loss: 0.9371 - categorical_accuracy: 0.6328 - val_loss: 1.4468 - val_categorical_accuracy: 0.4800\n",
      "Epoch 8/25\n",
      "67/67 [==============================] - ETA: 0s - loss: 0.7816 - categorical_accuracy: 0.6940\n",
      "Epoch 00008: saving model to model_init_2020-09-1315_02_45.011381model-00008-0.78161-0.69403-1.40374-0.41000.h5\n",
      "67/67 [==============================] - 65s 963ms/step - loss: 0.7816 - categorical_accuracy: 0.6940 - val_loss: 1.4037 - val_categorical_accuracy: 0.4100\n",
      "Epoch 9/25\n",
      "67/67 [==============================] - ETA: 0s - loss: 0.8196 - categorical_accuracy: 0.6896\n",
      "Epoch 00009: saving model to model_init_2020-09-1315_02_45.011381model-00009-0.81957-0.68955-0.98134-0.55000.h5\n",
      "67/67 [==============================] - 66s 992ms/step - loss: 0.8196 - categorical_accuracy: 0.6896 - val_loss: 0.9813 - val_categorical_accuracy: 0.5500\n",
      "Epoch 10/25\n",
      "67/67 [==============================] - ETA: 0s - loss: 0.6644 - categorical_accuracy: 0.7373\n",
      "Epoch 00010: saving model to model_init_2020-09-1315_02_45.011381model-00010-0.66437-0.73731-0.92999-0.68000.h5\n",
      "67/67 [==============================] - 64s 955ms/step - loss: 0.6644 - categorical_accuracy: 0.7373 - val_loss: 0.9300 - val_categorical_accuracy: 0.6800\n",
      "Epoch 11/25\n",
      "67/67 [==============================] - ETA: 0s - loss: 0.7020 - categorical_accuracy: 0.7433\n",
      "Epoch 00011: saving model to model_init_2020-09-1315_02_45.011381model-00011-0.70203-0.74328-1.01362-0.68000.h5\n",
      "67/67 [==============================] - 65s 968ms/step - loss: 0.7020 - categorical_accuracy: 0.7433 - val_loss: 1.0136 - val_categorical_accuracy: 0.6800\n",
      "Epoch 12/25\n",
      "67/67 [==============================] - ETA: 0s - loss: 0.5995 - categorical_accuracy: 0.7657\n",
      "Epoch 00012: saving model to model_init_2020-09-1315_02_45.011381model-00012-0.59948-0.76567-0.78969-0.73000.h5\n",
      "67/67 [==============================] - 65s 971ms/step - loss: 0.5995 - categorical_accuracy: 0.7657 - val_loss: 0.7897 - val_categorical_accuracy: 0.7300\n",
      "Epoch 13/25\n",
      "67/67 [==============================] - ETA: 0s - loss: 0.5858 - categorical_accuracy: 0.7627\n",
      "Epoch 00013: saving model to model_init_2020-09-1315_02_45.011381model-00013-0.58581-0.76269-0.73526-0.78000.h5\n",
      "67/67 [==============================] - 64s 963ms/step - loss: 0.5858 - categorical_accuracy: 0.7627 - val_loss: 0.7353 - val_categorical_accuracy: 0.7800\n",
      "Epoch 14/25\n",
      "67/67 [==============================] - ETA: 0s - loss: 0.5736 - categorical_accuracy: 0.7940\n",
      "Epoch 00014: saving model to model_init_2020-09-1315_02_45.011381model-00014-0.57362-0.79403-0.83206-0.72000.h5\n",
      "67/67 [==============================] - 65s 977ms/step - loss: 0.5736 - categorical_accuracy: 0.7940 - val_loss: 0.8321 - val_categorical_accuracy: 0.7200\n",
      "Epoch 15/25\n",
      "67/67 [==============================] - ETA: 0s - loss: 0.5932 - categorical_accuracy: 0.7896\n",
      "Epoch 00015: saving model to model_init_2020-09-1315_02_45.011381model-00015-0.59322-0.78955-0.94706-0.67000.h5\n",
      "\n",
      "Epoch 00015: ReduceLROnPlateau reducing learning rate to 0.0002500000118743628.\n",
      "67/67 [==============================] - 65s 968ms/step - loss: 0.5932 - categorical_accuracy: 0.7896 - val_loss: 0.9471 - val_categorical_accuracy: 0.6700\n",
      "Epoch 16/25\n",
      "67/67 [==============================] - ETA: 0s - loss: 0.5089 - categorical_accuracy: 0.7970\n",
      "Epoch 00016: saving model to model_init_2020-09-1315_02_45.011381model-00016-0.50893-0.79701-0.82232-0.67000.h5\n",
      "67/67 [==============================] - 64s 958ms/step - loss: 0.5089 - categorical_accuracy: 0.7970 - val_loss: 0.8223 - val_categorical_accuracy: 0.6700\n",
      "Epoch 17/25\n",
      "67/67 [==============================] - ETA: 0s - loss: 0.4304 - categorical_accuracy: 0.8493\n",
      "Epoch 00017: saving model to model_init_2020-09-1315_02_45.011381model-00017-0.43037-0.84925-0.68824-0.76000.h5\n",
      "67/67 [==============================] - 65s 974ms/step - loss: 0.4304 - categorical_accuracy: 0.8493 - val_loss: 0.6882 - val_categorical_accuracy: 0.7600\n",
      "Epoch 18/25\n",
      "67/67 [==============================] - ETA: 0s - loss: 0.3940 - categorical_accuracy: 0.8597\n",
      "Epoch 00018: saving model to model_init_2020-09-1315_02_45.011381model-00018-0.39403-0.85970-0.64690-0.79000.h5\n",
      "67/67 [==============================] - 66s 984ms/step - loss: 0.3940 - categorical_accuracy: 0.8597 - val_loss: 0.6469 - val_categorical_accuracy: 0.7900\n",
      "Epoch 19/25\n",
      "67/67 [==============================] - ETA: 0s - loss: 0.3526 - categorical_accuracy: 0.8731\n",
      "Epoch 00019: saving model to model_init_2020-09-1315_02_45.011381model-00019-0.35255-0.87313-0.61783-0.77000.h5\n",
      "67/67 [==============================] - 65s 977ms/step - loss: 0.3526 - categorical_accuracy: 0.8731 - val_loss: 0.6178 - val_categorical_accuracy: 0.7700\n",
      "Epoch 20/25\n",
      "67/67 [==============================] - ETA: 0s - loss: 0.3143 - categorical_accuracy: 0.9000\n",
      "Epoch 00020: saving model to model_init_2020-09-1315_02_45.011381model-00020-0.31428-0.90000-0.55136-0.80000.h5\n",
      "67/67 [==============================] - 65s 965ms/step - loss: 0.3143 - categorical_accuracy: 0.9000 - val_loss: 0.5514 - val_categorical_accuracy: 0.8000\n",
      "Epoch 21/25\n",
      "67/67 [==============================] - ETA: 0s - loss: 0.2856 - categorical_accuracy: 0.9090\n",
      "Epoch 00021: saving model to model_init_2020-09-1315_02_45.011381model-00021-0.28555-0.90896-0.62135-0.80000.h5\n",
      "67/67 [==============================] - 66s 982ms/step - loss: 0.2856 - categorical_accuracy: 0.9090 - val_loss: 0.6213 - val_categorical_accuracy: 0.8000\n",
      "Epoch 22/25\n",
      "67/67 [==============================] - ETA: 0s - loss: 0.2678 - categorical_accuracy: 0.9254\n",
      "Epoch 00022: saving model to model_init_2020-09-1315_02_45.011381model-00022-0.26785-0.92537-0.59698-0.76000.h5\n",
      "\n",
      "Epoch 00022: ReduceLROnPlateau reducing learning rate to 0.0001250000059371814.\n",
      "67/67 [==============================] - 66s 992ms/step - loss: 0.2678 - categorical_accuracy: 0.9254 - val_loss: 0.5970 - val_categorical_accuracy: 0.7600\n",
      "Epoch 23/25\n",
      "67/67 [==============================] - ETA: 0s - loss: 0.2837 - categorical_accuracy: 0.9134\n",
      "Epoch 00023: saving model to model_init_2020-09-1315_02_45.011381model-00023-0.28368-0.91343-0.73284-0.77000.h5\n",
      "67/67 [==============================] - 66s 989ms/step - loss: 0.2837 - categorical_accuracy: 0.9134 - val_loss: 0.7328 - val_categorical_accuracy: 0.7700\n",
      "Epoch 24/25\n",
      "67/67 [==============================] - ETA: 0s - loss: 0.2457 - categorical_accuracy: 0.9239\n",
      "Epoch 00024: saving model to model_init_2020-09-1315_02_45.011381model-00024-0.24567-0.92388-0.59697-0.77000.h5\n",
      "\n",
      "Epoch 00024: ReduceLROnPlateau reducing learning rate to 6.25000029685907e-05.\n",
      "67/67 [==============================] - 65s 972ms/step - loss: 0.2457 - categorical_accuracy: 0.9239 - val_loss: 0.5970 - val_categorical_accuracy: 0.7700\n",
      "Epoch 25/25\n",
      "67/67 [==============================] - ETA: 0s - loss: 0.2117 - categorical_accuracy: 0.9418\n",
      "Epoch 00025: saving model to model_init_2020-09-1315_02_45.011381model-00025-0.21165-0.94179-0.57781-0.80000.h5\n",
      "67/67 [==============================] - 66s 985ms/step - loss: 0.2117 - categorical_accuracy: 0.9418 - val_loss: 0.5778 - val_categorical_accuracy: 0.8000\n"
     ]
    },
    {
     "data": {
      "text/plain": [
       "<tensorflow.python.keras.callbacks.History at 0x7f304f7db630>"
      ]
     },
     "execution_count": 52,
     "metadata": {
      "tags": []
     },
     "output_type": "execute_result"
    }
   ],
   "source": [
    "model.fit_generator(train_generator, steps_per_epoch=steps_per_epoch, epochs=25, verbose=1, \n",
    "                    callbacks=callbacks_list, validation_data=val_generator, \n",
    "                    validation_steps=validation_steps, class_weight=None, workers=1, initial_epoch=0)"
   ]
  },
  {
   "cell_type": "code",
   "execution_count": null,
   "metadata": {
    "colab": {},
    "colab_type": "code",
    "id": "KCpsGpQtcKng"
   },
   "outputs": [],
   "source": []
  }
 ],
 "metadata": {
  "accelerator": "GPU",
  "colab": {
   "collapsed_sections": [],
   "name": "Gesture Recognition DL.ipynb",
   "provenance": []
  },
  "kernelspec": {
   "display_name": "Python 3",
   "language": "python",
   "name": "python3"
  },
  "language_info": {
   "codemirror_mode": {
    "name": "ipython",
    "version": 3
   },
   "file_extension": ".py",
   "mimetype": "text/x-python",
   "name": "python",
   "nbconvert_exporter": "python",
   "pygments_lexer": "ipython3",
   "version": "3.7.7"
  }
 },
 "nbformat": 4,
 "nbformat_minor": 1
}
