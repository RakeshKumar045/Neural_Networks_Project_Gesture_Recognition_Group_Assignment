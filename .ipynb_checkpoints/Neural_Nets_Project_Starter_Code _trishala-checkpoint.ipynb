{
 "cells": [
  {
   "cell_type": "markdown",
   "metadata": {},
   "source": [
    "# Gesture Recognition\n",
    "In this group project, you are going to build a 3D Conv model that will be able to predict the 5 gestures correctly. Please import the following libraries to get started."
   ]
  },
  {
   "cell_type": "code",
   "execution_count": 1,
   "metadata": {},
   "outputs": [
    {
     "name": "stderr",
     "output_type": "stream",
     "text": [
      "Using TensorFlow backend.\n"
     ]
    }
   ],
   "source": [
    "import numpy as np\n",
    "import pandas as pd\n",
    "import os\n",
    "# from scipy.misc import imread, imresize\n",
    "from skimage import io\n",
    "import datetime\n",
    "import os\n",
    "from keras.regularizers import l2\n",
    "\n",
    "import cv2"
   ]
  },
  {
   "cell_type": "markdown",
   "metadata": {},
   "source": [
    "We set the random seed so that the results don't vary drastically."
   ]
  },
  {
   "cell_type": "code",
   "execution_count": 2,
   "metadata": {},
   "outputs": [],
   "source": [
    "np.random.seed(30)\n",
    "import random as rn\n",
    "rn.seed(30)\n",
    "from keras import backend as K\n",
    "import tensorflow as tf\n",
    "# tf.set_random_seed(30)"
   ]
  },
  {
   "cell_type": "markdown",
   "metadata": {},
   "source": [
    "In this block, you read the folder names for training and validation. You also set the `batch_size` here. Note that you set the batch size in such a way that you are able to use the GPU in full capacity. You keep increasing the batch size until the machine throws an error."
   ]
  },
  {
   "cell_type": "code",
   "execution_count": 3,
   "metadata": {},
   "outputs": [],
   "source": [
    "# train_doc = np.random.permutation(open('/notebooks/storage/Final_data/Collated_training/train.csv').readlines())\n",
    "# val_doc = np.random.permutation(open('/notebooks/storage/Final_data/Collated_training/val.csv').readlines())\n",
    "\n",
    "train_doc = np.random.permutation(open('Project_data/train.csv').readlines())\n",
    "val_doc = np.random.permutation(open('Project_data/val.csv').readlines())\n",
    "batch_size = 10 #experiment with the batch size"
   ]
  },
  {
   "cell_type": "code",
   "execution_count": 4,
   "metadata": {},
   "outputs": [],
   "source": [
    "rows = 120\n",
    "cols = 120"
   ]
  },
  {
   "cell_type": "code",
   "execution_count": null,
   "metadata": {},
   "outputs": [],
   "source": [
    "# train_doc"
   ]
  },
  {
   "cell_type": "code",
   "execution_count": 5,
   "metadata": {},
   "outputs": [
    {
     "data": {
      "text/html": [
       "<div>\n",
       "<style scoped>\n",
       "    .dataframe tbody tr th:only-of-type {\n",
       "        vertical-align: middle;\n",
       "    }\n",
       "\n",
       "    .dataframe tbody tr th {\n",
       "        vertical-align: top;\n",
       "    }\n",
       "\n",
       "    .dataframe thead th {\n",
       "        text-align: right;\n",
       "    }\n",
       "</style>\n",
       "<table border=\"1\" class=\"dataframe\">\n",
       "  <thead>\n",
       "    <tr style=\"text-align: right;\">\n",
       "      <th></th>\n",
       "      <th>Frame Name</th>\n",
       "      <th>Frame Target</th>\n",
       "      <th>Frame Class</th>\n",
       "    </tr>\n",
       "  </thead>\n",
       "  <tbody>\n",
       "    <tr>\n",
       "      <th>0</th>\n",
       "      <td>WIN_20180926_16_54_08_Pro_Right_Swipe_new</td>\n",
       "      <td>Right_Swipe_new</td>\n",
       "      <td>1</td>\n",
       "    </tr>\n",
       "    <tr>\n",
       "      <th>1</th>\n",
       "      <td>WIN_20180925_18_02_58_Pro_Thumbs_Down_new</td>\n",
       "      <td>Thumbs_Down_new</td>\n",
       "      <td>3</td>\n",
       "    </tr>\n",
       "    <tr>\n",
       "      <th>2</th>\n",
       "      <td>WIN_20180925_17_33_08_Pro_Left_Swipe_new</td>\n",
       "      <td>Left_Swipe_new</td>\n",
       "      <td>0</td>\n",
       "    </tr>\n",
       "    <tr>\n",
       "      <th>3</th>\n",
       "      <td>WIN_20180925_17_51_17_Pro_Thumbs_Up_new</td>\n",
       "      <td>Thumbs_Up_new</td>\n",
       "      <td>4</td>\n",
       "    </tr>\n",
       "    <tr>\n",
       "      <th>4</th>\n",
       "      <td>WIN_20180926_17_17_35_Pro_Left_Swipe_new</td>\n",
       "      <td>Left_Swipe_new</td>\n",
       "      <td>0</td>\n",
       "    </tr>\n",
       "  </tbody>\n",
       "</table>\n",
       "</div>"
      ],
      "text/plain": [
       "                                  Frame Name     Frame Target Frame Class\n",
       "0  WIN_20180926_16_54_08_Pro_Right_Swipe_new  Right_Swipe_new           1\n",
       "1  WIN_20180925_18_02_58_Pro_Thumbs_Down_new  Thumbs_Down_new           3\n",
       "2   WIN_20180925_17_33_08_Pro_Left_Swipe_new   Left_Swipe_new           0\n",
       "3    WIN_20180925_17_51_17_Pro_Thumbs_Up_new    Thumbs_Up_new           4\n",
       "4   WIN_20180926_17_17_35_Pro_Left_Swipe_new   Left_Swipe_new           0"
      ]
     },
     "execution_count": 5,
     "metadata": {},
     "output_type": "execute_result"
    }
   ],
   "source": [
    "train_df = pd.DataFrame()\n",
    "frame_name = []\n",
    "frame_target = []\n",
    "frame_class = []\n",
    "\n",
    "\n",
    "for train_data in train_doc:\n",
    "    data = train_data.split(\";\")\n",
    "    frame_name.append(data[0])\n",
    "    frame_target.append(data[1])\n",
    "    frame_class.append(data[2].strip())\n",
    "   \n",
    "train_df[\"Frame Name\"] = frame_name\n",
    "train_df[\"Frame Target\"] = frame_target\n",
    "train_df[\"Frame Class\"] = frame_class\n",
    "\n",
    "train_df.head()"
   ]
  },
  {
   "cell_type": "markdown",
   "metadata": {},
   "source": [
    "## Generator\n",
    "This is one of the most important part of the code. The overall structure of the generator has been given. In the generator, you are going to preprocess the images as you have images of 2 different dimensions as well as create a batch of video frames. You have to experiment with `img_idx`, `y`,`z` and normalization such that you get high accuracy."
   ]
  },
  {
   "cell_type": "code",
   "execution_count": null,
   "metadata": {},
   "outputs": [],
   "source": []
  },
  {
   "cell_type": "markdown",
   "metadata": {},
   "source": [
    "# Image Crop & Resize : Many technique(open-cv, scipy, skimage) "
   ]
  },
  {
   "cell_type": "code",
   "execution_count": 6,
   "metadata": {},
   "outputs": [],
   "source": [
    "\n",
    "#data resizing - Resizing all the images, so we can have all the images in a specific size\n",
    "def crop_resize_img(img):\n",
    "    if img.shape[0] != img.shape[1]:\n",
    "        img=img[0:120,10:150]  #crop the image\n",
    "#     resized_image = cv2.imresize(img, (rows,cols)) # resize the image\n",
    "    resized_image = cv2.resize(img, (rows,cols)) # resize the image\n",
    "    return resized_image\n",
    "\n"
   ]
  },
  {
   "cell_type": "code",
   "execution_count": 7,
   "metadata": {},
   "outputs": [],
   "source": [
    "def generator(source_path, folder_list, batch_size):\n",
    "    print( 'Source path = ', source_path, '; batch size =', batch_size)\n",
    "    img_idx = list(range(5,25)) #create a list of image numbers you want to use for a particular video\n",
    "    x = len(img_idx)\n",
    "    y = 120\n",
    "    z = 120\n",
    "    \n",
    "    \n",
    "    \n",
    "    while True:\n",
    "        t = np.random.permutation(folder_list)\n",
    "#         if len(t)%batch_size==0:\n",
    "        num_batches = int(len(t)//batch_size) # calculate the number of batches\n",
    "#         else:\n",
    "#             num_batches = int(len(t)//batch_size + 1)\n",
    "#             rest_videos_count = int(len(t)%batch_size)\n",
    "            \n",
    "        for batch in range(num_batches): # we iterate over the number of batches\n",
    "            batch_data = np.zeros((batch_size,x,y,z,3)) # x is the number of images you use for each video, (y,z) is the final size of the input images and 3 is the number of channels RGB\n",
    "            batch_labels = np.zeros((batch_size,5)) # batch_labels is the one hot representation of the output\n",
    "            for folder in range(batch_size): # iterate over the batch_size\n",
    "                imgs = os.listdir(source_path+'/'+ t[folder + (batch*batch_size)].split(';')[0]) # read all the images in the folder\n",
    "                for idx,item in enumerate(img_idx): #  Iterate iver the frames/images of a folder to read them in\n",
    "                    image = io.imread(source_path+'/'+ t[folder + (batch*batch_size)].strip().split(';')[0]+'/'+imgs[item]).astype(np.float32)\n",
    "                    \n",
    "                    #crop the images and resize them. Note that the images are of 2 different shape \n",
    "                    #and the conv3D will throw error if the inputs in a batch have different shapes\n",
    "                    resized_img = crop_resize_img(image) #resizing the image\n",
    "                    \n",
    "                    batch_data[folder,idx,:,:,0] = resized_img[:,:,0]/255 #normalise and feed in the image\n",
    "                    batch_data[folder,idx,:,:,1] = resized_img[:,:,1]/255 #normalise and feed in the image\n",
    "                    batch_data[folder,idx,:,:,2] = resized_img[:,:,2]/255 #normalise and feed in the image\n",
    "                    \n",
    "                batch_labels[folder, int(t[folder + (batch*batch_size)].strip().split(';')[2])] = 1\n",
    "            yield batch_data, batch_labels #you yield the batch_data and the batch_labels, remember what does yield do\n",
    "            \n",
    "\n",
    "        \n",
    "        # write the code for the remaining data points which are left after full batches\n",
    "        if int(len(t)%batch_size!=0):\n",
    "            rest_videos_count = int(len(t)%batch_size)\n",
    "            for folder in range(rest_videos_count): # iterate over the batch_size\n",
    "                imgs = os.listdir(source_path+'/'+ t[folder + ((num_batches)*batch_size)].split(';')[0]) # read all the images in the folder\n",
    "                for idx,item in enumerate(img_idx): #  Iterate iver the frames/images of a folder to read them in\n",
    "                    image = io.imread(source_path+'/'+ t[folder + ((num_batches)*batch_size)].strip().split(';')[0]+'/'+imgs[item]).astype(np.float32)\n",
    "                    \n",
    "                    #crop the images and resize them. Note that the images are of 2 different shape \n",
    "                    #and the conv3D will throw error if the inputs in a batch have different shapes\n",
    "                    resized_img = crop_resize_img(image) #resizing the image\n",
    "                    \n",
    "                    batch_data[folder,idx,:,:,0] = resized_img[:,:,0]/255 #normalise and feed in the image\n",
    "                    batch_data[folder,idx,:,:,1] = resized_img[:,:,1]/255 #normalise and feed in the image\n",
    "                    batch_data[folder,idx,:,:,2] = resized_img[:,:,2]/255 #normalise and feed in the image\n",
    "                    \n",
    "                batch_labels[folder, int(t[folder + (num_batches*batch_size)].strip().split(';')[2])] = 1\n",
    "            yield batch_data, batch_labels #you yield the batch_data and the batch_labels, remember what does yield do"
   ]
  },
  {
   "cell_type": "code",
   "execution_count": null,
   "metadata": {},
   "outputs": [],
   "source": []
  },
  {
   "cell_type": "code",
   "execution_count": null,
   "metadata": {},
   "outputs": [],
   "source": []
  },
  {
   "cell_type": "markdown",
   "metadata": {},
   "source": [
    "Note here that a video is represented above in the generator as (number of images, height, width, number of channels). Take this into consideration while creating the model architecture."
   ]
  },
  {
   "cell_type": "code",
   "execution_count": 8,
   "metadata": {},
   "outputs": [
    {
     "name": "stdout",
     "output_type": "stream",
     "text": [
      "# training sequences = 663\n",
      "# validation sequences = 100\n",
      "# epochs = 10\n"
     ]
    }
   ],
   "source": [
    "curr_dt_time = datetime.datetime.now()\n",
    "# train_path = '/notebooks/storage/Final_data/Collated_training/train'\n",
    "# val_path = '/notebooks/storage/Final_data/Collated_training/val'\n",
    "\n",
    "train_path = 'Project_data/train'\n",
    "val_path = 'Project_data/val'\n",
    "\n",
    "\n",
    "num_train_sequences = len(train_doc)\n",
    "print('# training sequences =', num_train_sequences)\n",
    "num_val_sequences = len(val_doc)\n",
    "print('# validation sequences =', num_val_sequences)\n",
    "num_epochs = 10# choose the number of epochs\n",
    "print ('# epochs =', num_epochs)"
   ]
  },
  {
   "cell_type": "markdown",
   "metadata": {},
   "source": [
    "## Model\n",
    "Here you make the model using different functionalities that Keras provides. Remember to use `Conv3D` and `MaxPooling3D` and not `Conv2D` and `Maxpooling2D` for a 3D convolution model. You would want to use `TimeDistributed` while building a Conv2D + RNN model. Also remember that the last layer is the softmax. Design the network in such a way that the model is able to give good accuracy on the least number of parameters so that it can fit in the memory of the webcam."
   ]
  },
  {
   "cell_type": "code",
   "execution_count": 9,
   "metadata": {},
   "outputs": [],
   "source": [
    "from keras.models import Sequential, Model\n",
    "from keras.layers import Dense, GRU, Flatten, TimeDistributed, Flatten, BatchNormalization, Activation, Dropout\n",
    "from keras.layers.convolutional import Conv3D, MaxPooling3D\n",
    "from keras.callbacks import ModelCheckpoint, ReduceLROnPlateau\n",
    "from keras import optimizers\n",
    "\n",
    "#write your model here"
   ]
  },
  {
   "cell_type": "markdown",
   "metadata": {},
   "source": [
    "Now that you have written the model, the next step is to `compile` the model. When you print the `summary` of the model, you'll see the total number of parameters you have to train."
   ]
  },
  {
   "cell_type": "code",
   "execution_count": 10,
   "metadata": {},
   "outputs": [],
   "source": [
    "frame = 20\n",
    "rows = 120\n",
    "cols = 120\n",
    "channel_color = 3\n",
    "num_classes = 5"
   ]
  },
  {
   "cell_type": "code",
   "execution_count": 13,
   "metadata": {},
   "outputs": [],
   "source": [
    "model = Sequential()\n",
    "\n",
    "model.add(Conv3D(32, kernel_size = (3,3,3), padding = \"same\", activation = \"relu\" , input_shape = (frame, rows, cols, channel_color)))\n",
    "model.add(BatchNormalization())\n",
    "\n",
    "#HL1\n",
    "model.add(Conv3D(64, kernel_size=(3,3,3), padding='same', activation='relu'))\n",
    "model.add(BatchNormalization())\n",
    "model.add(MaxPooling3D(pool_size=(2, 2, 2)))\n",
    "\n",
    "#HL2\n",
    "model.add(Conv3D(128, kernel_size=(3,3,3), padding='same', activation='relu'))\n",
    "model.add(BatchNormalization())\n",
    "model.add(MaxPooling3D(pool_size=(2, 2, 2)))\n",
    "\n",
    "#Fully connected\n",
    "model.add(Flatten())\n",
    "model.add(Dense(256,  activation = \"relu\"))\n",
    "\n",
    "#output layer\n",
    "model.add(Dense(num_classes, activation = \"softmax\"))\n"
   ]
  },
  {
   "cell_type": "code",
   "execution_count": null,
   "metadata": {},
   "outputs": [],
   "source": []
  },
  {
   "cell_type": "code",
   "execution_count": 14,
   "metadata": {},
   "outputs": [
    {
     "name": "stdout",
     "output_type": "stream",
     "text": [
      "_________________________________________________________________\n",
      "Layer (type)                 Output Shape              Param #   \n",
      "=================================================================\n",
      "conv3d_1 (Conv3D)            (None, 20, 120, 120, 32)  2624      \n",
      "_________________________________________________________________\n",
      "batch_normalization_1 (Batch (None, 20, 120, 120, 32)  128       \n",
      "_________________________________________________________________\n",
      "conv3d_2 (Conv3D)            (None, 20, 120, 120, 64)  55360     \n",
      "_________________________________________________________________\n",
      "batch_normalization_2 (Batch (None, 20, 120, 120, 64)  256       \n",
      "_________________________________________________________________\n",
      "max_pooling3d_1 (MaxPooling3 (None, 10, 60, 60, 64)    0         \n",
      "_________________________________________________________________\n",
      "conv3d_3 (Conv3D)            (None, 10, 60, 60, 128)   221312    \n",
      "_________________________________________________________________\n",
      "batch_normalization_3 (Batch (None, 10, 60, 60, 128)   512       \n",
      "_________________________________________________________________\n",
      "max_pooling3d_2 (MaxPooling3 (None, 5, 30, 30, 128)    0         \n",
      "_________________________________________________________________\n",
      "flatten_1 (Flatten)          (None, 576000)            0         \n",
      "_________________________________________________________________\n",
      "dense_1 (Dense)              (None, 256)               147456256 \n",
      "_________________________________________________________________\n",
      "dense_2 (Dense)              (None, 5)                 1285      \n",
      "=================================================================\n",
      "Total params: 147,737,733\n",
      "Trainable params: 147,737,285\n",
      "Non-trainable params: 448\n",
      "_________________________________________________________________\n",
      "None\n"
     ]
    }
   ],
   "source": [
    "optimiser = \"adam\"#write your optimizer\n",
    "model.compile(optimizer=optimiser, loss='categorical_crossentropy', metrics=['categorical_accuracy'])\n",
    "print (model1.summary())"
   ]
  },
  {
   "cell_type": "markdown",
   "metadata": {},
   "source": [
    "Let us create the `train_generator` and the `val_generator` which will be used in `.fit_generator`."
   ]
  },
  {
   "cell_type": "code",
   "execution_count": 13,
   "metadata": {},
   "outputs": [],
   "source": [
    "train_generator = generator(train_path, train_doc, batch_size)\n",
    "val_generator = generator(val_path, val_doc, batch_size)"
   ]
  },
  {
   "cell_type": "code",
   "execution_count": 14,
   "metadata": {},
   "outputs": [],
   "source": [
    "# generator(train_path, train_doc, batch_size)"
   ]
  },
  {
   "cell_type": "code",
   "execution_count": null,
   "metadata": {},
   "outputs": [],
   "source": []
  },
  {
   "cell_type": "code",
   "execution_count": 15,
   "metadata": {},
   "outputs": [],
   "source": [
    "model_name = 'model_init' + '_' + str(curr_dt_time).replace(' ','').replace(':','_') + '/'\n",
    "    \n",
    "if not os.path.exists(model_name):\n",
    "    os.mkdir(model_name)\n",
    "        \n",
    "filepath = model_name + 'model-{epoch:05d}-{loss:.5f}-{categorical_accuracy:.5f}-{val_loss:.5f}-{val_categorical_accuracy:.5f}.h5'\n",
    "\n",
    "checkpoint = ModelCheckpoint(filepath, monitor='val_loss', verbose=1, save_best_only=True, save_weights_only=False, mode='auto', period=1)\n",
    "\n",
    "# write the REducelronplateau code here\n",
    "LR = ReduceLROnPlateau(monitor = \"val_loss\", fractor = 0.5, patience = 2, cooldown = 1, verbose = 1)\n",
    "callbacks_list = [checkpoint, LR]"
   ]
  },
  {
   "cell_type": "markdown",
   "metadata": {},
   "source": [
    "The `steps_per_epoch` and `validation_steps` are used by `fit_generator` to decide the number of next() calls it need to make."
   ]
  },
  {
   "cell_type": "code",
   "execution_count": 16,
   "metadata": {},
   "outputs": [
    {
     "name": "stdout",
     "output_type": "stream",
     "text": [
      "Train Epoch value:  67\n",
      "Val Epoch value:  10\n"
     ]
    }
   ],
   "source": [
    "if (num_train_sequences%batch_size) == 0:\n",
    "    steps_per_epoch = int(num_train_sequences/batch_size)\n",
    "else:\n",
    "    steps_per_epoch = (num_train_sequences//batch_size) + 1\n",
    "\n",
    "if (num_val_sequences%batch_size) == 0:\n",
    "    validation_steps = int(num_val_sequences/batch_size)\n",
    "else:\n",
    "    validation_steps = (num_val_sequences//batch_size) + 1\n",
    "    \n",
    "    \n",
    "print(\"Train Epoch value: \", steps_per_epoch)\n",
    "print(\"Val Epoch value: \", validation_steps)"
   ]
  },
  {
   "cell_type": "markdown",
   "metadata": {},
   "source": [
    "Let us now fit the model. This will start training the model and with the help of the checkpoints, you'll be able to save the model at the end of each epoch."
   ]
  },
  {
   "cell_type": "code",
   "execution_count": 18,
   "metadata": {},
   "outputs": [
    {
     "name": "stdout",
     "output_type": "stream",
     "text": [
      "Source path =  Project_data/val ; batch size = 10\n",
      "Source path =  Project_data/train ; batch size = 10\n",
      "Epoch 1/10\n",
      "67/67 [==============================] - 188s 3s/step - loss: 12.7439 - categorical_accuracy: 0.2090 - val_loss: 12.7333 - val_categorical_accuracy: 0.2100\n",
      "\n",
      "Epoch 00001: val_loss improved from inf to 12.73330, saving model to model_init_2020-09-1409_08_25.078944/model-00001-12.74389-0.20896-12.73330-0.21000.h5\n",
      "Epoch 2/10\n",
      "67/67 [==============================] - 166s 2s/step - loss: 12.9185 - categorical_accuracy: 0.2075 - val_loss: 12.7333 - val_categorical_accuracy: 0.2100\n",
      "\n",
      "Epoch 00002: val_loss improved from 12.73330 to 12.73330, saving model to model_init_2020-09-1409_08_25.078944/model-00002-12.91853-0.20746-12.73330-0.21000.h5\n",
      "Epoch 3/10\n",
      "67/67 [==============================] - 165s 2s/step - loss: 12.7982 - categorical_accuracy: 0.2060 - val_loss: 12.7333 - val_categorical_accuracy: 0.2100\n",
      "\n",
      "Epoch 00003: val_loss did not improve from 12.73330\n",
      "\n",
      "Epoch 00003: ReduceLROnPlateau reducing learning rate to 0.00010000000474974513.\n",
      "Epoch 4/10\n",
      "67/67 [==============================] - 166s 2s/step - loss: 12.8223 - categorical_accuracy: 0.2104 - val_loss: 12.7333 - val_categorical_accuracy: 0.2100\n",
      "\n",
      "Epoch 00004: val_loss did not improve from 12.73330\n",
      "Epoch 5/10\n",
      "67/67 [==============================] - 166s 2s/step - loss: 12.9185 - categorical_accuracy: 0.2075 - val_loss: 12.7333 - val_categorical_accuracy: 0.2100\n",
      "\n",
      "Epoch 00005: val_loss did not improve from 12.73330\n",
      "\n",
      "Epoch 00005: ReduceLROnPlateau reducing learning rate to 1.0000000474974514e-05.\n",
      "Epoch 6/10\n",
      "67/67 [==============================] - 166s 2s/step - loss: 12.8945 - categorical_accuracy: 0.2060 - val_loss: 12.7333 - val_categorical_accuracy: 0.2100\n",
      "\n",
      "Epoch 00006: val_loss did not improve from 12.73330\n",
      "Epoch 7/10\n",
      "67/67 [==============================] - 166s 2s/step - loss: 12.8464 - categorical_accuracy: 0.2090 - val_loss: 12.7333 - val_categorical_accuracy: 0.2100\n",
      "\n",
      "Epoch 00007: val_loss did not improve from 12.73330\n",
      "\n",
      "Epoch 00007: ReduceLROnPlateau reducing learning rate to 1.0000000656873453e-06.\n",
      "Epoch 8/10\n",
      "67/67 [==============================] - 166s 2s/step - loss: 12.8464 - categorical_accuracy: 0.2060 - val_loss: 12.7333 - val_categorical_accuracy: 0.2100\n",
      "\n",
      "Epoch 00008: val_loss did not improve from 12.73330\n",
      "Epoch 9/10\n",
      "67/67 [==============================] - 165s 2s/step - loss: 12.9666 - categorical_accuracy: 0.2045 - val_loss: 12.7333 - val_categorical_accuracy: 0.2100\n",
      "\n",
      "Epoch 00009: val_loss did not improve from 12.73330\n",
      "\n",
      "Epoch 00009: ReduceLROnPlateau reducing learning rate to 1.0000001111620805e-07.\n",
      "Epoch 10/10\n",
      "67/67 [==============================] - 165s 2s/step - loss: 12.9185 - categorical_accuracy: 0.2075 - val_loss: 12.7333 - val_categorical_accuracy: 0.2100\n",
      "\n",
      "Epoch 00010: val_loss did not improve from 12.73330\n"
     ]
    },
    {
     "data": {
      "text/plain": [
       "<keras.callbacks.History at 0x7f28f8646f60>"
      ]
     },
     "execution_count": 18,
     "metadata": {},
     "output_type": "execute_result"
    }
   ],
   "source": [
    "model.fit_generator(train_generator, steps_per_epoch=steps_per_epoch, epochs=num_epochs, verbose=1, \n",
    "                    callbacks=callbacks_list, validation_data=val_generator, \n",
    "                    validation_steps=validation_steps, class_weight=None, workers=1, initial_epoch=0)"
   ]
  },
  {
   "cell_type": "code",
   "execution_count": null,
   "metadata": {},
   "outputs": [],
   "source": [
    "# train_generator = (x_train, y_train)"
   ]
  },
  {
   "cell_type": "code",
   "execution_count": null,
   "metadata": {},
   "outputs": [],
   "source": [
    "\n"
   ]
  },
  {
   "cell_type": "code",
   "execution_count": null,
   "metadata": {},
   "outputs": [],
   "source": []
  },
  {
   "cell_type": "code",
   "execution_count": 22,
   "metadata": {},
   "outputs": [
    {
     "name": "stdout",
     "output_type": "stream",
     "text": [
      "_________________________________________________________________\n",
      "Layer (type)                 Output Shape              Param #   \n",
      "=================================================================\n",
      "conv3d_8 (Conv3D)            (None, 20, 120, 120, 16)  1312      \n",
      "_________________________________________________________________\n",
      "batch_normalization_8 (Batch (None, 20, 120, 120, 16)  64        \n",
      "_________________________________________________________________\n",
      "max_pooling3d_7 (MaxPooling3 (None, 10, 60, 60, 16)    0         \n",
      "_________________________________________________________________\n",
      "conv3d_9 (Conv3D)            (None, 10, 60, 60, 32)    13856     \n",
      "_________________________________________________________________\n",
      "batch_normalization_9 (Batch (None, 10, 60, 60, 32)    128       \n",
      "_________________________________________________________________\n",
      "max_pooling3d_8 (MaxPooling3 (None, 5, 30, 30, 32)     0         \n",
      "_________________________________________________________________\n",
      "dropout_3 (Dropout)          (None, 5, 30, 30, 32)     0         \n",
      "_________________________________________________________________\n",
      "conv3d_10 (Conv3D)           (None, 5, 30, 30, 64)     55360     \n",
      "_________________________________________________________________\n",
      "batch_normalization_10 (Batc (None, 5, 30, 30, 64)     256       \n",
      "_________________________________________________________________\n",
      "max_pooling3d_9 (MaxPooling3 (None, 2, 15, 15, 64)     0         \n",
      "_________________________________________________________________\n",
      "dropout_4 (Dropout)          (None, 2, 15, 15, 64)     0         \n",
      "_________________________________________________________________\n",
      "conv3d_11 (Conv3D)           (None, 2, 15, 15, 128)    221312    \n",
      "_________________________________________________________________\n",
      "batch_normalization_11 (Batc (None, 2, 15, 15, 128)    512       \n",
      "_________________________________________________________________\n",
      "max_pooling3d_10 (MaxPooling (None, 1, 7, 7, 128)      0         \n",
      "_________________________________________________________________\n",
      "flatten_3 (Flatten)          (None, 6272)              0         \n",
      "_________________________________________________________________\n",
      "dense_3 (Dense)              (None, 512)               3211776   \n",
      "_________________________________________________________________\n",
      "dropout_5 (Dropout)          (None, 512)               0         \n",
      "_________________________________________________________________\n",
      "dense_4 (Dense)              (None, 5)                 2565      \n",
      "=================================================================\n",
      "Total params: 3,507,141\n",
      "Trainable params: 3,506,661\n",
      "Non-trainable params: 480\n",
      "_________________________________________________________________\n",
      "None\n"
     ]
    }
   ],
   "source": [
    "#Let's try 'sgd' as optimizer on same architecture with 25 epochs\n",
    "\n",
    "model = Sequential()\n",
    "\n",
    "\n",
    "model.add(Conv3D(16, kernel_size=(3,3,3), padding='same', activation='relu',input_shape = (20,120,120,3)))\n",
    "model.add(BatchNormalization())\n",
    "model.add(MaxPooling3D(pool_size=(2, 2, 2)))\n",
    "\n",
    "model.add(Conv3D(32, kernel_size=(3,3,3), padding='same', activation='relu'))\n",
    "model.add(BatchNormalization())\n",
    "model.add(MaxPooling3D(pool_size=(2, 2, 2)))\n",
    "model.add(Dropout(0.25))\n",
    "\n",
    "model.add(Conv3D(64, kernel_size=(3,3,3), padding='same', activation='relu'))\n",
    "model.add(BatchNormalization())\n",
    "model.add(MaxPooling3D(pool_size=(2, 2, 2)))\n",
    "model.add(Dropout(0.25))\n",
    "\n",
    "model.add(Conv3D(128, kernel_size=(3,3,3), padding='same', activation='relu'))\n",
    "model.add(BatchNormalization())\n",
    "model.add(MaxPooling3D(pool_size=(2, 2, 2)))\n",
    "\n",
    "model.add(Flatten())\n",
    "model.add(Dense(512,kernel_regularizer=l2(0.01),activation='relu'))\n",
    "model.add(Dropout(0.50))\n",
    "\n",
    "\n",
    "\n",
    "model.add(Dense(5, activation = 'softmax'))\n",
    "\n",
    "optimiser = 'sgd'\n",
    "model.compile(optimizer=optimiser, loss='categorical_crossentropy', metrics=['categorical_accuracy'])\n",
    "print (model.summary())"
   ]
  },
  {
   "cell_type": "code",
   "execution_count": 23,
   "metadata": {},
   "outputs": [
    {
     "name": "stdout",
     "output_type": "stream",
     "text": [
      "Epoch 1/10\n",
      "67/67 [==============================] - 38s 573ms/step - loss: 22.5259 - categorical_accuracy: 0.1716 - val_loss: 22.5975 - val_categorical_accuracy: 0.1600\n",
      "\n",
      "Epoch 00001: val_loss did not improve from 12.73330\n",
      "Epoch 2/10\n",
      "67/67 [==============================] - 36s 530ms/step - loss: 22.3622 - categorical_accuracy: 0.1791 - val_loss: 22.3306 - val_categorical_accuracy: 0.1600\n",
      "\n",
      "Epoch 00002: val_loss did not improve from 12.73330\n",
      "Epoch 3/10\n",
      "67/67 [==============================] - 36s 534ms/step - loss: 21.9530 - categorical_accuracy: 0.1910 - val_loss: 22.0927 - val_categorical_accuracy: 0.1600\n",
      "\n",
      "Epoch 00003: val_loss did not improve from 12.73330\n",
      "Epoch 4/10\n",
      "67/67 [==============================] - 35s 525ms/step - loss: 21.7426 - categorical_accuracy: 0.1881 - val_loss: 21.8636 - val_categorical_accuracy: 0.1600\n",
      "\n",
      "Epoch 00004: val_loss did not improve from 12.73330\n",
      "Epoch 5/10\n",
      "67/67 [==============================] - 37s 548ms/step - loss: 20.9587 - categorical_accuracy: 0.2000 - val_loss: 19.7209 - val_categorical_accuracy: 0.2200\n",
      "\n",
      "Epoch 00005: val_loss did not improve from 12.73330\n",
      "Epoch 6/10\n",
      "67/67 [==============================] - 37s 556ms/step - loss: 13.1155 - categorical_accuracy: 0.3761 - val_loss: 17.3013 - val_categorical_accuracy: 0.2000\n",
      "\n",
      "Epoch 00006: val_loss did not improve from 12.73330\n",
      "Epoch 7/10\n",
      "67/67 [==============================] - 37s 559ms/step - loss: 9.4519 - categorical_accuracy: 0.5358 - val_loss: 9.3625 - val_categorical_accuracy: 0.5000\n",
      "\n",
      "Epoch 00007: val_loss improved from 12.73330 to 9.36246, saving model to model_init_2020-09-1409_08_25.078944/model-00007-9.45186-0.53582-9.36246-0.50000.h5\n",
      "Epoch 8/10\n",
      "67/67 [==============================] - 35s 519ms/step - loss: 8.8167 - categorical_accuracy: 0.6209 - val_loss: 9.0042 - val_categorical_accuracy: 0.5700\n",
      "\n",
      "Epoch 00008: val_loss improved from 9.36246 to 9.00421, saving model to model_init_2020-09-1409_08_25.078944/model-00008-8.81672-0.62090-9.00421-0.57000.h5\n",
      "Epoch 9/10\n",
      "67/67 [==============================] - 36s 536ms/step - loss: 8.6178 - categorical_accuracy: 0.6313 - val_loss: 8.6152 - val_categorical_accuracy: 0.6000\n",
      "\n",
      "Epoch 00009: val_loss improved from 9.00421 to 8.61515, saving model to model_init_2020-09-1409_08_25.078944/model-00009-8.61779-0.63134-8.61515-0.60000.h5\n",
      "Epoch 10/10\n",
      "67/67 [==============================] - 35s 529ms/step - loss: 8.2560 - categorical_accuracy: 0.6672 - val_loss: 8.5767 - val_categorical_accuracy: 0.6100\n",
      "\n",
      "Epoch 00010: val_loss improved from 8.61515 to 8.57670, saving model to model_init_2020-09-1409_08_25.078944/model-00010-8.25598-0.66716-8.57670-0.61000.h5\n"
     ]
    },
    {
     "data": {
      "text/plain": [
       "<keras.callbacks.History at 0x7f28e9b99390>"
      ]
     },
     "execution_count": 23,
     "metadata": {},
     "output_type": "execute_result"
    }
   ],
   "source": [
    "model.fit_generator(train_generator, steps_per_epoch=steps_per_epoch, epochs=num_epochs, verbose=1, \n",
    "                    callbacks=callbacks_list, validation_data=val_generator, \n",
    "                    validation_steps=validation_steps, class_weight=None, workers=1, initial_epoch=0)"
   ]
  },
  {
   "cell_type": "code",
   "execution_count": null,
   "metadata": {},
   "outputs": [],
   "source": []
  },
  {
   "cell_type": "markdown",
   "metadata": {},
   "source": [
    "Model - 2 "
   ]
  },
  {
   "cell_type": "code",
   "execution_count": 27,
   "metadata": {},
   "outputs": [
    {
     "name": "stdout",
     "output_type": "stream",
     "text": [
      "_________________________________________________________________\n",
      "Layer (type)                 Output Shape              Param #   \n",
      "=================================================================\n",
      "conv3d_12 (Conv3D)           (None, 20, 120, 120, 16)  400       \n",
      "_________________________________________________________________\n",
      "batch_normalization_12 (Batc (None, 20, 120, 120, 16)  64        \n",
      "_________________________________________________________________\n",
      "max_pooling3d_11 (MaxPooling (None, 10, 60, 60, 16)    0         \n",
      "_________________________________________________________________\n",
      "conv3d_13 (Conv3D)           (None, 10, 60, 60, 32)    4128      \n",
      "_________________________________________________________________\n",
      "batch_normalization_13 (Batc (None, 10, 60, 60, 32)    128       \n",
      "_________________________________________________________________\n",
      "max_pooling3d_12 (MaxPooling (None, 5, 30, 30, 32)     0         \n",
      "_________________________________________________________________\n",
      "dropout_6 (Dropout)          (None, 5, 30, 30, 32)     0         \n",
      "_________________________________________________________________\n",
      "conv3d_14 (Conv3D)           (None, 5, 30, 30, 64)     16448     \n",
      "_________________________________________________________________\n",
      "batch_normalization_14 (Batc (None, 5, 30, 30, 64)     256       \n",
      "_________________________________________________________________\n",
      "max_pooling3d_13 (MaxPooling (None, 2, 15, 15, 64)     0         \n",
      "_________________________________________________________________\n",
      "dropout_7 (Dropout)          (None, 2, 15, 15, 64)     0         \n",
      "_________________________________________________________________\n",
      "conv3d_15 (Conv3D)           (None, 2, 15, 15, 128)    65664     \n",
      "_________________________________________________________________\n",
      "batch_normalization_15 (Batc (None, 2, 15, 15, 128)    512       \n",
      "_________________________________________________________________\n",
      "max_pooling3d_14 (MaxPooling (None, 1, 7, 7, 128)      0         \n",
      "_________________________________________________________________\n",
      "flatten_4 (Flatten)          (None, 6272)              0         \n",
      "_________________________________________________________________\n",
      "dense_5 (Dense)              (None, 512)               3211776   \n",
      "_________________________________________________________________\n",
      "dropout_8 (Dropout)          (None, 512)               0         \n",
      "_________________________________________________________________\n",
      "dense_6 (Dense)              (None, 5)                 2565      \n",
      "=================================================================\n",
      "Total params: 3,301,941\n",
      "Trainable params: 3,301,461\n",
      "Non-trainable params: 480\n",
      "_________________________________________________________________\n",
      "None\n"
     ]
    }
   ],
   "source": [
    "#Let's try reducing the filter \n",
    "# Added Batch normalization to each layer\n",
    "#\n",
    "\n",
    "\n",
    "\n",
    "model2 = Sequential()\n",
    "\n",
    "\n",
    "model2.add(Conv3D(16, kernel_size=(2,2,2), padding='same', activation='relu',input_shape = (20,120,120,3)))\n",
    "model2.add(BatchNormalization())\n",
    "model2.add(MaxPooling3D(pool_size=(2, 2, 2)))\n",
    "\n",
    "model2.add(Conv3D(32, kernel_size=(2,2,2), padding='same', activation='relu'))\n",
    "model2.add(BatchNormalization())\n",
    "model2.add(MaxPooling3D(pool_size=(2, 2, 2)))\n",
    "model2.add(Dropout(0.25))\n",
    "\n",
    "model2.add(Conv3D(64, kernel_size=(2,2,2), padding='same', activation='relu'))\n",
    "model2.add(BatchNormalization())\n",
    "model2.add(MaxPooling3D(pool_size=(2, 2, 2)))\n",
    "model2.add(Dropout(0.25))\n",
    "\n",
    "model2.add(Conv3D(128, kernel_size=(2,2,2), padding='same', activation='relu'))\n",
    "model2.add(BatchNormalization())\n",
    "model2.add(MaxPooling3D(pool_size=(2, 2, 2)))\n",
    "\n",
    "model2.add(Flatten())\n",
    "model2.add(Dense(512,kernel_regularizer=l2(0.01),activation='relu'))\n",
    "model2.add(Dropout(0.50))\n",
    "\n",
    "\n",
    "\n",
    "model2.add(Dense(5, activation = 'softmax'))\n",
    "\n",
    "optimiser = 'adam'\n",
    "model2.compile(optimizer=optimiser, loss='categorical_crossentropy', metrics=['categorical_accuracy'])\n",
    "print (model.summary())"
   ]
  },
  {
   "cell_type": "code",
   "execution_count": 28,
   "metadata": {},
   "outputs": [
    {
     "name": "stdout",
     "output_type": "stream",
     "text": [
      "Epoch 1/10\n",
      "67/67 [==============================] - 40s 593ms/step - loss: 18.4878 - categorical_accuracy: 0.2060 - val_loss: 16.1097 - val_categorical_accuracy: 0.2200\n",
      "\n",
      "Epoch 00001: val_loss did not improve from 8.53787\n",
      "Epoch 2/10\n",
      "67/67 [==============================] - 36s 542ms/step - loss: 15.2815 - categorical_accuracy: 0.2104 - val_loss: 14.4870 - val_categorical_accuracy: 0.2100\n",
      "\n",
      "Epoch 00002: val_loss did not improve from 8.53787\n",
      "Epoch 3/10\n",
      "67/67 [==============================] - 36s 533ms/step - loss: 14.0574 - categorical_accuracy: 0.2134 - val_loss: 13.1881 - val_categorical_accuracy: 0.2400\n",
      "\n",
      "Epoch 00003: val_loss did not improve from 8.53787\n",
      "Epoch 4/10\n",
      "67/67 [==============================] - 36s 540ms/step - loss: 13.7596 - categorical_accuracy: 0.1940 - val_loss: 12.7583 - val_categorical_accuracy: 0.2200\n",
      "\n",
      "Epoch 00004: val_loss did not improve from 8.53787\n",
      "Epoch 5/10\n",
      "67/67 [==============================] - 36s 540ms/step - loss: 13.1404 - categorical_accuracy: 0.2149 - val_loss: 11.2952 - val_categorical_accuracy: 0.2400\n",
      "\n",
      "Epoch 00005: val_loss did not improve from 8.53787\n",
      "Epoch 6/10\n",
      "67/67 [==============================] - 36s 530ms/step - loss: 13.6927 - categorical_accuracy: 0.1970 - val_loss: 15.6624 - val_categorical_accuracy: 0.1500\n",
      "\n",
      "Epoch 00006: val_loss did not improve from 8.53787\n",
      "Epoch 7/10\n",
      "67/67 [==============================] - 35s 528ms/step - loss: 14.4889 - categorical_accuracy: 0.1836 - val_loss: 14.8381 - val_categorical_accuracy: 0.1400\n",
      "\n",
      "Epoch 00007: val_loss did not improve from 8.53787\n",
      "\n",
      "Epoch 00007: ReduceLROnPlateau reducing learning rate to 0.00010000000474974513.\n",
      "Epoch 8/10\n",
      "67/67 [==============================] - 35s 523ms/step - loss: 13.4516 - categorical_accuracy: 0.2254 - val_loss: 11.8973 - val_categorical_accuracy: 0.3000\n",
      "\n",
      "Epoch 00008: val_loss did not improve from 8.53787\n",
      "Epoch 9/10\n",
      "67/67 [==============================] - 36s 540ms/step - loss: 12.4035 - categorical_accuracy: 0.2701 - val_loss: 14.2420 - val_categorical_accuracy: 0.1800\n",
      "\n",
      "Epoch 00009: val_loss did not improve from 8.53787\n",
      "\n",
      "Epoch 00009: ReduceLROnPlateau reducing learning rate to 1.0000000474974514e-05.\n",
      "Epoch 10/10\n",
      "67/67 [==============================] - 36s 543ms/step - loss: 12.6629 - categorical_accuracy: 0.2612 - val_loss: 13.1232 - val_categorical_accuracy: 0.2300\n",
      "\n",
      "Epoch 00010: val_loss did not improve from 8.53787\n"
     ]
    },
    {
     "data": {
      "text/plain": [
       "<keras.callbacks.History at 0x7f28e8c78940>"
      ]
     },
     "execution_count": 28,
     "metadata": {},
     "output_type": "execute_result"
    }
   ],
   "source": [
    "model2.fit_generator(train_generator, steps_per_epoch=steps_per_epoch, epochs=num_epochs, verbose=1, \n",
    "                    callbacks=callbacks_list, validation_data=val_generator, \n",
    "                    validation_steps=validation_steps, class_weight=None, workers=1, initial_epoch=0)"
   ]
  },
  {
   "cell_type": "code",
   "execution_count": null,
   "metadata": {},
   "outputs": [],
   "source": []
  },
  {
   "cell_type": "markdown",
   "metadata": {},
   "source": [
    "\n",
    "MODEL-4 \n",
    "\n",
    "\n"
   ]
  },
  {
   "cell_type": "code",
   "execution_count": 11,
   "metadata": {},
   "outputs": [
    {
     "name": "stdout",
     "output_type": "stream",
     "text": [
      "_________________________________________________________________\n",
      "Layer (type)                 Output Shape              Param #   \n",
      "=================================================================\n",
      "conv3d_1 (Conv3D)            (None, 20, 120, 120, 16)  1312      \n",
      "_________________________________________________________________\n",
      "batch_normalization_1 (Batch (None, 20, 120, 120, 16)  64        \n",
      "_________________________________________________________________\n",
      "max_pooling3d_1 (MaxPooling3 (None, 10, 60, 60, 16)    0         \n",
      "_________________________________________________________________\n",
      "conv3d_2 (Conv3D)            (None, 10, 60, 60, 32)    13856     \n",
      "_________________________________________________________________\n",
      "batch_normalization_2 (Batch (None, 10, 60, 60, 32)    128       \n",
      "_________________________________________________________________\n",
      "conv3d_3 (Conv3D)            (None, 10, 60, 60, 32)    27680     \n",
      "_________________________________________________________________\n",
      "batch_normalization_3 (Batch (None, 10, 60, 60, 32)    128       \n",
      "_________________________________________________________________\n",
      "max_pooling3d_2 (MaxPooling3 (None, 5, 30, 30, 32)     0         \n",
      "_________________________________________________________________\n",
      "conv3d_4 (Conv3D)            (None, 5, 30, 30, 64)     55360     \n",
      "_________________________________________________________________\n",
      "batch_normalization_4 (Batch (None, 5, 30, 30, 64)     256       \n",
      "_________________________________________________________________\n",
      "conv3d_5 (Conv3D)            (None, 5, 30, 30, 64)     110656    \n",
      "_________________________________________________________________\n",
      "batch_normalization_5 (Batch (None, 5, 30, 30, 64)     256       \n",
      "_________________________________________________________________\n",
      "max_pooling3d_3 (MaxPooling3 (None, 2, 15, 15, 64)     0         \n",
      "_________________________________________________________________\n",
      "conv3d_6 (Conv3D)            (None, 2, 15, 15, 128)    221312    \n",
      "_________________________________________________________________\n",
      "batch_normalization_6 (Batch (None, 2, 15, 15, 128)    512       \n",
      "_________________________________________________________________\n",
      "conv3d_7 (Conv3D)            (None, 2, 15, 15, 128)    442496    \n",
      "_________________________________________________________________\n",
      "batch_normalization_7 (Batch (None, 2, 15, 15, 128)    512       \n",
      "_________________________________________________________________\n",
      "max_pooling3d_4 (MaxPooling3 (None, 1, 7, 7, 128)      0         \n",
      "_________________________________________________________________\n",
      "flatten_1 (Flatten)          (None, 6272)              0         \n",
      "_________________________________________________________________\n",
      "dense_1 (Dense)              (None, 256)               1605888   \n",
      "_________________________________________________________________\n",
      "dropout_1 (Dropout)          (None, 256)               0         \n",
      "_________________________________________________________________\n",
      "dense_2 (Dense)              (None, 5)                 1285      \n",
      "=================================================================\n",
      "Total params: 2,481,701\n",
      "Trainable params: 2,480,773\n",
      "Non-trainable params: 928\n",
      "_________________________________________________________________\n",
      "None\n"
     ]
    }
   ],
   "source": [
    "# Adding more layer to the architecture \n",
    "\n",
    "model = Sequential()\n",
    "\n",
    "\n",
    "model.add(Conv3D(16, kernel_size=(3,3,3), padding='same', activation='relu',input_shape = (20,120,120,3)))\n",
    "model.add(BatchNormalization())\n",
    "\n",
    "model.add(MaxPooling3D(pool_size=(2, 2, 2)))\n",
    "## h1,2\n",
    "model.add(Conv3D(32, kernel_size=(3,3,3), padding='same', activation='relu'))\n",
    "model.add(BatchNormalization())\n",
    "\n",
    "model.add(Conv3D(32, kernel_size=(3,3,3), padding='same', activation='relu'))\n",
    "model.add(BatchNormalization())\n",
    "\n",
    "model.add(MaxPooling3D(pool_size=(2, 2, 2)))\n",
    "\n",
    "## h3,4\n",
    "model.add(Conv3D(64, kernel_size=(3,3,3), padding='same', activation='relu'))\n",
    "model.add(BatchNormalization())\n",
    "\n",
    "\n",
    "model.add(Conv3D(64, kernel_size=(3,3,3), padding='same', activation='relu'))\n",
    "model.add(BatchNormalization())\n",
    "\n",
    "model.add(MaxPooling3D(pool_size=(2, 2, 2)))\n",
    "\n",
    "## h5,6\n",
    "model.add(Conv3D(128, kernel_size=(3,3,3), padding='same', activation='relu'))\n",
    "model.add(BatchNormalization())\n",
    "\n",
    "model.add(Conv3D(128, kernel_size=(3,3,3), padding='same', activation='relu'))\n",
    "model.add(BatchNormalization())\n",
    "\n",
    "model.add(MaxPooling3D(pool_size=(2, 2, 2)))\n",
    "\n",
    "model.add(Flatten())\n",
    "model.add(Dense(256,kernel_regularizer=l2(0.01),activation='relu'))\n",
    "model.add(Dropout(0.50))\n",
    "\n",
    "model.add(Dense(5, activation = 'softmax'))\n",
    "\n",
    "optimiser = 'sgd'\n",
    "model.compile(optimizer=optimiser, loss='categorical_crossentropy', metrics=['categorical_accuracy'])\n",
    "print (model.summary())"
   ]
  },
  {
   "cell_type": "code",
   "execution_count": 17,
   "metadata": {},
   "outputs": [
    {
     "name": "stdout",
     "output_type": "stream",
     "text": [
      "Source path = Source path =  Project_data/train ; batch size = 10\n",
      "Epoch 1/10 Project_data/val ; batch size = 10\n",
      "\n",
      "67/67 [==============================] - 168s 3s/step - loss: 12.1068 - categorical_accuracy: 0.2537 - val_loss: 9.5518 - val_categorical_accuracy: 0.2500\n",
      "\n",
      "Epoch 00001: val_loss improved from inf to 9.55178, saving model to model_init_2020-09-1412_55_21.501249/model-00001-12.10685-0.25373-9.55178-0.25000.h5\n",
      "Epoch 2/10\n",
      "67/67 [==============================] - 39s 581ms/step - loss: 6.4202 - categorical_accuracy: 0.4000 - val_loss: 5.9225 - val_categorical_accuracy: 0.4900\n",
      "\n",
      "Epoch 00002: val_loss improved from 9.55178 to 5.92254, saving model to model_init_2020-09-1412_55_21.501249/model-00002-6.42019-0.40000-5.92254-0.49000.h5\n",
      "Epoch 3/10\n",
      "67/67 [==============================] - 38s 569ms/step - loss: 5.8692 - categorical_accuracy: 0.5060 - val_loss: 6.0159 - val_categorical_accuracy: 0.3600\n",
      "\n",
      "Epoch 00003: val_loss did not improve from 5.92254\n",
      "Epoch 4/10\n",
      "67/67 [==============================] - 38s 566ms/step - loss: 5.6167 - categorical_accuracy: 0.5731 - val_loss: 5.4583 - val_categorical_accuracy: 0.6300\n",
      "\n",
      "Epoch 00004: val_loss improved from 5.92254 to 5.45827, saving model to model_init_2020-09-1412_55_21.501249/model-00004-5.61669-0.57313-5.45827-0.63000.h5\n",
      "Epoch 5/10\n",
      "67/67 [==============================] - 39s 581ms/step - loss: 5.4155 - categorical_accuracy: 0.6239 - val_loss: 5.5622 - val_categorical_accuracy: 0.5000\n",
      "\n",
      "Epoch 00005: val_loss did not improve from 5.45827\n",
      "Epoch 6/10\n",
      "67/67 [==============================] - 39s 583ms/step - loss: 5.2221 - categorical_accuracy: 0.6776 - val_loss: 5.1688 - val_categorical_accuracy: 0.6400\n",
      "\n",
      "Epoch 00006: val_loss improved from 5.45827 to 5.16881, saving model to model_init_2020-09-1412_55_21.501249/model-00006-5.22206-0.67761-5.16881-0.64000.h5\n",
      "Epoch 7/10\n",
      "67/67 [==============================] - 39s 583ms/step - loss: 4.9951 - categorical_accuracy: 0.7149 - val_loss: 5.1028 - val_categorical_accuracy: 0.6100\n",
      "\n",
      "Epoch 00007: val_loss improved from 5.16881 to 5.10275, saving model to model_init_2020-09-1412_55_21.501249/model-00007-4.99506-0.71493-5.10275-0.61000.h5\n",
      "Epoch 8/10\n",
      "67/67 [==============================] - 38s 569ms/step - loss: 4.7995 - categorical_accuracy: 0.7373 - val_loss: 5.2644 - val_categorical_accuracy: 0.5500\n",
      "\n",
      "Epoch 00008: val_loss did not improve from 5.10275\n",
      "Epoch 9/10\n",
      "67/67 [==============================] - 38s 571ms/step - loss: 4.5845 - categorical_accuracy: 0.7866 - val_loss: 4.8027 - val_categorical_accuracy: 0.6400\n",
      "\n",
      "Epoch 00009: val_loss improved from 5.10275 to 4.80272, saving model to model_init_2020-09-1412_55_21.501249/model-00009-4.58453-0.78657-4.80272-0.64000.h5\n",
      "Epoch 10/10\n",
      "67/67 [==============================] - 39s 578ms/step - loss: 4.5113 - categorical_accuracy: 0.7687 - val_loss: 4.9688 - val_categorical_accuracy: 0.5700\n",
      "\n",
      "Epoch 00010: val_loss did not improve from 4.80272\n"
     ]
    },
    {
     "data": {
      "text/plain": [
       "<keras.callbacks.History at 0x7f5eda3785f8>"
      ]
     },
     "execution_count": 17,
     "metadata": {},
     "output_type": "execute_result"
    }
   ],
   "source": [
    "\n",
    "model.fit_generator(train_generator, steps_per_epoch=steps_per_epoch, epochs=num_epochs, verbose=1, \n",
    "                    callbacks=callbacks_list, validation_data=val_generator, \n",
    "                    validation_steps=validation_steps, class_weight=None, workers=1, initial_epoch=0)"
   ]
  },
  {
   "cell_type": "code",
   "execution_count": null,
   "metadata": {},
   "outputs": [],
   "source": []
  },
  {
   "cell_type": "code",
   "execution_count": null,
   "metadata": {},
   "outputs": [],
   "source": []
  },
  {
   "cell_type": "markdown",
   "metadata": {},
   "source": [
    "MODEL -5 "
   ]
  },
  {
   "cell_type": "code",
   "execution_count": null,
   "metadata": {},
   "outputs": [],
   "source": []
  }
 ],
 "metadata": {
  "kernelspec": {
   "display_name": "Python 3",
   "language": "python",
   "name": "python3"
  },
  "language_info": {
   "codemirror_mode": {
    "name": "ipython",
    "version": 3
   },
   "file_extension": ".py",
   "mimetype": "text/x-python",
   "name": "python",
   "nbconvert_exporter": "python",
   "pygments_lexer": "ipython3",
   "version": "3.7.7"
  }
 },
 "nbformat": 4,
 "nbformat_minor": 2
}
